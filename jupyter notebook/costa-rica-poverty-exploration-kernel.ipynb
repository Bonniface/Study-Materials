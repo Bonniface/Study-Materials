{
 "cells": [
  {
   "cell_type": "markdown",
   "metadata": {
    "_uuid": "7075ef14322bc143399d7e9251083e0b63a4ae35"
   },
   "source": [
    "## Exploration Kernel - Costa Rica Poverty\n",
    "\n",
    "Many social programs have a hard time making sure the right people are given enough aid. It’s especially tricky when a program focuses on the poorest segment of the population. The world’s poorest typically can’t provide the necessary income and expense records to prove that they qualify. Beyond Costa Rica, many countries face this same problem of inaccurately assessing social need. \n",
    "\n",
    "A popular algorithm called the Proxy Means Test (or PMT) is used to verify income qualification along with family’s observable household attributes like the material of their walls and ceiling, or the assets found in the home to classify them and predict their level of need. This is an improvement but accuracy remains a problem as the region’s population grows and poverty declines.\n",
    "\n",
    "In this [competition](https://www.kaggle.com/c/costa-rican-household-poverty-prediction), the dataset is shared with similar attributes with an aim to improve the accuracy of household poverty prediction. In this kernel, I have performed exploration, feature engineering, and baseline model.  "
   ]
  },
  {
   "cell_type": "code",
   "execution_count": null,
   "metadata": {
    "_kg_hide-input": true,
    "_uuid": "adda4d60c2d4376084e4a1ea8cae570e4efc9543"
   },
   "outputs": [],
   "source": [
    "from plotly.offline import init_notebook_mode, iplot\n",
    "import plotly.graph_objs as go\n",
    "import plotly.plotly as py\n",
    "from plotly import tools\n",
    "from datetime import date\n",
    "import pandas as pd\n",
    "import numpy as np \n",
    "import plotly.figure_factory as ff\n",
    "\n",
    "from sklearn.model_selection import train_test_split\n",
    "from sklearn.preprocessing import LabelEncoder\n",
    "import lightgbm as lgb\n",
    "\n",
    "import matplotlib.pyplot as plt\n",
    "import seaborn as sns\n",
    "import random \n",
    "import warnings\n",
    "import operator\n",
    "warnings.filterwarnings(\"ignore\")\n",
    "init_notebook_mode(connected=True)"
   ]
  },
  {
   "cell_type": "markdown",
   "metadata": {
    "_uuid": "c577e5afd88687e1978b64007e887737dfe149a8"
   },
   "source": [
    "<hr>\n",
    "## Part A : Exploration\n",
    "<hr>\n",
    "\n",
    "## 1. Dataset Preparation\n",
    "\n",
    "Lets view the snapshot of the dataset which is given for training and testing purposes"
   ]
  },
  {
   "cell_type": "code",
   "execution_count": null,
   "metadata": {
    "_kg_hide-input": true,
    "_uuid": "e68912dbeb0550ea825c58914f886dcea37ac76f"
   },
   "outputs": [],
   "source": [
    "train = pd.read_csv(\"../input/train.csv\")\n",
    "test = pd.read_csv(\"../input/test.csv\")\n",
    "\n",
    "print (\"Train Dataset: Rows, Columns: \", train.shape)\n",
    "print (\"Test Dataset: Rows, Columns: \", test.shape)"
   ]
  },
  {
   "cell_type": "code",
   "execution_count": null,
   "metadata": {
    "_kg_hide-input": true,
    "_uuid": "0cbdf023d467b4446b4a6b6dedd3df599d5d4d73",
    "collapsed": true
   },
   "outputs": [],
   "source": [
    "print (\"Glimpse of Train Dataset: \")\n",
    "train.head()"
   ]
  },
  {
   "cell_type": "code",
   "execution_count": null,
   "metadata": {
    "_kg_hide-input": true,
    "_uuid": "fb6076c098f28179be9700cae9fa5e1a123aef93",
    "collapsed": true
   },
   "outputs": [],
   "source": [
    "print (\"Summary of Train Dataset: \")\n",
    "train.describe()"
   ]
  },
  {
   "cell_type": "code",
   "execution_count": null,
   "metadata": {
    "_kg_hide-input": true,
    "_uuid": "ced3ac0386f60f94fc18e8da6e0dba6647d696bd",
    "collapsed": true
   },
   "outputs": [],
   "source": [
    "print (\"Top Columns having missing values\")\n",
    "missmap = train.isnull().sum().to_frame()\n",
    "missmap = missmap.sort_values(0, ascending = False)\n",
    "missmap.head()"
   ]
  },
  {
   "cell_type": "markdown",
   "metadata": {
    "_uuid": "b81c28d2222f279440607223b2ed26c4786688f3"
   },
   "source": [
    "## 2. Different Levels of Poverty Household Groups "
   ]
  },
  {
   "cell_type": "code",
   "execution_count": null,
   "metadata": {
    "_kg_hide-input": true,
    "_uuid": "eb8c9b9104f05126fefb6847f3cbe3efac7fffb6",
    "collapsed": true
   },
   "outputs": [],
   "source": [
    "target = train['Target'].value_counts().to_frame()\n",
    "levels = [\"NonVulnerable\", \"Moderate Poverty\", \"Vulnerable\", \"Extereme Poverty\"]\n",
    "trace = go.Bar(y=target.Target, x=levels, marker=dict(color='orange', opacity=0.6))\n",
    "layout = dict(title=\"Household Poverty Levels\", margin=dict(l=200), width=800, height=400)\n",
    "data = [trace]\n",
    "fig = go.Figure(data=data, layout=layout)\n",
    "iplot(fig)"
   ]
  },
  {
   "cell_type": "markdown",
   "metadata": {
    "_uuid": "87f3b664defa56396ec98b09c0071203281e5755"
   },
   "source": [
    "## 3. What do households own ?"
   ]
  },
  {
   "cell_type": "code",
   "execution_count": null,
   "metadata": {
    "_kg_hide-input": true,
    "_uuid": "fab1278837bf173e0bd30736b4b4f9b73c65eb3b",
    "collapsed": true
   },
   "outputs": [],
   "source": [
    "def compare_plot(col, title):\n",
    "    tr1 = train[train['Target'] == 1][col].value_counts().to_dict()\n",
    "    tr2 = train[train['Target'] == 2][col].value_counts().to_dict()\n",
    "    tr3 = train[train['Target'] == 3][col].value_counts().to_dict()\n",
    "    tr4 = train[train['Target'] == 4][col].value_counts().to_dict()\n",
    "    \n",
    "    xx = ['Extereme', 'Moderate', 'Vulnerable', 'NonVulnerable']\n",
    "    trace1 = go.Bar(y=[tr1[0], tr2[0], tr3[0], tr4[0]], name=\"Not Present\", x=xx, marker=dict(color=\"orange\", opacity=0.6))\n",
    "    trace2 = go.Bar(y=[tr1[1], tr2[1], tr3[1], tr4[1]], name=\"Present\", x=xx, marker=dict(color=\"purple\", opacity=0.6))\n",
    "    \n",
    "    return trace1, trace2 \n",
    "    \n",
    "tr1, tr2 = compare_plot(\"v18q\", \"Tablet\")\n",
    "tr3, tr4 = compare_plot(\"refrig\", \"Refrigirator\")\n",
    "tr5, tr6 = compare_plot(\"computer\", \"Computer\")\n",
    "tr7, tr8 = compare_plot(\"television\", \"Television\")\n",
    "tr9, tr10 = compare_plot(\"mobilephone\", \"MobilePhone\")\n",
    "titles = [\"Tablet\", \"Refrigirator\", \"Computer\", \"Television\", \"MobilePhone\"]\n",
    "\n",
    "fig = tools.make_subplots(rows=3, cols=2, print_grid=False, subplot_titles=titles)\n",
    "fig.append_trace(tr1, 1, 1)\n",
    "fig.append_trace(tr2, 1, 1)\n",
    "fig.append_trace(tr3, 1, 2)\n",
    "fig.append_trace(tr4, 1, 2)\n",
    "fig.append_trace(tr5, 2, 1)\n",
    "fig.append_trace(tr6, 2, 1)\n",
    "fig.append_trace(tr7, 2, 2)\n",
    "fig.append_trace(tr8, 2, 2)\n",
    "fig.append_trace(tr9, 3, 1)\n",
    "fig.append_trace(tr10, 3, 1)\n",
    "\n",
    "fig['layout'].update(height=1000, title=\"What do Households Own\", barmode=\"stack\", showlegend=False)\n",
    "iplot(fig)"
   ]
  },
  {
   "cell_type": "markdown",
   "metadata": {
    "_uuid": "7a986d5009a0fa1a3cdb6a0a3abf13d7f1c8bb17"
   },
   "source": [
    "## 4. Key Characteristics of the Households \n",
    "\n",
    "## 4.1 Household Materials and Methods"
   ]
  },
  {
   "cell_type": "code",
   "execution_count": null,
   "metadata": {
    "_kg_hide-input": true,
    "_uuid": "0621ffc533eb8b35f901363ed8649351758fb011",
    "collapsed": true
   },
   "outputs": [],
   "source": [
    "def find_prominent(row, mats):\n",
    "    for c in mats:\n",
    "        if row[c] == 1:\n",
    "            return c\n",
    "    return \n",
    "\n",
    "def combine(starter, colname, title, replacemap):\n",
    "    mats = [c for c in train.columns if c.startswith(starter)]\n",
    "    train[colname] = train.apply(lambda row : find_prominent(row, mats), axis=1)\n",
    "    train[colname] = train[colname].apply(lambda x : replacemap[x] if x != None else x )\n",
    "\n",
    "    om1 = train[train['Target'] == 1][colname].value_counts().to_frame()\n",
    "    om2 = train[train['Target'] == 2][colname].value_counts().to_frame()\n",
    "    om3 = train[train['Target'] == 3][colname].value_counts().to_frame()\n",
    "    om4 = train[train['Target'] == 4][colname].value_counts().to_frame()\n",
    "\n",
    "    trace1 = go.Bar(y=om1[colname], x=om1.index, name=\"Extereme\", marker=dict(color='red', opacity=0.9))\n",
    "    trace2 = go.Bar(y=om2[colname], x=om2.index, name=\"Moderate\", marker=dict(color='red', opacity=0.5))\n",
    "    trace3 = go.Bar(y=om3[colname], x=om3.index, name=\"Vulnerable\", marker=dict(color='green', opacity=0.5))\n",
    "    trace4 = go.Bar(y=om4[colname], x=om4.index, name=\"NonVulnerable\", marker=dict(color='green', opacity=0.9))\n",
    "    return [trace1, trace2, trace3, trace4]\n",
    "\n",
    "titles = [\"Outside Wall Material\", \"Floor Material\", \"Roof Material\", \"Sanitary Conditions\", \"Cooking Energy Sources\", \"Disposal Methods\"]\n",
    "fig = tools.make_subplots(rows=3, cols=2, print_grid=False, subplot_titles=titles)\n",
    "\n",
    "### outside material\n",
    "flr = {'paredblolad' : \"Block / Brick\", \"paredpreb\" : \"Cement\", \"paredmad\" : \"Wood\",\n",
    "      \"paredzocalo\" : \"Socket\", \"pareddes\" : \"Waste Material\", \"paredfibras\" : \"Fibres\",\n",
    "      \"paredother\" : \"Other\", \"paredzinc\": \"Zink\"}\n",
    "res = combine(\"pared\", \"outside_material\", \"Predominanat Material of the External Walls\", flr)      \n",
    "for x in res:\n",
    "    fig.append_trace(x, 1, 1)\n",
    "\n",
    "### floor material \n",
    "flr = {'pisomoscer' : \"Mosaic / Ceramic\", \"pisocemento\" : \"Cement\", \"pisonatur\" : \"Natural Material\",\n",
    "      \"pisonotiene\" : \"No Floor\", \"pisomadera\" : \"Wood\", \"pisoother\" : \"Other\"}\n",
    "res = combine(\"piso\", \"floor_material\", \"Floor Material of the Households\", flr)\n",
    "for x in res:\n",
    "    fig.append_trace(x, 1, 2)\n",
    "\n",
    "### Roof Material\n",
    "flr = {'techozinc' : \"Zinc\", \"techoentrepiso\" : \"Fibre / Cement\", \"techocane\" : \"Natural Fibre\", \"techootro\" : \"Other\"}\n",
    "res = combine(\"tech\", \"roof_material\", \"Roof Material of the Households\", flr)  \n",
    "for x in res:\n",
    "    fig.append_trace(x, 2, 1)\n",
    "\n",
    "\n",
    "### Sanitary Conditions\n",
    "flr = {'sanitario1' : \"No Toilet\", \"sanitario2\" : \"Sewer / Cesspool\", \"sanitario3\" : \"Septic Tank\",\n",
    "       \"sanitario5\" : \"Black Hole\", \"sanitario6\" : \"Other System\"}\n",
    "res = combine(\"sanit\", \"sanitary\", \"Sanitary Conditions of the Households\", flr)\n",
    "for x in res:\n",
    "    fig.append_trace(x, 2, 2)\n",
    "\n",
    "### Energy Source\n",
    "flr = {'energcocinar1' : \"No Kitchen\", \"energcocinar2\" : \"Electricity\", \"energcocinar3\" : \"Cooking Gas\",\n",
    "       \"energcocinar4\" : \"Wood Charcoal\"}\n",
    "res = combine(\"energ\", \"energy_source\", \"Main source of energy for cooking\", flr)  \n",
    "for x in res:\n",
    "    fig.append_trace(x, 3, 1)\n",
    "\n",
    "### Disposal Methods\n",
    "flr = {\"elimbasu1\":\"Tanker truck\",\n",
    "\"elimbasu2\": \"Buried\",\n",
    "\"elimbasu3\": \"Burning\",\n",
    "\"elimbasu4\": \"Unoccupied space\",\n",
    "\"elimbasu5\": \"River\",\n",
    "\"elimbasu6\": \"Other\"}\n",
    "res = combine(\"elim\", \"waste_method\", \"Rubbish Disposals Method\", flr)  \n",
    "for x in res:\n",
    "    fig.append_trace(x, 3, 2)\n",
    "\n",
    "fig['layout'].update(height=900, title=\"Key Characteristics of Households\", barmode=\"stack\", showlegend=False)\n",
    "iplot(fig)"
   ]
  },
  {
   "cell_type": "markdown",
   "metadata": {
    "_uuid": "7e39663922e3b5a3cf6678549e9cd2388034eb32"
   },
   "source": [
    "## 4.2 Quality of Walls, Roof, and Floor"
   ]
  },
  {
   "cell_type": "code",
   "execution_count": null,
   "metadata": {
    "_kg_hide-input": true,
    "_uuid": "b8cf8f13adcd284596c40f2958ed911de094378c",
    "collapsed": true
   },
   "outputs": [],
   "source": [
    "def find_prominent2(row, mats):\n",
    "    for i,c in enumerate(mats):\n",
    "        if row[c] == 1 and c.endswith(\"1\"):\n",
    "            return \"Bad\"\n",
    "        elif row[c] == 1 and c.endswith(\"2\"):\n",
    "            return \"Regular\"\n",
    "        elif row[c] == 1 and c.endswith(\"3\"):\n",
    "            return \"Good\"\n",
    "    return \n",
    "\n",
    "badwl = [c for c in train.columns if c.startswith(\"epar\")]\n",
    "badrf = [c for c in train.columns if c.startswith(\"etec\")]\n",
    "badfl = [c for c in train.columns if c.startswith(\"eviv\")]\n",
    "train[\"WallQuality\"] = train.apply(lambda row : find_prominent2(row, badwl), axis=1)\n",
    "train[\"RoofQuality\"] = train.apply(lambda row : find_prominent2(row, badrf), axis=1)\n",
    "train[\"FloorQuality\"] = train.apply(lambda row : find_prominent2(row, badfl), axis=1)\n",
    "\n",
    "wd1 = train[train['Target']==1]['WallQuality'].value_counts()\n",
    "wd2 = train[train['Target']==2]['WallQuality'].value_counts()\n",
    "wd3 = train[train['Target']==3]['WallQuality'].value_counts()\n",
    "wd4 = train[train['Target']==4]['WallQuality'].value_counts()\n",
    "trace1=go.Bar(x=wd1.index, y=wd1.values, marker=dict(color=\"red\", opacity=0.99), name=\"Extereme\")\n",
    "trace2=go.Bar(x=wd2.index, y=wd2.values, marker=dict(color=\"red\", opacity=0.69), name=\"Moderate\")\n",
    "trace3=go.Bar(x=wd3.index, y=wd3.values, marker=dict(color=\"red\", opacity=0.49), name=\"Vulnerable\")\n",
    "trace4=go.Bar(x=wd4.index, y=wd4.values, marker=dict(color=\"red\", opacity=0.29), name=\"NonVulnerable\")\n",
    "\n",
    "wd1 = train[train['Target']==1]['RoofQuality'].value_counts()\n",
    "wd2 = train[train['Target']==2]['RoofQuality'].value_counts()\n",
    "wd3 = train[train['Target']==3]['RoofQuality'].value_counts()\n",
    "wd4 = train[train['Target']==4]['RoofQuality'].value_counts()\n",
    "trace5=go.Bar(x=wd1.index, y=wd1.values, marker=dict(color=\"green\", opacity=0.99), name=\"Extereme\")\n",
    "trace6=go.Bar(x=wd2.index, y=wd2.values, marker=dict(color=\"green\", opacity=0.69), name=\"Moderate\")\n",
    "trace7=go.Bar(x=wd3.index, y=wd3.values, marker=dict(color=\"green\", opacity=0.49), name=\"Vulnerable\")\n",
    "trace8=go.Bar(x=wd4.index, y=wd4.values, marker=dict(color=\"green\", opacity=0.29), name=\"NonVulnerable\")\n",
    "\n",
    "wd1 = train[train['Target']==1]['FloorQuality'].value_counts()\n",
    "wd2 = train[train['Target']==2]['FloorQuality'].value_counts()\n",
    "wd3 = train[train['Target']==3]['FloorQuality'].value_counts()\n",
    "wd4 = train[train['Target']==4]['FloorQuality'].value_counts()\n",
    "trace9=go.Bar(x=wd1.index, y=wd1.values, marker=dict(color=\"purple\", opacity=0.99), name=\"Extereme\")\n",
    "trace10=go.Bar(x=wd2.index, y=wd2.values, marker=dict(color=\"purple\", opacity=0.69), name=\"Moderate\")\n",
    "trace11=go.Bar(x=wd3.index, y=wd3.values, marker=dict(color=\"purple\", opacity=0.49), name=\"Vulnerable\")\n",
    "trace12=go.Bar(x=wd4.index, y=wd4.values, marker=dict(color=\"purple\", opacity=0.29), name=\"NonVulnerable\")\n",
    "\n",
    "fig = tools.make_subplots(rows=1, cols=4, print_grid=False, subplot_titles=[\"Extereme Poverty\", \"Moderate Poverty\", \"Vulnerable\", \"NonVulnerable\"])\n",
    "fig.append_trace(trace1, 1, 1)\n",
    "fig.append_trace(trace2, 1, 2)\n",
    "fig.append_trace(trace3, 1, 3)\n",
    "fig.append_trace(trace4, 1, 4)\n",
    "fig['layout'].update(height=250, showlegend=False, title=\"Wall Quality of Households\")\n",
    "iplot(fig)\n",
    "\n",
    "fig = tools.make_subplots(rows=1, cols=4, print_grid=False, subplot_titles=[\"Extereme Poverty\", \"Moderate Poverty\", \"Vulnerable\", \"NonVulnerable\"])\n",
    "fig.append_trace(trace5, 1, 1)\n",
    "fig.append_trace(trace6, 1, 2)\n",
    "fig.append_trace(trace7, 1, 3)\n",
    "fig.append_trace(trace8, 1, 4)\n",
    "fig['layout'].update(height=250, showlegend=False, title=\"Roof Quality of Households\")\n",
    "iplot(fig)\n",
    "\n",
    "fig = tools.make_subplots(rows=1, cols=4, print_grid=False, subplot_titles=[\"Extereme Poverty\", \"Moderate Poverty\", \"Vulnerable\", \"NonVulnerable\"])\n",
    "fig.append_trace(trace9, 1, 1)\n",
    "fig.append_trace(trace10, 1, 2)\n",
    "fig.append_trace(trace11, 1, 3)\n",
    "fig.append_trace(trace12, 1, 4)\n",
    "fig['layout'].update(height=250, showlegend=False, title=\"Floor Quality of Households\")\n",
    "iplot(fig)"
   ]
  },
  {
   "cell_type": "markdown",
   "metadata": {
    "_uuid": "c6e58dd0b4bb0d19e177d20327349fc905c79977"
   },
   "source": [
    "## 5. Family Details of the households\n",
    "\n",
    "## 5.1 Education Details, Status, and Members"
   ]
  },
  {
   "cell_type": "code",
   "execution_count": null,
   "metadata": {
    "_kg_hide-input": true,
    "_uuid": "d6785dbcd23a2c07661aa173185bdb3126d8f5a6",
    "collapsed": true
   },
   "outputs": [],
   "source": [
    "def combine2(starter, colname, title, replacemap, plotme = True):\n",
    "    mats = [c for c in train.columns if c.startswith(starter)]\n",
    "    train[colname] = train.apply(lambda row : find_prominent(row, mats), axis=1)\n",
    "    train[colname] = train[colname].apply(lambda x : replacemap[x] if x != None else x )\n",
    "\n",
    "    om1 = train[train['Target'] == 1][colname].value_counts().to_frame()\n",
    "    om2 = train[train['Target'] == 2][colname].value_counts().to_frame()\n",
    "    om3 = train[train['Target'] == 3][colname].value_counts().to_frame()\n",
    "    om4 = train[train['Target'] == 4][colname].value_counts().to_frame()\n",
    "\n",
    "    trace1 = go.Bar(y=om1[colname], x=om1.index, name=\"Extereme\", marker=dict(color='red', opacity=0.9))\n",
    "    trace2 = go.Bar(y=om2[colname], x=om2.index, name=\"Moderate\", marker=dict(color='red', opacity=0.5))\n",
    "    trace3 = go.Bar(y=om3[colname], x=om3.index, name=\"Vulnerable\", marker=dict(color='orange', opacity=0.9))\n",
    "    trace4 = go.Bar(y=om4[colname], x=om4.index, name=\"NonVulnerable\", marker=dict(color='orange', opacity=0.5))\n",
    "\n",
    "    data = [trace1, trace2, trace3, trace4]\n",
    "    layout = dict(title=title, legend=dict(y=1.1, orientation=\"h\"), barmode=\"stack\", margin=dict(l=50), height=400)\n",
    "    fig = go.Figure(data=data, layout=layout)\n",
    "    if plotme:\n",
    "        iplot(fig)\n",
    "\n",
    "\n",
    "flr = {\"instlevel1\": \"No Education\", \"instlevel2\": \"Incomplete Primary\", \"instlevel3\": \"Complete Primary\", \n",
    "       \"instlevel4\": \"Incomplete Sc.\", \"instlevel5\": \"Complete Sc.\", \"instlevel6\": \"Incomplete Tech Sc.\",\n",
    "       \"instlevel7\": \"Complete Tech Sc.\", \"instlevel8\": \"Undergraduation\", \"instlevel9\": \"Postgraduation\"}\n",
    "combine2(\"instl\", \"education_details\", \"Education Details of Family Members\", flr)  \n",
    "\n",
    "flr = {\"estadocivil1\": \"< 10 years\", \"estadocivil2\": \"Free / Coupled union\", \"estadocivil3\": \"Married\", \n",
    "       \"estadocivil4\": \"Divorced\", \"estadocivil5\": \"Separated\", \"estadocivil6\": \"Widow\",\n",
    "       \"estadocivil7\": \"Single\"}\n",
    "combine2(\"estado\", \"status_members\", \"Status of Family Members\", flr)  \n",
    "\n",
    "flr = {\"parentesco1\": \"Household Head\", \"parentesco2\": \"Spouse/Partner\", \"parentesco3\": \"Son/Daughter\", \n",
    "       \"parentesco4\": \"Stepson/Daughter\", \"parentesco5\" : \"Son/Daughter in Law\" , \"parentesco6\": \"Grandson/Daughter\", \n",
    "       \"parentesco7\": \"Mother/Father\", \"parentesco8\": \"Mother/Father in Law\", \"parentesco9\" : \"Brother/Sister\" , \n",
    "       \"parentesco10\" : \"Brother/Sister in law\", \"parentesco11\" : \"Other Family Member\", \"parentesco12\" : \"Other Non Family Member\"}\n",
    "combine2(\"parentesc\", \"family_members\", \"Family Members in the Households\", flr)  \n",
    "\n",
    "flr = {\"lugar1\": \"Central\", \"lugar2\": \"Chorotega\", \"lugar3\": \"PacÃƒÂ­fico central\", \n",
    "       \"lugar4\": \"Brunca\", \"lugar5\": \"Huetar AtlÃƒÂ¡ntica\", \"lugar6\": \"Huetar Norte\"}\n",
    "combine2(\"lugar\", \"region\", \"Region of the Households\", flr, plotme=False)  "
   ]
  },
  {
   "cell_type": "markdown",
   "metadata": {
    "_uuid": "85e8fc07140819b0574ffff44d76f3d80280eb14"
   },
   "source": [
    "## 5.2 Gender and Age Distributions "
   ]
  },
  {
   "cell_type": "code",
   "execution_count": null,
   "metadata": {
    "_kg_hide-input": true,
    "_uuid": "a942875fba83b03ffe1b964b866529938d50e93a",
    "collapsed": true
   },
   "outputs": [],
   "source": [
    "def agbr(col):\n",
    "    temp1 = train[train['Target'] == 1][col].value_counts()\n",
    "    trace1 = go.Bar(x=temp1.index, y=temp1.values, marker=dict(color=\"red\", opacity=0.89), name=\"Extereme\")\n",
    "\n",
    "    temp2 = train[train['Target'] == 2][col].value_counts()\n",
    "    trace2 = go.Bar(x=temp2.index, y=temp2.values, marker=dict(color=\"orange\", opacity=0.79), name=\"Moderate\")\n",
    "\n",
    "    temp3 = train[train['Target'] == 3][col].value_counts()\n",
    "    trace3 = go.Bar(x=temp3.index, y=temp3.values, marker=dict(color=\"purple\", opacity=0.89), name=\"Vulnerable\")\n",
    "\n",
    "    temp4 = train[train['Target'] == 4][col].value_counts()\n",
    "    trace4 = go.Bar(x=temp4.index, y=temp4.values, marker=dict(color=\"green\", opacity=0.79), name=\"NonVulnerable\")\n",
    "    \n",
    "    return [trace1, trace2, trace3, trace4]\n",
    "    layout = dict(height=400)\n",
    "    fig = go.Figure(data=[trace1, trace2, trace3, trace4], layout=layout)\n",
    "    iplot(fig)\n",
    "\n",
    "titles = [\"Total Persons\", \"< 12 Yrs\", \">= 12 Yrs\", \"Total Males\", \"Males < 12 Yrs\", \"Males >= 12 Yrs\", \n",
    "         \"Total Females\", \"Females < 12 Yrs\", \"Females >= 12 Yrs\"]\n",
    "fig = tools.make_subplots(rows=3, cols=3, print_grid=False, subplot_titles=titles)\n",
    "\n",
    "res = agbr('r4t1')\n",
    "for x in res:\n",
    "    fig.append_trace(x, 1, 1)\n",
    "res = agbr('r4t2')\n",
    "for x in res:\n",
    "    fig.append_trace(x, 1, 2)\n",
    "res = agbr('r4t3')\n",
    "for x in res:\n",
    "    fig.append_trace(x, 1, 3)\n",
    "\n",
    "res = agbr('r4h1')\n",
    "for x in res:\n",
    "    fig.append_trace(x, 2, 1)\n",
    "res = agbr('r4h2')\n",
    "for x in res:\n",
    "    fig.append_trace(x, 2, 2)\n",
    "res = agbr('r4h3')\n",
    "for x in res:\n",
    "    fig.append_trace(x, 2, 3)\n",
    "\n",
    "res = agbr('r4m1')\n",
    "for x in res:\n",
    "    fig.append_trace(x, 3, 1)\n",
    "res = agbr('r4m2')\n",
    "for x in res:\n",
    "    fig.append_trace(x, 3, 2)\n",
    "res = agbr('r4m3')\n",
    "for x in res:\n",
    "    fig.append_trace(x, 3, 3)\n",
    "\n",
    "    \n",
    "fig['layout'].update(height=750, showlegend=False, title=\"Gender and Age Distributions\")\n",
    "iplot(fig)"
   ]
  },
  {
   "cell_type": "markdown",
   "metadata": {
    "_uuid": "50394b84d6d6e009685ca61e00d839357e77f656"
   },
   "source": [
    "## 5.3  Age Groups among the households"
   ]
  },
  {
   "cell_type": "code",
   "execution_count": null,
   "metadata": {
    "_kg_hide-input": true,
    "_uuid": "9f77a2b9de305a76cca85815d5f7cb9b7123c0f4",
    "collapsed": true
   },
   "outputs": [],
   "source": [
    "titles = [\"Children\", \"Adults\", \"65+ Old\"]\n",
    "fig = tools.make_subplots(rows=1, cols=3, print_grid=False, subplot_titles=titles)\n",
    "\n",
    "res = agbr(\"hogar_nin\")\n",
    "for x in res:\n",
    "    fig.append_trace(x, 1, 1)\n",
    "res = agbr(\"hogar_adul\")\n",
    "for x in res:\n",
    "    fig.append_trace(x, 1, 2)\n",
    "res = agbr(\"hogar_mayor\")\n",
    "for x in res:\n",
    "    fig.append_trace(x, 1, 3)\n",
    "\n",
    "fig['layout'].update(height=350, title=\"People Distribution in Households\", barmode=\"stack\", showlegend=False)\n",
    "iplot(fig)"
   ]
  },
  {
   "cell_type": "markdown",
   "metadata": {
    "_uuid": "d7f8be4ddb88b747501b94bb95a96d76fd1ad78b"
   },
   "source": [
    "## 5.4 Household Size"
   ]
  },
  {
   "cell_type": "code",
   "execution_count": null,
   "metadata": {
    "_kg_hide-input": true,
    "_uuid": "9dbc56d778bfd8fffb1f5204049381d25caf4448",
    "collapsed": true
   },
   "outputs": [],
   "source": [
    "tm = agbr('tamhog')\n",
    "layout = dict(title=\"Household People Size\", margin=dict(l=100), height=400, legend=dict(orientation=\"h\", y=1))\n",
    "fig = go.Figure(data=tm, layout=layout)\n",
    "iplot(fig)"
   ]
  },
  {
   "cell_type": "markdown",
   "metadata": {
    "_uuid": "4ee9dd8547556df7167824b959a61e6f6b987070"
   },
   "source": [
    "## 6. Multivariate Analysis \n",
    "\n",
    "## 6.1 Monthly Rent Comparisons "
   ]
  },
  {
   "cell_type": "code",
   "execution_count": null,
   "metadata": {
    "_kg_hide-input": true,
    "_uuid": "f5911920899034fa26fc34a330320198e005b7dc",
    "collapsed": true
   },
   "outputs": [],
   "source": [
    "def compare_dists(col, title):\n",
    "    trace1 = go.Histogram(name=\"Extereme\", x=train[train['Target']==1][col])\n",
    "    trace2 = go.Histogram(name=\"Moderate\", x=train[train['Target']==2][col])\n",
    "    trace3 = go.Histogram(name=\"Vulnerable\", x=train[train['Target']==3][col])\n",
    "    trace4 = go.Histogram(name=\"NonVulnerable\", x=train[train['Target']==4][col])\n",
    "\n",
    "    fig = tools.make_subplots(rows=2, cols=2, print_grid=False)\n",
    "    fig.append_trace(trace1, 1, 1)\n",
    "    fig.append_trace(trace2, 1, 2)\n",
    "    fig.append_trace(trace3, 2, 1)\n",
    "    fig.append_trace(trace4, 2, 2)\n",
    "\n",
    "    fig['layout'].update(height=400, showlegend=False, title=title)\n",
    "    iplot(fig)\n",
    "\n",
    "compare_dists('v2a1', \"Monthy Rent for four groups of houses\")"
   ]
  },
  {
   "cell_type": "markdown",
   "metadata": {
    "_uuid": "99fe471b6c9ba9372583c090bcbae49bc5d2a022"
   },
   "source": [
    "## 6.2 Poverty Levels with respect to Monthly Rent and Age of the House\n",
    "\n",
    "Size of the bubbles repersents levels of poverty. Higher the size, higher is the poverty level."
   ]
  },
  {
   "cell_type": "code",
   "execution_count": null,
   "metadata": {
    "_kg_hide-input": true,
    "_uuid": "d4cd19654f52fa8217bf7b494d97192cc5276119",
    "collapsed": true
   },
   "outputs": [],
   "source": [
    "trace0 = go.Scatter(x=train['v2a1'], y=train['age'], name=\"Extereme\", \n",
    "                    mode='markers', marker=dict(color=train['Target'], opacity=1, size=16 - train['Target']**2))\n",
    "layout = go.Layout(xaxis=dict(title=\"Monthly Rent of the house\", range=(0,400000)), yaxis=dict(title=\"Age of the House\"))\n",
    "fig = go.Figure(data =[trace0], layout=layout)\n",
    "iplot(fig)"
   ]
  },
  {
   "cell_type": "markdown",
   "metadata": {
    "_uuid": "b2bc2abbbc25c518203f481522e6e9f186c8990b"
   },
   "source": [
    "## 6.3 Poverty Levels with respect to Number of Rooms and People Living"
   ]
  },
  {
   "cell_type": "code",
   "execution_count": null,
   "metadata": {
    "_kg_hide-input": true,
    "_uuid": "2245068c0f2e380f5a72a8941b49bc8a498b6ddd",
    "collapsed": true
   },
   "outputs": [],
   "source": [
    "train1 = train[train['Target'] == 1]\n",
    "train2 = train[train['Target'] == 2]\n",
    "train3 = train[train['Target'] == 3]\n",
    "train4 = train[train['Target'] == 4]\n",
    "\n",
    "trace0 = go.Scatter(x=train1['rooms'], y=train1['tamviv'], name=\"Extereme\", mode='markers', marker=dict(color=\"red\", opacity=0.4, size=10))\n",
    "trace1 = go.Scatter(x=train2['rooms'], y=train2['tamviv'], name=\"Moderate\", mode='markers', marker=dict(color=\"orange\",opacity=0.4, size=10))\n",
    "trace2 = go.Scatter(x=train3['rooms'], y=train3['tamviv'], name=\"Vulnerable\", mode='markers', marker=dict(color=\"blue\",opacity=0.4, size=10))\n",
    "trace3 = go.Scatter(x=train4['rooms'], y=train4['tamviv'], name=\"NonVulnerable\", mode='markers', marker=dict(color=\"green\",opacity=0.4, size=10))\n",
    "\n",
    "fig = tools.make_subplots(rows=2, cols=2, print_grid=False, subplot_titles=[\"Extereme Poverty\", \"Moderate Poverty\", \"Vulnerable\", \"Non Vulnerable\"])\n",
    "\n",
    "fig.append_trace(trace0, 1, 1)\n",
    "fig.append_trace(trace1, 1, 2)\n",
    "fig.append_trace(trace2, 2, 1)\n",
    "fig.append_trace(trace3, 2, 2)\n",
    "\n",
    "fig['layout'].update(height=600, showlegend=False, title=\"Rooms (Yaxis) and Persons Living (Xaxis)\" )\n",
    "iplot(fig)"
   ]
  },
  {
   "cell_type": "markdown",
   "metadata": {
    "_uuid": "7ee8bdddfe24505cb334d1c7a741e583fafac18d"
   },
   "source": [
    "## 6.4 Distributions (Poverty Levels wise) of some continuous variables "
   ]
  },
  {
   "cell_type": "code",
   "execution_count": null,
   "metadata": {
    "_kg_hide-input": true,
    "_uuid": "240355385996c4cb77f73603ede449140492c70d",
    "collapsed": true
   },
   "outputs": [],
   "source": [
    "def boxs(col, title):\n",
    "    y1 = train[train['Target'] == 1][col]\n",
    "    y2 = train[train['Target'] == 2][col]\n",
    "    y3 = train[train['Target'] == 3][col]\n",
    "    y4 = train[train['Target'] == 4][col]\n",
    "\n",
    "    trace1 = go.Box(y=y1, name=\"Extereme\", marker=dict(color=\"red\", opacity=0.7))\n",
    "    trace2 = go.Box(y=y2, name=\"Moderate\", marker=dict(color=\"orange\", opacity=0.7))\n",
    "    trace3 = go.Box(y=y3, name=\"Vulnerable\", marker=dict(color=\"purple\", opacity=0.7))\n",
    "    trace4 = go.Box(y=y4, name=\"NonVulnerable\", marker=dict(color=\"green\", opacity=0.7))\n",
    "    data = [trace1, trace2, trace3, trace4]\n",
    "    return data \n",
    "    layout = dict(title=title, showlegend=False, height=400)\n",
    "    data = [trace1, trace2, trace3, trace4]\n",
    "    fig = go.Figure(data=data, layout=layout)\n",
    "    iplot(fig)\n",
    "\n",
    "\n",
    "titles = [\"Number of Rooms\", \"Number of Bedrooms\", \"Mobile Phones Owned\", \"Tablets Owned\", \"Age of the House\", \"Overcrowding Per Persons\"]\n",
    "fig = tools.make_subplots(rows=3, cols=2, print_grid=False, subplot_titles=titles)\n",
    "\n",
    "res = boxs(\"rooms\", \"Number of \")\n",
    "for x in res:\n",
    "    fig.append_trace(x, 1, 1)\n",
    "res = boxs(\"bedrooms\", \"Number of \")\n",
    "for x in res:\n",
    "    fig.append_trace(x, 1, 2)\n",
    "res = boxs(\"qmobilephone\", \"Number of\")\n",
    "for x in res:\n",
    "    fig.append_trace(x, 2, 1)\n",
    "res = boxs(\"v18q1\", \"Number of\")\n",
    "for x in res:\n",
    "    fig.append_trace(x, 2, 2)\n",
    "res = boxs(\"age\", \"Number of\")\n",
    "for x in res:\n",
    "    fig.append_trace(x, 3, 1)\n",
    "res = boxs(\"overcrowding\", \"Number of\")\n",
    "for x in res:\n",
    "    fig.append_trace(x, 3, 2)\n",
    "\n",
    "fig['layout'].update(height=900, title=\"\", barmode=\"stack\", showlegend=False)\n",
    "iplot(fig)"
   ]
  },
  {
   "cell_type": "markdown",
   "metadata": {
    "_uuid": "1cf14a16335862f30fc7092ce1d96fdad8974960"
   },
   "source": [
    "## 6.5 Effect of Number of Rooms and Outside Material on Poverty Levels "
   ]
  },
  {
   "cell_type": "code",
   "execution_count": null,
   "metadata": {
    "_kg_hide-input": true,
    "_uuid": "725a87dd963634029ccd29c502f31f6ef598bb6b",
    "collapsed": true
   },
   "outputs": [],
   "source": [
    "trgt = {1:'Extereme Poverty', 2:'Moderate Poverty', 3: 'Vulnerable Households', 4:'Non Vulnerable Households'}\n",
    "train['target'] = train['Target'].apply(lambda x : trgt[x])\n",
    "sns.set(rc={'figure.figsize':(15, 6)})\n",
    "sns.boxplot(x=\"outside_material\", y=\"rooms\", hue=\"target\",  palette=\"cool\", data=train)\n",
    "plt.title(\"Effect of Number of Rooms and Outside Material on Poverty Levels\", fontsize=14)\n",
    "plt.xticks(rotation='vertical')\n",
    "plt.xlabel('Outside Material',fontsize=14)\n",
    "plt.ylabel('Number of Rooms',fontsize=14)\n",
    "plt.show()"
   ]
  },
  {
   "cell_type": "markdown",
   "metadata": {
    "_uuid": "c01adc544e896e3e012f4851107afc73fc905d6e"
   },
   "source": [
    "## 6.6 Effect of Number of Rooms and Floor Material on Poverty Levels "
   ]
  },
  {
   "cell_type": "code",
   "execution_count": null,
   "metadata": {
    "_kg_hide-input": true,
    "_uuid": "4b3a780aee448f273f77da1e5937abb809f62115",
    "collapsed": true
   },
   "outputs": [],
   "source": [
    "sns.set(rc={'figure.figsize':(15, 6)})\n",
    "sns.boxplot(x=\"floor_material\", y=\"rooms\", hue=\"target\",  palette=\"gist_stern\", data=train)\n",
    "plt.title(\"Effect of Number of Rooms and Floor Material wise Poverty Levels\", fontsize=14)\n",
    "plt.xticks(rotation='vertical')\n",
    "plt.xlabel('Floor Material',fontsize=14)\n",
    "plt.ylabel('Number of Rooms',fontsize=14)\n",
    "plt.show()"
   ]
  },
  {
   "cell_type": "markdown",
   "metadata": {
    "_uuid": "03a8f7fd9a3632f530d4b8ec3fbe8d98b87ec78d"
   },
   "source": [
    "## 6.7 Effect of Education Details and Household Size on Poverty Levels "
   ]
  },
  {
   "cell_type": "code",
   "execution_count": null,
   "metadata": {
    "_kg_hide-input": true,
    "_uuid": "0a79ff211895cef676f7333ae3fb9b7df3c9cdf7",
    "collapsed": true
   },
   "outputs": [],
   "source": [
    "sns.set(rc={'figure.figsize':(15, 6)})\n",
    "sns.boxplot(x=\"education_details\", y=\"hhsize\", hue=\"target\",  palette=\"Spectral\", data=train)\n",
    "plt.title(\"Effect of Education Details and Household Size on Poverty Levels\", fontsize=14)\n",
    "plt.xticks(rotation='vertical')\n",
    "plt.xlabel('Education Details',fontsize=14)\n",
    "plt.ylabel('Household Size',fontsize=14)\n",
    "plt.show()\n"
   ]
  },
  {
   "cell_type": "markdown",
   "metadata": {
    "_uuid": "35554146e8f10e24ee9afa24c7e1fcd5fa22525b"
   },
   "source": [
    "## 6.8 Effect of Family Members Status and Household Size on Poverty Levels "
   ]
  },
  {
   "cell_type": "code",
   "execution_count": null,
   "metadata": {
    "_kg_hide-input": true,
    "_uuid": "c4597be9cb7a8942bc43f9e814d799cbf7f877ea",
    "collapsed": true
   },
   "outputs": [],
   "source": [
    "sns.set(rc={'figure.figsize':(15, 6)})\n",
    "sns.boxplot(x=\"status_members\", y=\"hhsize\", hue=\"target\",  palette=\"rocket\", data=train)\n",
    "plt.title(\"Effect of Family Members Status and and Household Size on Poverty Levels\", fontsize=14)\n",
    "plt.xticks(rotation='vertical')\n",
    "plt.xlabel('Family Members Status',fontsize=14)\n",
    "plt.ylabel('Household Size',fontsize=14)\n",
    "plt.show()"
   ]
  },
  {
   "cell_type": "markdown",
   "metadata": {
    "_uuid": "c0fb32a2d38766db06b40cde9135ca6dac596126"
   },
   "source": [
    "## 6.9 Effect of Family Memebrs Type and Household Size on Poverty Levels "
   ]
  },
  {
   "cell_type": "code",
   "execution_count": null,
   "metadata": {
    "_kg_hide-input": true,
    "_uuid": "da4ff684238059ab2bdf2223da2431984be2fec4",
    "collapsed": true
   },
   "outputs": [],
   "source": [
    "sns.set(rc={'figure.figsize':(15, 6)})\n",
    "sns.boxplot(x=\"family_members\", y=\"hhsize\", hue=\"target\",  palette=\"cool\", data=train)\n",
    "plt.title(\"Effect of Family Members and Household Size on Poverty Levels\", fontsize=14)\n",
    "plt.xticks(rotation='vertical')\n",
    "plt.xlabel('Family Members',fontsize=14)\n",
    "plt.ylabel('Household Size',fontsize=14)\n",
    "plt.show()"
   ]
  },
  {
   "cell_type": "markdown",
   "metadata": {
    "_uuid": "3da167ec2faea83244762a93cedcb8603f629eda"
   },
   "source": [
    "## 7. Area / Location Details \n",
    "\n",
    "## 7.1 AreaType with respect to Poverty Levels "
   ]
  },
  {
   "cell_type": "code",
   "execution_count": null,
   "metadata": {
    "_kg_hide-input": true,
    "_uuid": "028a0e29aafa389d123363fd152b969b595616de",
    "collapsed": true
   },
   "outputs": [],
   "source": [
    "train['area_type'] = train['area1'].apply(lambda x: \"urbal\" if x==1 else \"rural\")\n",
    "\n",
    "cols = ['area_type', 'target']\n",
    "colmap = sns.light_palette(\"yellow\", as_cmap=True)\n",
    "pd.crosstab(train[cols[1]], train[cols[0]]).style.background_gradient(cmap = colmap)"
   ]
  },
  {
   "cell_type": "markdown",
   "metadata": {
    "_uuid": "01b0393ec6950817d8a93f21ec0012b02c7c942c"
   },
   "source": [
    "## 7.2 Region with respect to Poverty Levels "
   ]
  },
  {
   "cell_type": "code",
   "execution_count": null,
   "metadata": {
    "_kg_hide-input": true,
    "_uuid": "4d35acae3cc9b92b95404b718c0e8e3dadf6d580",
    "collapsed": true
   },
   "outputs": [],
   "source": [
    "cols = ['region', 'target']\n",
    "colmap = sns.light_palette(\"orange\", as_cmap=True)\n",
    "pd.crosstab(train[cols[0]], train[cols[1]]).style.background_gradient(cmap = colmap)"
   ]
  },
  {
   "cell_type": "markdown",
   "metadata": {
    "_uuid": "fca8b00ce622a014c87b856024048b567f81e81a"
   },
   "source": [
    "<hr>\n",
    "\n",
    "## Part B: Modelling\n",
    "\n",
    "<hr>\n",
    "\n",
    "## 8. Baseline Model\n",
    "\n",
    "### 8.1 Dataset Preparation - Features and Target Variable"
   ]
  },
  {
   "cell_type": "code",
   "execution_count": null,
   "metadata": {
    "_uuid": "b8ee4b443ec24f22faff5663cf5d6312be85a5f0",
    "collapsed": true
   },
   "outputs": [],
   "source": [
    "train = pd.read_csv(\"../input/train.csv\")\n",
    "test = pd.read_csv(\"../input/test.csv\")\n",
    "\n",
    "## list of features to be used\n",
    "features = [c for c in train.columns if c not in ['Id', 'Target']]\n",
    "\n",
    "## target variable \n",
    "target = train['Target'].values\n",
    "target_index = {1:0, 2:1, 3:2, 4:3}\n",
    "target = np.array([target_index[c] for c in target])"
   ]
  },
  {
   "cell_type": "markdown",
   "metadata": {
    "_uuid": "00bef416f61bf63049f82f343bdad6d79331d76f"
   },
   "source": [
    "### 8.2 Label Encode the categorical variables "
   ]
  },
  {
   "cell_type": "code",
   "execution_count": null,
   "metadata": {
    "_uuid": "0b9cb4012877600afa4b5ad1b838c3ac263f16f4",
    "collapsed": true
   },
   "outputs": [],
   "source": [
    "def label_encoding(col):\n",
    "    le = LabelEncoder()\n",
    "    le.fit(list(train[col].values) + list(test[col].values))\n",
    "    train[col] = le.transform(train[col].astype(str))\n",
    "    test[col] = le.transform(test[col].astype(str))\n",
    "\n",
    "num_cols = train._get_numeric_data().columns\n",
    "cat_cols = list(set(features) - set(num_cols))\n",
    "for col in cat_cols:\n",
    "    label_encoding(col)"
   ]
  },
  {
   "cell_type": "markdown",
   "metadata": {
    "_uuid": "5223f19006fc08e441109187552f93b3f92ba8f5"
   },
   "source": [
    "### 8.3 Prepare Training and Validation Sets"
   ]
  },
  {
   "cell_type": "code",
   "execution_count": null,
   "metadata": {
    "_uuid": "7acee66c1387ca583252a30acfb6ebcfee0c92ba",
    "collapsed": true
   },
   "outputs": [],
   "source": [
    "X_train, X_valid, y_train, y_valid = train_test_split(train[features].values, target, test_size=0.2, random_state=1)\n",
    "lgb_train = lgb.Dataset(X_train, y_train)\n",
    "lgb_valid = lgb.Dataset(X_valid, y_valid)"
   ]
  },
  {
   "cell_type": "markdown",
   "metadata": {
    "_uuid": "e615e59b86ea4e9b3e03c248a9b7d61f06465e56"
   },
   "source": [
    "### 8.4 Baseline LightGBM"
   ]
  },
  {
   "cell_type": "code",
   "execution_count": null,
   "metadata": {
    "_kg_hide-input": false,
    "_uuid": "7e91a00c728e04e2c98d800076908eba4ce6b3d9"
   },
   "outputs": [],
   "source": [
    "params = {'boosting_type': 'gbdt', 'objective': 'multiclass', 'metric': 'multi_logloss',\n",
    "          'num_class': 4, 'max_depth': 44, 'num_leaves': 36, 'learning_rate': 0.01,\n",
    "          'feature_fraction': 0.8, 'bagging_fraction': 0.8, 'bagging_freq': 5,\n",
    "          'lambda_l2': 1.0, 'verbose': -1, 'num_threads': -1 }\n",
    "\n",
    "model = lgb.train(params, lgb_train, num_boost_round=100,  valid_sets=[lgb_train, lgb_valid], \n",
    "                  early_stopping_rounds=2000, verbose_eval=100)"
   ]
  },
  {
   "cell_type": "markdown",
   "metadata": {
    "_uuid": "20bc9e2cd55ce47b201f1b3d237e02e0947a6438"
   },
   "source": [
    "### 8.5 Predict and Submit"
   ]
  },
  {
   "cell_type": "code",
   "execution_count": null,
   "metadata": {
    "_uuid": "f42b47ec6c963f4879082928875c3c4f35b17fed"
   },
   "outputs": [],
   "source": [
    "## predictions\n",
    "preds = model.predict(test[features], num_iteration=model.best_iteration)\n",
    "\n",
    "## revert back to original classes\n",
    "reverse_index = {}\n",
    "for k,v in target_index.items():\n",
    "    reverse_index[v] = k\n",
    "preds = [reverse_index[np.argmax(p)] for p in preds]\n",
    "\n",
    "## submission\n",
    "subs = pd.DataFrame()\n",
    "subs['Id'] = test['Id']\n",
    "subs['Target'] = preds\n",
    "subs.to_csv('submission.csv', index=False)\n",
    "subs.head()"
   ]
  },
  {
   "cell_type": "markdown",
   "metadata": {
    "_uuid": "19a9e4ff07b0cb33f3a4cebae5decd367baa6f4c"
   },
   "source": [
    "Further Improvement Ideas for Model. \n",
    "- Feature Engineering  \n",
    "- Model Tuning  \n",
    "- Model Ensembling  "
   ]
  }
 ],
 "metadata": {
  "kernelspec": {
   "display_name": "Python 3 (ipykernel)",
   "language": "python",
   "name": "python3"
  },
  "language_info": {
   "codemirror_mode": {
    "name": "ipython",
    "version": 3
   },
   "file_extension": ".py",
   "mimetype": "text/x-python",
   "name": "python",
   "nbconvert_exporter": "python",
   "pygments_lexer": "ipython3",
   "version": "3.9.7"
  }
 },
 "nbformat": 4,
 "nbformat_minor": 1
}
