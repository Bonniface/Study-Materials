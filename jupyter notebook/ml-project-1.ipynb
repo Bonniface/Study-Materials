{
 "cells": [
  {
   "cell_type": "code",
   "execution_count": 1,
   "metadata": {
    "_cell_guid": "b1076dfc-b9ad-4769-8c92-a6c4dae69d19",
    "_uuid": "8f2839f25d086af736a60e9eeb907d3b93b6e0e5",
    "execution": {
     "iopub.execute_input": "2020-12-23T21:51:35.430889Z",
     "iopub.status.busy": "2020-12-23T21:51:35.430226Z",
     "iopub.status.idle": "2020-12-23T21:51:36.396581Z",
     "shell.execute_reply": "2020-12-23T21:51:36.395880Z"
    },
    "papermill": {
     "duration": 1.019932,
     "end_time": "2020-12-23T21:51:36.396695",
     "exception": false,
     "start_time": "2020-12-23T21:51:35.376763",
     "status": "completed"
    },
    "tags": []
   },
   "outputs": [
    {
     "name": "stdout",
     "output_type": "stream",
     "text": [
      "/kaggle/input/ds-nigeria-2019-challenge-insurance-prediction/sample_submission.csv\n",
      "/kaggle/input/ds-nigeria-2019-challenge-insurance-prediction/train_data.csv\n",
      "/kaggle/input/ds-nigeria-2019-challenge-insurance-prediction/test_data.csv\n",
      "/kaggle/input/ds-nigeria-2019-challenge-insurance-prediction/VariableDescription.csv\n"
     ]
    }
   ],
   "source": [
    "# This Python 3 environment comes with many helpful analytics libraries installed\n",
    "# It is defined by the kaggle/python Docker image: https://github.com/kaggle/docker-python\n",
    "# For example, here's several helpful packages to load\n",
    "\n",
    "import numpy as np # linear algebra\n",
    "import pandas as pd # data processing, CSV file I/O (e.g. pd.read_csv)\n",
    "\n",
    "# Input data files are available in the read-only \"../input/\" directory\n",
    "# For example, running this (by clicking run or pressing Shift+Enter) will list all files under the input directory\n",
    "\n",
    "import os\n",
    "for dirname, _, filenames in os.walk('/kaggle/input'):\n",
    "    for filename in filenames:\n",
    "        print(os.path.join(dirname, filename))\n",
    "import seaborn as sns\n",
    "from matplotlib import pyplot as plt\n",
    "# You can write up to 20GB to the current directory (/kaggle/working/) that gets preserved as output when you create a version using \"Save & Run All\" \n",
    "# You can also write temporary files to /kaggle/temp/, but they won't be saved outside of the current session"
   ]
  },
  {
   "cell_type": "code",
   "execution_count": 2,
   "metadata": {
    "_cell_guid": "79c7e3d0-c299-4dcb-8224-4455121ee9b0",
    "_uuid": "d629ff2d2480ee46fbb7e2d37f6b5fab8052498a",
    "execution": {
     "iopub.execute_input": "2020-12-23T21:51:36.497111Z",
     "iopub.status.busy": "2020-12-23T21:51:36.496467Z",
     "iopub.status.idle": "2020-12-23T21:51:36.545689Z",
     "shell.execute_reply": "2020-12-23T21:51:36.546284Z"
    },
    "papermill": {
     "duration": 0.102693,
     "end_time": "2020-12-23T21:51:36.546435",
     "exception": false,
     "start_time": "2020-12-23T21:51:36.443742",
     "status": "completed"
    },
    "tags": []
   },
   "outputs": [
    {
     "data": {
      "text/html": [
       "<div>\n",
       "<style scoped>\n",
       "    .dataframe tbody tr th:only-of-type {\n",
       "        vertical-align: middle;\n",
       "    }\n",
       "\n",
       "    .dataframe tbody tr th {\n",
       "        vertical-align: top;\n",
       "    }\n",
       "\n",
       "    .dataframe thead th {\n",
       "        text-align: right;\n",
       "    }\n",
       "</style>\n",
       "<table border=\"1\" class=\"dataframe\">\n",
       "  <thead>\n",
       "    <tr style=\"text-align: right;\">\n",
       "      <th></th>\n",
       "      <th>0</th>\n",
       "      <th>1</th>\n",
       "      <th>2</th>\n",
       "      <th>3</th>\n",
       "      <th>4</th>\n",
       "    </tr>\n",
       "  </thead>\n",
       "  <tbody>\n",
       "    <tr>\n",
       "      <th>Customer Id</th>\n",
       "      <td>H14663</td>\n",
       "      <td>H2037</td>\n",
       "      <td>H3802</td>\n",
       "      <td>H3834</td>\n",
       "      <td>H5053</td>\n",
       "    </tr>\n",
       "    <tr>\n",
       "      <th>YearOfObservation</th>\n",
       "      <td>2013</td>\n",
       "      <td>2015</td>\n",
       "      <td>2014</td>\n",
       "      <td>2013</td>\n",
       "      <td>2014</td>\n",
       "    </tr>\n",
       "    <tr>\n",
       "      <th>Insured_Period</th>\n",
       "      <td>1</td>\n",
       "      <td>1</td>\n",
       "      <td>1</td>\n",
       "      <td>1</td>\n",
       "      <td>1</td>\n",
       "    </tr>\n",
       "    <tr>\n",
       "      <th>Residential</th>\n",
       "      <td>0</td>\n",
       "      <td>0</td>\n",
       "      <td>0</td>\n",
       "      <td>0</td>\n",
       "      <td>0</td>\n",
       "    </tr>\n",
       "    <tr>\n",
       "      <th>Building_Painted</th>\n",
       "      <td>N</td>\n",
       "      <td>V</td>\n",
       "      <td>N</td>\n",
       "      <td>V</td>\n",
       "      <td>V</td>\n",
       "    </tr>\n",
       "    <tr>\n",
       "      <th>Building_Fenced</th>\n",
       "      <td>V</td>\n",
       "      <td>N</td>\n",
       "      <td>V</td>\n",
       "      <td>V</td>\n",
       "      <td>N</td>\n",
       "    </tr>\n",
       "    <tr>\n",
       "      <th>Garden</th>\n",
       "      <td>V</td>\n",
       "      <td>O</td>\n",
       "      <td>V</td>\n",
       "      <td>V</td>\n",
       "      <td>O</td>\n",
       "    </tr>\n",
       "    <tr>\n",
       "      <th>Settlement</th>\n",
       "      <td>U</td>\n",
       "      <td>R</td>\n",
       "      <td>U</td>\n",
       "      <td>U</td>\n",
       "      <td>R</td>\n",
       "    </tr>\n",
       "    <tr>\n",
       "      <th>Building Dimension</th>\n",
       "      <td>290</td>\n",
       "      <td>490</td>\n",
       "      <td>595</td>\n",
       "      <td>2840</td>\n",
       "      <td>680</td>\n",
       "    </tr>\n",
       "    <tr>\n",
       "      <th>Building_Type</th>\n",
       "      <td>1</td>\n",
       "      <td>1</td>\n",
       "      <td>1</td>\n",
       "      <td>1</td>\n",
       "      <td>1</td>\n",
       "    </tr>\n",
       "    <tr>\n",
       "      <th>Date_of_Occupancy</th>\n",
       "      <td>1960</td>\n",
       "      <td>1850</td>\n",
       "      <td>1960</td>\n",
       "      <td>1960</td>\n",
       "      <td>1800</td>\n",
       "    </tr>\n",
       "    <tr>\n",
       "      <th>NumberOfWindows</th>\n",
       "      <td>.</td>\n",
       "      <td>4</td>\n",
       "      <td>.</td>\n",
       "      <td>.</td>\n",
       "      <td>3</td>\n",
       "    </tr>\n",
       "    <tr>\n",
       "      <th>Geo_Code</th>\n",
       "      <td>1053</td>\n",
       "      <td>1053</td>\n",
       "      <td>1053</td>\n",
       "      <td>1053</td>\n",
       "      <td>1053</td>\n",
       "    </tr>\n",
       "    <tr>\n",
       "      <th>Claim</th>\n",
       "      <td>0</td>\n",
       "      <td>0</td>\n",
       "      <td>0</td>\n",
       "      <td>0</td>\n",
       "      <td>0</td>\n",
       "    </tr>\n",
       "  </tbody>\n",
       "</table>\n",
       "</div>"
      ],
      "text/plain": [
       "                         0      1      2      3      4\n",
       "Customer Id         H14663  H2037  H3802  H3834  H5053\n",
       "YearOfObservation     2013   2015   2014   2013   2014\n",
       "Insured_Period           1      1      1      1      1\n",
       "Residential              0      0      0      0      0\n",
       "Building_Painted         N      V      N      V      V\n",
       "Building_Fenced          V      N      V      V      N\n",
       "Garden                   V      O      V      V      O\n",
       "Settlement               U      R      U      U      R\n",
       "Building Dimension     290    490    595   2840    680\n",
       "Building_Type            1      1      1      1      1\n",
       "Date_of_Occupancy     1960   1850   1960   1960   1800\n",
       "NumberOfWindows          .      4      .      .      3\n",
       "Geo_Code              1053   1053   1053   1053   1053\n",
       "Claim                    0      0      0      0      0"
      ]
     },
     "execution_count": 2,
     "metadata": {},
     "output_type": "execute_result"
    }
   ],
   "source": [
    "df = pd.read_csv('/kaggle/input/ds-nigeria-2019-challenge-insurance-prediction/train_data.csv')\n",
    "\n",
    "df.head().T"
   ]
  },
  {
   "cell_type": "code",
   "execution_count": 3,
   "metadata": {
    "execution": {
     "iopub.execute_input": "2020-12-23T21:51:36.651523Z",
     "iopub.status.busy": "2020-12-23T21:51:36.650861Z",
     "iopub.status.idle": "2020-12-23T21:51:36.661038Z",
     "shell.execute_reply": "2020-12-23T21:51:36.660477Z"
    },
    "papermill": {
     "duration": 0.067448,
     "end_time": "2020-12-23T21:51:36.661155",
     "exception": false,
     "start_time": "2020-12-23T21:51:36.593707",
     "status": "completed"
    },
    "tags": []
   },
   "outputs": [
    {
     "name": "stdout",
     "output_type": "stream",
     "text": [
      "5526 is 77.18 % of dataset\n",
      "1634 is 22.82 % of dataset\n"
     ]
    }
   ],
   "source": [
    "print(str(df['Claim'].value_counts()[0]) + ' is', round(df['Claim'].value_counts()[0]/len(df) * 100,2),'% of dataset')\n",
    "print(str(df['Claim'].value_counts()[1]) + ' is', round(df['Claim'].value_counts()[1]/len(df) * 100,2),'% of dataset')"
   ]
  },
  {
   "cell_type": "code",
   "execution_count": 4,
   "metadata": {
    "execution": {
     "iopub.execute_input": "2020-12-23T21:51:36.762319Z",
     "iopub.status.busy": "2020-12-23T21:51:36.761355Z",
     "iopub.status.idle": "2020-12-23T21:51:36.964232Z",
     "shell.execute_reply": "2020-12-23T21:51:36.964735Z"
    },
    "papermill": {
     "duration": 0.255444,
     "end_time": "2020-12-23T21:51:36.964913",
     "exception": false,
     "start_time": "2020-12-23T21:51:36.709469",
     "status": "completed"
    },
    "tags": []
   },
   "outputs": [
    {
     "data": {
      "text/plain": [
       "<matplotlib.axes._subplots.AxesSubplot at 0x7f2d20423b90>"
      ]
     },
     "execution_count": 4,
     "metadata": {},
     "output_type": "execute_result"
    },
    {
     "data": {
      "image/png": "[encoded data removed]",
      "text/plain": [
       "<Figure size 432x288 with 1 Axes>"
      ]
     },
     "metadata": {
      "needs_background": "light"
     },
     "output_type": "display_data"
    }
   ],
   "source": [
    "df['Claim'].value_counts(normalize=True).plot(kind='barh')\n",
    "\n",
    "#Классы распределены неравномерно"
   ]
  },
  {
   "cell_type": "code",
   "execution_count": 5,
   "metadata": {
    "execution": {
     "iopub.execute_input": "2020-12-23T21:51:37.068346Z",
     "iopub.status.busy": "2020-12-23T21:51:37.067553Z",
     "iopub.status.idle": "2020-12-23T21:51:37.085704Z",
     "shell.execute_reply": "2020-12-23T21:51:37.085049Z"
    },
    "papermill": {
     "duration": 0.072012,
     "end_time": "2020-12-23T21:51:37.085810",
     "exception": false,
     "start_time": "2020-12-23T21:51:37.013798",
     "status": "completed"
    },
    "tags": []
   },
   "outputs": [
    {
     "data": {
      "text/html": [
       "<div>\n",
       "<style scoped>\n",
       "    .dataframe tbody tr th:only-of-type {\n",
       "        vertical-align: middle;\n",
       "    }\n",
       "\n",
       "    .dataframe tbody tr th {\n",
       "        vertical-align: top;\n",
       "    }\n",
       "\n",
       "    .dataframe thead th {\n",
       "        text-align: right;\n",
       "    }\n",
       "</style>\n",
       "<table border=\"1\" class=\"dataframe\">\n",
       "  <thead>\n",
       "    <tr style=\"text-align: right;\">\n",
       "      <th></th>\n",
       "      <th>Variable</th>\n",
       "      <th>Description</th>\n",
       "    </tr>\n",
       "  </thead>\n",
       "  <tbody>\n",
       "    <tr>\n",
       "      <th>0</th>\n",
       "      <td>Customer Id</td>\n",
       "      <td>Identification number for the Policy holder</td>\n",
       "    </tr>\n",
       "    <tr>\n",
       "      <th>1</th>\n",
       "      <td>YearOfObservation</td>\n",
       "      <td>year of observation for the insured policy</td>\n",
       "    </tr>\n",
       "    <tr>\n",
       "      <th>2</th>\n",
       "      <td>Insured_Period</td>\n",
       "      <td>duration of insurance policy in Olusola Insura...</td>\n",
       "    </tr>\n",
       "    <tr>\n",
       "      <th>3</th>\n",
       "      <td>Residential</td>\n",
       "      <td>is the building a residential building or not</td>\n",
       "    </tr>\n",
       "    <tr>\n",
       "      <th>4</th>\n",
       "      <td>Building_Painted</td>\n",
       "      <td>is the building painted or not (N-Painted, V-N...</td>\n",
       "    </tr>\n",
       "    <tr>\n",
       "      <th>5</th>\n",
       "      <td>Building_Fenced</td>\n",
       "      <td>is the building fence or not (N-Fenced, V-Not ...</td>\n",
       "    </tr>\n",
       "    <tr>\n",
       "      <th>6</th>\n",
       "      <td>Garden</td>\n",
       "      <td>building has garden or not (V-has garden; O-no...</td>\n",
       "    </tr>\n",
       "    <tr>\n",
       "      <th>7</th>\n",
       "      <td>Settlement</td>\n",
       "      <td>Area where the building is located. (R- rural ...</td>\n",
       "    </tr>\n",
       "    <tr>\n",
       "      <th>8</th>\n",
       "      <td>Building Dimension</td>\n",
       "      <td>Size of the insured building in m2</td>\n",
       "    </tr>\n",
       "    <tr>\n",
       "      <th>9</th>\n",
       "      <td>Building_Type</td>\n",
       "      <td>The type of building (Type 1, 2, 3, 4)</td>\n",
       "    </tr>\n",
       "    <tr>\n",
       "      <th>10</th>\n",
       "      <td>Date_of_Occupancy</td>\n",
       "      <td>date building was first occupied</td>\n",
       "    </tr>\n",
       "    <tr>\n",
       "      <th>11</th>\n",
       "      <td>NumberOfWindows</td>\n",
       "      <td>number of windows in the building</td>\n",
       "    </tr>\n",
       "    <tr>\n",
       "      <th>12</th>\n",
       "      <td>Geo Code</td>\n",
       "      <td>Geographical Code of the Insured building</td>\n",
       "    </tr>\n",
       "    <tr>\n",
       "      <th>13</th>\n",
       "      <td>Claim</td>\n",
       "      <td>target variable. (0: no claim, 1: at least one...</td>\n",
       "    </tr>\n",
       "  </tbody>\n",
       "</table>\n",
       "</div>"
      ],
      "text/plain": [
       "              Variable                                        Description\n",
       "0          Customer Id        Identification number for the Policy holder\n",
       "1    YearOfObservation         year of observation for the insured policy\n",
       "2       Insured_Period  duration of insurance policy in Olusola Insura...\n",
       "3          Residential      is the building a residential building or not\n",
       "4     Building_Painted  is the building painted or not (N-Painted, V-N...\n",
       "5      Building_Fenced  is the building fence or not (N-Fenced, V-Not ...\n",
       "6               Garden  building has garden or not (V-has garden; O-no...\n",
       "7           Settlement  Area where the building is located. (R- rural ...\n",
       "8   Building Dimension                 Size of the insured building in m2\n",
       "9        Building_Type             The type of building (Type 1, 2, 3, 4)\n",
       "10   Date_of_Occupancy                   date building was first occupied\n",
       "11     NumberOfWindows                  number of windows in the building\n",
       "12            Geo Code          Geographical Code of the Insured building\n",
       "13               Claim  target variable. (0: no claim, 1: at least one..."
      ]
     },
     "execution_count": 5,
     "metadata": {},
     "output_type": "execute_result"
    }
   ],
   "source": [
    "desc = pd.read_csv('/kaggle/input/ds-nigeria-2019-challenge-insurance-prediction/VariableDescription.csv')\n",
    "desc"
   ]
  },
  {
   "cell_type": "code",
   "execution_count": 6,
   "metadata": {
    "execution": {
     "iopub.execute_input": "2020-12-23T21:51:37.189686Z",
     "iopub.status.busy": "2020-12-23T21:51:37.189042Z",
     "iopub.status.idle": "2020-12-23T21:51:37.196878Z",
     "shell.execute_reply": "2020-12-23T21:51:37.197358Z"
    },
    "papermill": {
     "duration": 0.06124,
     "end_time": "2020-12-23T21:51:37.197515",
     "exception": false,
     "start_time": "2020-12-23T21:51:37.136275",
     "status": "completed"
    },
    "tags": []
   },
   "outputs": [],
   "source": [
    "#customer id is useless for prediction, so we'll drop it\n",
    "df = df.drop(columns=['Customer Id'])\n"
   ]
  },
  {
   "cell_type": "code",
   "execution_count": 7,
   "metadata": {
    "execution": {
     "iopub.execute_input": "2020-12-23T21:51:37.303320Z",
     "iopub.status.busy": "2020-12-23T21:51:37.302432Z",
     "iopub.status.idle": "2020-12-23T21:51:37.306551Z",
     "shell.execute_reply": "2020-12-23T21:51:37.307116Z"
    },
    "papermill": {
     "duration": 0.059557,
     "end_time": "2020-12-23T21:51:37.307251",
     "exception": false,
     "start_time": "2020-12-23T21:51:37.247694",
     "status": "completed"
    },
    "tags": []
   },
   "outputs": [
    {
     "data": {
      "text/plain": [
       "array(['   .', '4', '3', '2', '5', '>=10', '6', '7', '9', '8', '1'],\n",
       "      dtype=object)"
      ]
     },
     "execution_count": 7,
     "metadata": {},
     "output_type": "execute_result"
    }
   ],
   "source": [
    "#let's deal with missing values\n",
    "#nan in building dimension\n",
    "#missing values in number of windows\n",
    "df['NumberOfWindows'].unique()\n"
   ]
  },
  {
   "cell_type": "code",
   "execution_count": 8,
   "metadata": {
    "execution": {
     "iopub.execute_input": "2020-12-23T21:51:37.410264Z",
     "iopub.status.busy": "2020-12-23T21:51:37.409647Z",
     "iopub.status.idle": "2020-12-23T21:51:37.419639Z",
     "shell.execute_reply": "2020-12-23T21:51:37.418990Z"
    },
    "papermill": {
     "duration": 0.06241,
     "end_time": "2020-12-23T21:51:37.419757",
     "exception": false,
     "start_time": "2020-12-23T21:51:37.357347",
     "status": "completed"
    },
    "tags": []
   },
   "outputs": [
    {
     "data": {
      "text/plain": [
       "   .    3551\n",
       "4        939\n",
       "3        844\n",
       "5        639\n",
       "2        363\n",
       "6        306\n",
       "7        211\n",
       "8        116\n",
       "1         75\n",
       ">=10      67\n",
       "9         49\n",
       "Name: NumberOfWindows, dtype: int64"
      ]
     },
     "execution_count": 8,
     "metadata": {},
     "output_type": "execute_result"
    }
   ],
   "source": [
    "df['NumberOfWindows'].value_counts()\n",
    "#Assuming that ' .' is the most common number of windows. Also let '>=10' equal 10"
   ]
  },
  {
   "cell_type": "code",
   "execution_count": 9,
   "metadata": {
    "execution": {
     "iopub.execute_input": "2020-12-23T21:51:37.527665Z",
     "iopub.status.busy": "2020-12-23T21:51:37.526651Z",
     "iopub.status.idle": "2020-12-23T21:51:37.535075Z",
     "shell.execute_reply": "2020-12-23T21:51:37.534480Z"
    },
    "papermill": {
     "duration": 0.06415,
     "end_time": "2020-12-23T21:51:37.535186",
     "exception": false,
     "start_time": "2020-12-23T21:51:37.471036",
     "status": "completed"
    },
    "tags": []
   },
   "outputs": [],
   "source": [
    "df['NumberOfWindows'] = df['NumberOfWindows'].replace('   .',4)\n",
    "df['NumberOfWindows'] = df['NumberOfWindows'].replace('>=10',10)\n"
   ]
  },
  {
   "cell_type": "code",
   "execution_count": 10,
   "metadata": {
    "execution": {
     "iopub.execute_input": "2020-12-23T21:51:37.640907Z",
     "iopub.status.busy": "2020-12-23T21:51:37.640076Z",
     "iopub.status.idle": "2020-12-23T21:51:37.645916Z",
     "shell.execute_reply": "2020-12-23T21:51:37.646388Z"
    },
    "papermill": {
     "duration": 0.060118,
     "end_time": "2020-12-23T21:51:37.646531",
     "exception": false,
     "start_time": "2020-12-23T21:51:37.586413",
     "status": "completed"
    },
    "tags": []
   },
   "outputs": [],
   "source": [
    "df['NumberOfWindows']  = df['NumberOfWindows'].astype('int64')"
   ]
  },
  {
   "cell_type": "code",
   "execution_count": 11,
   "metadata": {
    "execution": {
     "iopub.execute_input": "2020-12-23T21:51:37.754160Z",
     "iopub.status.busy": "2020-12-23T21:51:37.753499Z",
     "iopub.status.idle": "2020-12-23T21:51:37.758969Z",
     "shell.execute_reply": "2020-12-23T21:51:37.759467Z"
    },
    "papermill": {
     "duration": 0.059898,
     "end_time": "2020-12-23T21:51:37.759620",
     "exception": false,
     "start_time": "2020-12-23T21:51:37.699722",
     "status": "completed"
    },
    "tags": []
   },
   "outputs": [
    {
     "data": {
      "text/plain": [
       "106"
      ]
     },
     "execution_count": 11,
     "metadata": {},
     "output_type": "execute_result"
    }
   ],
   "source": [
    "df['Building Dimension'].isna().sum()\n",
    "#lets replace them with mode"
   ]
  },
  {
   "cell_type": "code",
   "execution_count": 12,
   "metadata": {
    "execution": {
     "iopub.execute_input": "2020-12-23T21:51:37.864830Z",
     "iopub.status.busy": "2020-12-23T21:51:37.864142Z",
     "iopub.status.idle": "2020-12-23T21:51:37.872324Z",
     "shell.execute_reply": "2020-12-23T21:51:37.872825Z"
    },
    "papermill": {
     "duration": 0.062218,
     "end_time": "2020-12-23T21:51:37.872998",
     "exception": false,
     "start_time": "2020-12-23T21:51:37.810780",
     "status": "completed"
    },
    "tags": []
   },
   "outputs": [
    {
     "data": {
      "text/plain": [
       "400.0     150\n",
       "500.0     120\n",
       "300.0     118\n",
       "450.0     117\n",
       "600.0     114\n",
       "         ... \n",
       "211.0       1\n",
       "3324.0      1\n",
       "1228.0      1\n",
       "3762.0      1\n",
       "1734.0      1\n",
       "Name: Building Dimension, Length: 2043, dtype: int64"
      ]
     },
     "execution_count": 12,
     "metadata": {},
     "output_type": "execute_result"
    }
   ],
   "source": [
    "df['Building Dimension'].value_counts()"
   ]
  },
  {
   "cell_type": "code",
   "execution_count": 13,
   "metadata": {
    "execution": {
     "iopub.execute_input": "2020-12-23T21:51:37.978986Z",
     "iopub.status.busy": "2020-12-23T21:51:37.978322Z",
     "iopub.status.idle": "2020-12-23T21:51:37.984857Z",
     "shell.execute_reply": "2020-12-23T21:51:37.984202Z"
    },
    "papermill": {
     "duration": 0.060516,
     "end_time": "2020-12-23T21:51:37.984978",
     "exception": false,
     "start_time": "2020-12-23T21:51:37.924462",
     "status": "completed"
    },
    "tags": []
   },
   "outputs": [],
   "source": [
    "df['Building Dimension'] = df['Building Dimension'].replace(np.nan,400)"
   ]
  },
  {
   "cell_type": "code",
   "execution_count": 14,
   "metadata": {
    "execution": {
     "iopub.execute_input": "2020-12-23T21:51:38.092644Z",
     "iopub.status.busy": "2020-12-23T21:51:38.091682Z",
     "iopub.status.idle": "2020-12-23T21:51:38.246917Z",
     "shell.execute_reply": "2020-12-23T21:51:38.247496Z"
    },
    "papermill": {
     "duration": 0.210546,
     "end_time": "2020-12-23T21:51:38.247668",
     "exception": false,
     "start_time": "2020-12-23T21:51:38.037122",
     "status": "completed"
    },
    "tags": []
   },
   "outputs": [
    {
     "data": {
      "text/plain": [
       "<matplotlib.axes._subplots.AxesSubplot at 0x7f2d20239250>"
      ]
     },
     "execution_count": 14,
     "metadata": {},
     "output_type": "execute_result"
    },
    {
     "data": {
      "image/png": "[encoded data removed]",
      "text/plain": [
       "<Figure size 432x288 with 1 Axes>"
      ]
     },
     "metadata": {
      "needs_background": "light"
     },
     "output_type": "display_data"
    }
   ],
   "source": [
    "df['Building Dimension'].hist(bins = 10)"
   ]
  },
  {
   "cell_type": "code",
   "execution_count": 15,
   "metadata": {
    "execution": {
     "iopub.execute_input": "2020-12-23T21:51:38.358840Z",
     "iopub.status.busy": "2020-12-23T21:51:38.358142Z",
     "iopub.status.idle": "2020-12-23T21:51:38.376795Z",
     "shell.execute_reply": "2020-12-23T21:51:38.375670Z"
    },
    "papermill": {
     "duration": 0.076531,
     "end_time": "2020-12-23T21:51:38.377028",
     "exception": false,
     "start_time": "2020-12-23T21:51:38.300497",
     "status": "completed"
    },
    "tags": []
   },
   "outputs": [
    {
     "name": "stdout",
     "output_type": "stream",
     "text": [
      "<class 'pandas.core.frame.DataFrame'>\n",
      "RangeIndex: 7160 entries, 0 to 7159\n",
      "Data columns (total 13 columns):\n",
      " #   Column              Non-Null Count  Dtype  \n",
      "---  ------              --------------  -----  \n",
      " 0   YearOfObservation   7160 non-null   int64  \n",
      " 1   Insured_Period      7160 non-null   float64\n",
      " 2   Residential         7160 non-null   int64  \n",
      " 3   Building_Painted    7160 non-null   object \n",
      " 4   Building_Fenced     7160 non-null   object \n",
      " 5   Garden              7153 non-null   object \n",
      " 6   Settlement          7160 non-null   object \n",
      " 7   Building Dimension  7160 non-null   float64\n",
      " 8   Building_Type       7160 non-null   int64  \n",
      " 9   Date_of_Occupancy   6652 non-null   float64\n",
      " 10  NumberOfWindows     7160 non-null   int64  \n",
      " 11  Geo_Code            7058 non-null   object \n",
      " 12  Claim               7160 non-null   int64  \n",
      "dtypes: float64(3), int64(5), object(5)\n",
      "memory usage: 727.3+ KB\n"
     ]
    }
   ],
   "source": [
    "#We should deal with other data to be able to analyse correlation beetwen features and target\n",
    "df.info()"
   ]
  },
  {
   "cell_type": "code",
   "execution_count": 16,
   "metadata": {
    "execution": {
     "iopub.execute_input": "2020-12-23T21:51:38.489132Z",
     "iopub.status.busy": "2020-12-23T21:51:38.488467Z",
     "iopub.status.idle": "2020-12-23T21:51:38.495203Z",
     "shell.execute_reply": "2020-12-23T21:51:38.495722Z"
    },
    "papermill": {
     "duration": 0.063922,
     "end_time": "2020-12-23T21:51:38.495863",
     "exception": false,
     "start_time": "2020-12-23T21:51:38.431941",
     "status": "completed"
    },
    "tags": []
   },
   "outputs": [
    {
     "data": {
      "text/plain": [
       "0    O\n",
       "dtype: object"
      ]
     },
     "execution_count": 16,
     "metadata": {},
     "output_type": "execute_result"
    }
   ],
   "source": [
    "df['Garden'].mode()"
   ]
  },
  {
   "cell_type": "code",
   "execution_count": 17,
   "metadata": {
    "execution": {
     "iopub.execute_input": "2020-12-23T21:51:38.606815Z",
     "iopub.status.busy": "2020-12-23T21:51:38.606144Z",
     "iopub.status.idle": "2020-12-23T21:51:38.613745Z",
     "shell.execute_reply": "2020-12-23T21:51:38.613081Z"
    },
    "papermill": {
     "duration": 0.063343,
     "end_time": "2020-12-23T21:51:38.613900",
     "exception": false,
     "start_time": "2020-12-23T21:51:38.550557",
     "status": "completed"
    },
    "tags": []
   },
   "outputs": [],
   "source": [
    "df['Garden'].unique()\n",
    "df['Garden'] = df['Garden'].replace(np.nan, 'V')"
   ]
  },
  {
   "cell_type": "code",
   "execution_count": 18,
   "metadata": {
    "execution": {
     "iopub.execute_input": "2020-12-23T21:51:38.728252Z",
     "iopub.status.busy": "2020-12-23T21:51:38.727554Z",
     "iopub.status.idle": "2020-12-23T21:51:38.732959Z",
     "shell.execute_reply": "2020-12-23T21:51:38.732393Z"
    },
    "papermill": {
     "duration": 0.064842,
     "end_time": "2020-12-23T21:51:38.733069",
     "exception": false,
     "start_time": "2020-12-23T21:51:38.668227",
     "status": "completed"
    },
    "tags": []
   },
   "outputs": [],
   "source": [
    "df['Date_of_Occupancy'].unique()\n",
    "df['Date_of_Occupancy'].mode()\n",
    "df['Date_of_Occupancy'] = df['Date_of_Occupancy'].replace(np.nan, 1960)"
   ]
  },
  {
   "cell_type": "code",
   "execution_count": 19,
   "metadata": {
    "execution": {
     "iopub.execute_input": "2020-12-23T21:51:38.852336Z",
     "iopub.status.busy": "2020-12-23T21:51:38.851465Z",
     "iopub.status.idle": "2020-12-23T21:51:38.854241Z",
     "shell.execute_reply": "2020-12-23T21:51:38.853756Z"
    },
    "papermill": {
     "duration": 0.066206,
     "end_time": "2020-12-23T21:51:38.854347",
     "exception": false,
     "start_time": "2020-12-23T21:51:38.788141",
     "status": "completed"
    },
    "tags": []
   },
   "outputs": [],
   "source": [
    "df['Geo_Code'].unique()\n",
    "df['Geo_Code'].mode()\n",
    "df['Geo_Code'] = df['Geo_Code'].replace(np.nan, '6088')"
   ]
  },
  {
   "cell_type": "code",
   "execution_count": 20,
   "metadata": {
    "execution": {
     "iopub.execute_input": "2020-12-23T21:51:38.972689Z",
     "iopub.status.busy": "2020-12-23T21:51:38.972024Z",
     "iopub.status.idle": "2020-12-23T21:51:38.981786Z",
     "shell.execute_reply": "2020-12-23T21:51:38.981180Z"
    },
    "papermill": {
     "duration": 0.073371,
     "end_time": "2020-12-23T21:51:38.981892",
     "exception": false,
     "start_time": "2020-12-23T21:51:38.908521",
     "status": "completed"
    },
    "tags": []
   },
   "outputs": [
    {
     "name": "stdout",
     "output_type": "stream",
     "text": [
      "<class 'pandas.core.frame.DataFrame'>\n",
      "RangeIndex: 7160 entries, 0 to 7159\n",
      "Data columns (total 13 columns):\n",
      " #   Column              Non-Null Count  Dtype  \n",
      "---  ------              --------------  -----  \n",
      " 0   YearOfObservation   7160 non-null   int64  \n",
      " 1   Insured_Period      7160 non-null   float64\n",
      " 2   Residential         7160 non-null   int64  \n",
      " 3   Building_Painted    7160 non-null   object \n",
      " 4   Building_Fenced     7160 non-null   object \n",
      " 5   Garden              7160 non-null   object \n",
      " 6   Settlement          7160 non-null   object \n",
      " 7   Building Dimension  7160 non-null   float64\n",
      " 8   Building_Type       7160 non-null   int64  \n",
      " 9   Date_of_Occupancy   7160 non-null   float64\n",
      " 10  NumberOfWindows     7160 non-null   int64  \n",
      " 11  Geo_Code            7160 non-null   object \n",
      " 12  Claim               7160 non-null   int64  \n",
      "dtypes: float64(3), int64(5), object(5)\n",
      "memory usage: 727.3+ KB\n"
     ]
    }
   ],
   "source": [
    "df.info()"
   ]
  },
  {
   "cell_type": "code",
   "execution_count": 21,
   "metadata": {
    "execution": {
     "iopub.execute_input": "2020-12-23T21:51:39.097351Z",
     "iopub.status.busy": "2020-12-23T21:51:39.096681Z",
     "iopub.status.idle": "2020-12-23T21:51:39.118630Z",
     "shell.execute_reply": "2020-12-23T21:51:39.119148Z"
    },
    "papermill": {
     "duration": 0.082525,
     "end_time": "2020-12-23T21:51:39.119285",
     "exception": false,
     "start_time": "2020-12-23T21:51:39.036760",
     "status": "completed"
    },
    "tags": []
   },
   "outputs": [
    {
     "data": {
      "text/html": [
       "<div>\n",
       "<style scoped>\n",
       "    .dataframe tbody tr th:only-of-type {\n",
       "        vertical-align: middle;\n",
       "    }\n",
       "\n",
       "    .dataframe tbody tr th {\n",
       "        vertical-align: top;\n",
       "    }\n",
       "\n",
       "    .dataframe thead th {\n",
       "        text-align: right;\n",
       "    }\n",
       "</style>\n",
       "<table border=\"1\" class=\"dataframe\">\n",
       "  <thead>\n",
       "    <tr style=\"text-align: right;\">\n",
       "      <th></th>\n",
       "      <th>YearOfObservation</th>\n",
       "      <th>Insured_Period</th>\n",
       "      <th>Residential</th>\n",
       "      <th>Building Dimension</th>\n",
       "      <th>Building_Type</th>\n",
       "      <th>Date_of_Occupancy</th>\n",
       "      <th>NumberOfWindows</th>\n",
       "      <th>Claim</th>\n",
       "    </tr>\n",
       "  </thead>\n",
       "  <tbody>\n",
       "    <tr>\n",
       "      <th>YearOfObservation</th>\n",
       "      <td>1.000000</td>\n",
       "      <td>-0.214766</td>\n",
       "      <td>-0.040820</td>\n",
       "      <td>0.036287</td>\n",
       "      <td>0.005712</td>\n",
       "      <td>0.003649</td>\n",
       "      <td>0.006004</td>\n",
       "      <td>-0.013598</td>\n",
       "    </tr>\n",
       "    <tr>\n",
       "      <th>Insured_Period</th>\n",
       "      <td>-0.214766</td>\n",
       "      <td>1.000000</td>\n",
       "      <td>-0.034902</td>\n",
       "      <td>0.023811</td>\n",
       "      <td>-0.002997</td>\n",
       "      <td>0.013839</td>\n",
       "      <td>0.008205</td>\n",
       "      <td>0.074373</td>\n",
       "    </tr>\n",
       "    <tr>\n",
       "      <th>Residential</th>\n",
       "      <td>-0.040820</td>\n",
       "      <td>-0.034902</td>\n",
       "      <td>1.000000</td>\n",
       "      <td>0.063040</td>\n",
       "      <td>0.327858</td>\n",
       "      <td>-0.069762</td>\n",
       "      <td>0.115584</td>\n",
       "      <td>0.063509</td>\n",
       "    </tr>\n",
       "    <tr>\n",
       "      <th>Building Dimension</th>\n",
       "      <td>0.036287</td>\n",
       "      <td>0.023811</td>\n",
       "      <td>0.063040</td>\n",
       "      <td>1.000000</td>\n",
       "      <td>-0.008587</td>\n",
       "      <td>0.353868</td>\n",
       "      <td>0.348720</td>\n",
       "      <td>0.284506</td>\n",
       "    </tr>\n",
       "    <tr>\n",
       "      <th>Building_Type</th>\n",
       "      <td>0.005712</td>\n",
       "      <td>-0.002997</td>\n",
       "      <td>0.327858</td>\n",
       "      <td>-0.008587</td>\n",
       "      <td>1.000000</td>\n",
       "      <td>-0.217915</td>\n",
       "      <td>0.174896</td>\n",
       "      <td>0.106516</td>\n",
       "    </tr>\n",
       "    <tr>\n",
       "      <th>Date_of_Occupancy</th>\n",
       "      <td>0.003649</td>\n",
       "      <td>0.013839</td>\n",
       "      <td>-0.069762</td>\n",
       "      <td>0.353868</td>\n",
       "      <td>-0.217915</td>\n",
       "      <td>1.000000</td>\n",
       "      <td>-0.059156</td>\n",
       "      <td>0.023101</td>\n",
       "    </tr>\n",
       "    <tr>\n",
       "      <th>NumberOfWindows</th>\n",
       "      <td>0.006004</td>\n",
       "      <td>0.008205</td>\n",
       "      <td>0.115584</td>\n",
       "      <td>0.348720</td>\n",
       "      <td>0.174896</td>\n",
       "      <td>-0.059156</td>\n",
       "      <td>1.000000</td>\n",
       "      <td>0.171211</td>\n",
       "    </tr>\n",
       "    <tr>\n",
       "      <th>Claim</th>\n",
       "      <td>-0.013598</td>\n",
       "      <td>0.074373</td>\n",
       "      <td>0.063509</td>\n",
       "      <td>0.284506</td>\n",
       "      <td>0.106516</td>\n",
       "      <td>0.023101</td>\n",
       "      <td>0.171211</td>\n",
       "      <td>1.000000</td>\n",
       "    </tr>\n",
       "  </tbody>\n",
       "</table>\n",
       "</div>"
      ],
      "text/plain": [
       "                    YearOfObservation  Insured_Period  Residential  \\\n",
       "YearOfObservation            1.000000       -0.214766    -0.040820   \n",
       "Insured_Period              -0.214766        1.000000    -0.034902   \n",
       "Residential                 -0.040820       -0.034902     1.000000   \n",
       "Building Dimension           0.036287        0.023811     0.063040   \n",
       "Building_Type                0.005712       -0.002997     0.327858   \n",
       "Date_of_Occupancy            0.003649        0.013839    -0.069762   \n",
       "NumberOfWindows              0.006004        0.008205     0.115584   \n",
       "Claim                       -0.013598        0.074373     0.063509   \n",
       "\n",
       "                    Building Dimension  Building_Type  Date_of_Occupancy  \\\n",
       "YearOfObservation             0.036287       0.005712           0.003649   \n",
       "Insured_Period                0.023811      -0.002997           0.013839   \n",
       "Residential                   0.063040       0.327858          -0.069762   \n",
       "Building Dimension            1.000000      -0.008587           0.353868   \n",
       "Building_Type                -0.008587       1.000000          -0.217915   \n",
       "Date_of_Occupancy             0.353868      -0.217915           1.000000   \n",
       "NumberOfWindows               0.348720       0.174896          -0.059156   \n",
       "Claim                         0.284506       0.106516           0.023101   \n",
       "\n",
       "                    NumberOfWindows     Claim  \n",
       "YearOfObservation          0.006004 -0.013598  \n",
       "Insured_Period             0.008205  0.074373  \n",
       "Residential                0.115584  0.063509  \n",
       "Building Dimension         0.348720  0.284506  \n",
       "Building_Type              0.174896  0.106516  \n",
       "Date_of_Occupancy         -0.059156  0.023101  \n",
       "NumberOfWindows            1.000000  0.171211  \n",
       "Claim                      0.171211  1.000000  "
      ]
     },
     "execution_count": 21,
     "metadata": {},
     "output_type": "execute_result"
    }
   ],
   "source": [
    "df.corr(method='spearman')"
   ]
  },
  {
   "cell_type": "code",
   "execution_count": 22,
   "metadata": {
    "execution": {
     "iopub.execute_input": "2020-12-23T21:51:39.233176Z",
     "iopub.status.busy": "2020-12-23T21:51:39.232502Z",
     "iopub.status.idle": "2020-12-23T21:51:39.370154Z",
     "shell.execute_reply": "2020-12-23T21:51:39.369490Z"
    },
    "papermill": {
     "duration": 0.195389,
     "end_time": "2020-12-23T21:51:39.370262",
     "exception": false,
     "start_time": "2020-12-23T21:51:39.174873",
     "status": "completed"
    },
    "tags": []
   },
   "outputs": [
    {
     "data": {
      "text/plain": [
       "<matplotlib.axes._subplots.AxesSubplot at 0x7f2d20541390>"
      ]
     },
     "execution_count": 22,
     "metadata": {},
     "output_type": "execute_result"
    },
    {
     "data": {
      "image/png": "[encoded data removed]",
      "text/plain": [
       "<Figure size 432x288 with 1 Axes>"
      ]
     },
     "metadata": {
      "needs_background": "light"
     },
     "output_type": "display_data"
    }
   ],
   "source": [
    "df.groupby(['Geo_Code'])['Claim'].agg('mean').sort_values().plot()"
   ]
  },
  {
   "cell_type": "code",
   "execution_count": 23,
   "metadata": {
    "execution": {
     "iopub.execute_input": "2020-12-23T21:51:39.490465Z",
     "iopub.status.busy": "2020-12-23T21:51:39.489299Z",
     "iopub.status.idle": "2020-12-23T21:51:39.496262Z",
     "shell.execute_reply": "2020-12-23T21:51:39.495723Z"
    },
    "papermill": {
     "duration": 0.069574,
     "end_time": "2020-12-23T21:51:39.496373",
     "exception": false,
     "start_time": "2020-12-23T21:51:39.426799",
     "status": "completed"
    },
    "tags": []
   },
   "outputs": [],
   "source": [
    "codes = df.groupby(['Geo_Code'])['Claim'].agg('mean').to_dict()"
   ]
  },
  {
   "cell_type": "markdown",
   "metadata": {
    "papermill": {
     "duration": 0.055734,
     "end_time": "2020-12-23T21:51:39.610201",
     "exception": false,
     "start_time": "2020-12-23T21:51:39.554467",
     "status": "completed"
    },
    "tags": []
   },
   "source": [
    "****Наблюдаем сильные скачки, следовательно есть опасные регионы и это было бы неплохо учесть в модели.****"
   ]
  },
  {
   "cell_type": "code",
   "execution_count": 24,
   "metadata": {
    "execution": {
     "iopub.execute_input": "2020-12-23T21:51:39.734546Z",
     "iopub.status.busy": "2020-12-23T21:51:39.731707Z",
     "iopub.status.idle": "2020-12-23T21:51:39.739700Z",
     "shell.execute_reply": "2020-12-23T21:51:39.739123Z"
    },
    "papermill": {
     "duration": 0.072081,
     "end_time": "2020-12-23T21:51:39.739826",
     "exception": false,
     "start_time": "2020-12-23T21:51:39.667745",
     "status": "completed"
    },
    "tags": []
   },
   "outputs": [],
   "source": [
    "df['Geo_Code'] = df.groupby(['Geo_Code'])['Claim'].transform('mean')"
   ]
  },
  {
   "cell_type": "code",
   "execution_count": 25,
   "metadata": {
    "execution": {
     "iopub.execute_input": "2020-12-23T21:51:39.862807Z",
     "iopub.status.busy": "2020-12-23T21:51:39.862095Z",
     "iopub.status.idle": "2020-12-23T21:51:39.882770Z",
     "shell.execute_reply": "2020-12-23T21:51:39.883460Z"
    },
    "papermill": {
     "duration": 0.087542,
     "end_time": "2020-12-23T21:51:39.883697",
     "exception": false,
     "start_time": "2020-12-23T21:51:39.796155",
     "status": "completed"
    },
    "tags": []
   },
   "outputs": [
    {
     "data": {
      "text/html": [
       "<div>\n",
       "<style scoped>\n",
       "    .dataframe tbody tr th:only-of-type {\n",
       "        vertical-align: middle;\n",
       "    }\n",
       "\n",
       "    .dataframe tbody tr th {\n",
       "        vertical-align: top;\n",
       "    }\n",
       "\n",
       "    .dataframe thead th {\n",
       "        text-align: right;\n",
       "    }\n",
       "</style>\n",
       "<table border=\"1\" class=\"dataframe\">\n",
       "  <thead>\n",
       "    <tr style=\"text-align: right;\">\n",
       "      <th></th>\n",
       "      <th>YearOfObservation</th>\n",
       "      <th>Insured_Period</th>\n",
       "      <th>Residential</th>\n",
       "      <th>Building Dimension</th>\n",
       "      <th>Building_Type</th>\n",
       "      <th>Date_of_Occupancy</th>\n",
       "      <th>NumberOfWindows</th>\n",
       "      <th>Geo_Code</th>\n",
       "      <th>Claim</th>\n",
       "    </tr>\n",
       "  </thead>\n",
       "  <tbody>\n",
       "    <tr>\n",
       "      <th>YearOfObservation</th>\n",
       "      <td>1.000000</td>\n",
       "      <td>-0.214766</td>\n",
       "      <td>-0.040820</td>\n",
       "      <td>0.036287</td>\n",
       "      <td>0.005712</td>\n",
       "      <td>0.003649</td>\n",
       "      <td>0.006004</td>\n",
       "      <td>0.006840</td>\n",
       "      <td>-0.013598</td>\n",
       "    </tr>\n",
       "    <tr>\n",
       "      <th>Insured_Period</th>\n",
       "      <td>-0.214766</td>\n",
       "      <td>1.000000</td>\n",
       "      <td>-0.034902</td>\n",
       "      <td>0.023811</td>\n",
       "      <td>-0.002997</td>\n",
       "      <td>0.013839</td>\n",
       "      <td>0.008205</td>\n",
       "      <td>0.029782</td>\n",
       "      <td>0.074373</td>\n",
       "    </tr>\n",
       "    <tr>\n",
       "      <th>Residential</th>\n",
       "      <td>-0.040820</td>\n",
       "      <td>-0.034902</td>\n",
       "      <td>1.000000</td>\n",
       "      <td>0.063040</td>\n",
       "      <td>0.327858</td>\n",
       "      <td>-0.069762</td>\n",
       "      <td>0.115584</td>\n",
       "      <td>0.140618</td>\n",
       "      <td>0.063509</td>\n",
       "    </tr>\n",
       "    <tr>\n",
       "      <th>Building Dimension</th>\n",
       "      <td>0.036287</td>\n",
       "      <td>0.023811</td>\n",
       "      <td>0.063040</td>\n",
       "      <td>1.000000</td>\n",
       "      <td>-0.008587</td>\n",
       "      <td>0.353868</td>\n",
       "      <td>0.348720</td>\n",
       "      <td>0.172776</td>\n",
       "      <td>0.284506</td>\n",
       "    </tr>\n",
       "    <tr>\n",
       "      <th>Building_Type</th>\n",
       "      <td>0.005712</td>\n",
       "      <td>-0.002997</td>\n",
       "      <td>0.327858</td>\n",
       "      <td>-0.008587</td>\n",
       "      <td>1.000000</td>\n",
       "      <td>-0.217915</td>\n",
       "      <td>0.174896</td>\n",
       "      <td>0.310774</td>\n",
       "      <td>0.106516</td>\n",
       "    </tr>\n",
       "    <tr>\n",
       "      <th>Date_of_Occupancy</th>\n",
       "      <td>0.003649</td>\n",
       "      <td>0.013839</td>\n",
       "      <td>-0.069762</td>\n",
       "      <td>0.353868</td>\n",
       "      <td>-0.217915</td>\n",
       "      <td>1.000000</td>\n",
       "      <td>-0.059156</td>\n",
       "      <td>-0.036039</td>\n",
       "      <td>0.023101</td>\n",
       "    </tr>\n",
       "    <tr>\n",
       "      <th>NumberOfWindows</th>\n",
       "      <td>0.006004</td>\n",
       "      <td>0.008205</td>\n",
       "      <td>0.115584</td>\n",
       "      <td>0.348720</td>\n",
       "      <td>0.174896</td>\n",
       "      <td>-0.059156</td>\n",
       "      <td>1.000000</td>\n",
       "      <td>0.193940</td>\n",
       "      <td>0.171211</td>\n",
       "    </tr>\n",
       "    <tr>\n",
       "      <th>Geo_Code</th>\n",
       "      <td>0.006840</td>\n",
       "      <td>0.029782</td>\n",
       "      <td>0.140618</td>\n",
       "      <td>0.172776</td>\n",
       "      <td>0.310774</td>\n",
       "      <td>-0.036039</td>\n",
       "      <td>0.193940</td>\n",
       "      <td>1.000000</td>\n",
       "      <td>0.397746</td>\n",
       "    </tr>\n",
       "    <tr>\n",
       "      <th>Claim</th>\n",
       "      <td>-0.013598</td>\n",
       "      <td>0.074373</td>\n",
       "      <td>0.063509</td>\n",
       "      <td>0.284506</td>\n",
       "      <td>0.106516</td>\n",
       "      <td>0.023101</td>\n",
       "      <td>0.171211</td>\n",
       "      <td>0.397746</td>\n",
       "      <td>1.000000</td>\n",
       "    </tr>\n",
       "  </tbody>\n",
       "</table>\n",
       "</div>"
      ],
      "text/plain": [
       "                    YearOfObservation  Insured_Period  Residential  \\\n",
       "YearOfObservation            1.000000       -0.214766    -0.040820   \n",
       "Insured_Period              -0.214766        1.000000    -0.034902   \n",
       "Residential                 -0.040820       -0.034902     1.000000   \n",
       "Building Dimension           0.036287        0.023811     0.063040   \n",
       "Building_Type                0.005712       -0.002997     0.327858   \n",
       "Date_of_Occupancy            0.003649        0.013839    -0.069762   \n",
       "NumberOfWindows              0.006004        0.008205     0.115584   \n",
       "Geo_Code                     0.006840        0.029782     0.140618   \n",
       "Claim                       -0.013598        0.074373     0.063509   \n",
       "\n",
       "                    Building Dimension  Building_Type  Date_of_Occupancy  \\\n",
       "YearOfObservation             0.036287       0.005712           0.003649   \n",
       "Insured_Period                0.023811      -0.002997           0.013839   \n",
       "Residential                   0.063040       0.327858          -0.069762   \n",
       "Building Dimension            1.000000      -0.008587           0.353868   \n",
       "Building_Type                -0.008587       1.000000          -0.217915   \n",
       "Date_of_Occupancy             0.353868      -0.217915           1.000000   \n",
       "NumberOfWindows               0.348720       0.174896          -0.059156   \n",
       "Geo_Code                      0.172776       0.310774          -0.036039   \n",
       "Claim                         0.284506       0.106516           0.023101   \n",
       "\n",
       "                    NumberOfWindows  Geo_Code     Claim  \n",
       "YearOfObservation          0.006004  0.006840 -0.013598  \n",
       "Insured_Period             0.008205  0.029782  0.074373  \n",
       "Residential                0.115584  0.140618  0.063509  \n",
       "Building Dimension         0.348720  0.172776  0.284506  \n",
       "Building_Type              0.174896  0.310774  0.106516  \n",
       "Date_of_Occupancy         -0.059156 -0.036039  0.023101  \n",
       "NumberOfWindows            1.000000  0.193940  0.171211  \n",
       "Geo_Code                   0.193940  1.000000  0.397746  \n",
       "Claim                      0.171211  0.397746  1.000000  "
      ]
     },
     "execution_count": 25,
     "metadata": {},
     "output_type": "execute_result"
    }
   ],
   "source": [
    "df.corr(method='spearman') #0.39 with target"
   ]
  },
  {
   "cell_type": "code",
   "execution_count": 26,
   "metadata": {
    "execution": {
     "iopub.execute_input": "2020-12-23T21:51:40.018125Z",
     "iopub.status.busy": "2020-12-23T21:51:40.012268Z",
     "iopub.status.idle": "2020-12-23T21:51:40.022078Z",
     "shell.execute_reply": "2020-12-23T21:51:40.021518Z"
    },
    "papermill": {
     "duration": 0.075447,
     "end_time": "2020-12-23T21:51:40.022186",
     "exception": false,
     "start_time": "2020-12-23T21:51:39.946739",
     "status": "completed"
    },
    "tags": []
   },
   "outputs": [],
   "source": [
    "df['Settlement'].unique()\n",
    "df['Settlement'] = df['Settlement'].replace(\"R\",1) # Rural (сельская местность) - 1\n",
    "df['Settlement'] = df['Settlement'].replace(\"U\",0) # Urban - 0"
   ]
  },
  {
   "cell_type": "code",
   "execution_count": 27,
   "metadata": {
    "execution": {
     "iopub.execute_input": "2020-12-23T21:51:40.152172Z",
     "iopub.status.busy": "2020-12-23T21:51:40.145160Z",
     "iopub.status.idle": "2020-12-23T21:51:40.154845Z",
     "shell.execute_reply": "2020-12-23T21:51:40.155408Z"
    },
    "papermill": {
     "duration": 0.07471,
     "end_time": "2020-12-23T21:51:40.155547",
     "exception": false,
     "start_time": "2020-12-23T21:51:40.080837",
     "status": "completed"
    },
    "tags": []
   },
   "outputs": [],
   "source": [
    "df['Garden'].unique()\n",
    "df['Garden'] = df['Garden'].replace(\"V\",1) # has garden\n",
    "df['Garden'] = df['Garden'].replace(\"O\",0) # no garden"
   ]
  },
  {
   "cell_type": "code",
   "execution_count": 28,
   "metadata": {
    "execution": {
     "iopub.execute_input": "2020-12-23T21:51:40.286138Z",
     "iopub.status.busy": "2020-12-23T21:51:40.279913Z",
     "iopub.status.idle": "2020-12-23T21:51:40.289496Z",
     "shell.execute_reply": "2020-12-23T21:51:40.288877Z"
    },
    "papermill": {
     "duration": 0.074485,
     "end_time": "2020-12-23T21:51:40.289617",
     "exception": false,
     "start_time": "2020-12-23T21:51:40.215132",
     "status": "completed"
    },
    "tags": []
   },
   "outputs": [],
   "source": [
    "df['Building_Fenced'].unique()\n",
    "df['Building_Fenced'] = df['Building_Fenced'].replace(\"N\",1) # has fence\n",
    "df['Building_Fenced'] = df['Building_Fenced'].replace(\"V\",0) # no fence"
   ]
  },
  {
   "cell_type": "code",
   "execution_count": 29,
   "metadata": {
    "execution": {
     "iopub.execute_input": "2020-12-23T21:51:40.419373Z",
     "iopub.status.busy": "2020-12-23T21:51:40.418748Z",
     "iopub.status.idle": "2020-12-23T21:51:40.421063Z",
     "shell.execute_reply": "2020-12-23T21:51:40.421634Z"
    },
    "papermill": {
     "duration": 0.073164,
     "end_time": "2020-12-23T21:51:40.421773",
     "exception": false,
     "start_time": "2020-12-23T21:51:40.348609",
     "status": "completed"
    },
    "tags": []
   },
   "outputs": [],
   "source": [
    "df['Building_Painted'].unique()\n",
    "df['Building_Painted'] = df['Building_Painted'].replace(\"N\",1) # painted\n",
    "df['Building_Painted'] = df['Building_Painted'].replace(\"V\",0) # not painted"
   ]
  },
  {
   "cell_type": "code",
   "execution_count": 30,
   "metadata": {
    "execution": {
     "iopub.execute_input": "2020-12-23T21:51:40.544953Z",
     "iopub.status.busy": "2020-12-23T21:51:40.544262Z",
     "iopub.status.idle": "2020-12-23T21:51:40.575967Z",
     "shell.execute_reply": "2020-12-23T21:51:40.576491Z"
    },
    "papermill": {
     "duration": 0.096391,
     "end_time": "2020-12-23T21:51:40.576656",
     "exception": false,
     "start_time": "2020-12-23T21:51:40.480265",
     "status": "completed"
    },
    "tags": []
   },
   "outputs": [
    {
     "data": {
      "text/html": [
       "<div>\n",
       "<style scoped>\n",
       "    .dataframe tbody tr th:only-of-type {\n",
       "        vertical-align: middle;\n",
       "    }\n",
       "\n",
       "    .dataframe tbody tr th {\n",
       "        vertical-align: top;\n",
       "    }\n",
       "\n",
       "    .dataframe thead th {\n",
       "        text-align: right;\n",
       "    }\n",
       "</style>\n",
       "<table border=\"1\" class=\"dataframe\">\n",
       "  <thead>\n",
       "    <tr style=\"text-align: right;\">\n",
       "      <th></th>\n",
       "      <th>YearOfObservation</th>\n",
       "      <th>Insured_Period</th>\n",
       "      <th>Residential</th>\n",
       "      <th>Building_Painted</th>\n",
       "      <th>Building_Fenced</th>\n",
       "      <th>Garden</th>\n",
       "      <th>Settlement</th>\n",
       "      <th>Building Dimension</th>\n",
       "      <th>Building_Type</th>\n",
       "      <th>Date_of_Occupancy</th>\n",
       "      <th>NumberOfWindows</th>\n",
       "      <th>Geo_Code</th>\n",
       "      <th>Claim</th>\n",
       "    </tr>\n",
       "  </thead>\n",
       "  <tbody>\n",
       "    <tr>\n",
       "      <th>YearOfObservation</th>\n",
       "      <td>1.000000</td>\n",
       "      <td>-0.214766</td>\n",
       "      <td>-0.040820</td>\n",
       "      <td>-0.057249</td>\n",
       "      <td>0.120641</td>\n",
       "      <td>-0.121215</td>\n",
       "      <td>0.120415</td>\n",
       "      <td>0.036287</td>\n",
       "      <td>0.005712</td>\n",
       "      <td>0.003649</td>\n",
       "      <td>0.006004</td>\n",
       "      <td>0.006840</td>\n",
       "      <td>-0.013598</td>\n",
       "    </tr>\n",
       "    <tr>\n",
       "      <th>Insured_Period</th>\n",
       "      <td>-0.214766</td>\n",
       "      <td>1.000000</td>\n",
       "      <td>-0.034902</td>\n",
       "      <td>0.028167</td>\n",
       "      <td>0.005096</td>\n",
       "      <td>-0.004693</td>\n",
       "      <td>0.004705</td>\n",
       "      <td>0.023811</td>\n",
       "      <td>-0.002997</td>\n",
       "      <td>0.013839</td>\n",
       "      <td>0.008205</td>\n",
       "      <td>0.029782</td>\n",
       "      <td>0.074373</td>\n",
       "    </tr>\n",
       "    <tr>\n",
       "      <th>Residential</th>\n",
       "      <td>-0.040820</td>\n",
       "      <td>-0.034902</td>\n",
       "      <td>1.000000</td>\n",
       "      <td>0.032927</td>\n",
       "      <td>0.082448</td>\n",
       "      <td>-0.082952</td>\n",
       "      <td>0.082684</td>\n",
       "      <td>0.063040</td>\n",
       "      <td>0.327858</td>\n",
       "      <td>-0.069762</td>\n",
       "      <td>0.115584</td>\n",
       "      <td>0.140618</td>\n",
       "      <td>0.063509</td>\n",
       "    </tr>\n",
       "    <tr>\n",
       "      <th>Building_Painted</th>\n",
       "      <td>-0.057249</td>\n",
       "      <td>0.028167</td>\n",
       "      <td>0.032927</td>\n",
       "      <td>1.000000</td>\n",
       "      <td>-0.574757</td>\n",
       "      <td>0.573787</td>\n",
       "      <td>-0.575081</td>\n",
       "      <td>-0.095273</td>\n",
       "      <td>0.048999</td>\n",
       "      <td>0.025482</td>\n",
       "      <td>-0.014188</td>\n",
       "      <td>-0.014642</td>\n",
       "      <td>-0.029857</td>\n",
       "    </tr>\n",
       "    <tr>\n",
       "      <th>Building_Fenced</th>\n",
       "      <td>0.120641</td>\n",
       "      <td>0.005096</td>\n",
       "      <td>0.082448</td>\n",
       "      <td>-0.574757</td>\n",
       "      <td>1.000000</td>\n",
       "      <td>-0.997767</td>\n",
       "      <td>0.999441</td>\n",
       "      <td>0.161786</td>\n",
       "      <td>0.020121</td>\n",
       "      <td>-0.049371</td>\n",
       "      <td>0.028801</td>\n",
       "      <td>0.014890</td>\n",
       "      <td>0.051657</td>\n",
       "    </tr>\n",
       "    <tr>\n",
       "      <th>Garden</th>\n",
       "      <td>-0.121215</td>\n",
       "      <td>-0.004693</td>\n",
       "      <td>-0.082952</td>\n",
       "      <td>0.573787</td>\n",
       "      <td>-0.997767</td>\n",
       "      <td>1.000000</td>\n",
       "      <td>-0.997768</td>\n",
       "      <td>-0.161130</td>\n",
       "      <td>-0.022146</td>\n",
       "      <td>0.049842</td>\n",
       "      <td>-0.029460</td>\n",
       "      <td>-0.014132</td>\n",
       "      <td>-0.051902</td>\n",
       "    </tr>\n",
       "    <tr>\n",
       "      <th>Settlement</th>\n",
       "      <td>0.120415</td>\n",
       "      <td>0.004705</td>\n",
       "      <td>0.082684</td>\n",
       "      <td>-0.575081</td>\n",
       "      <td>0.999441</td>\n",
       "      <td>-0.997768</td>\n",
       "      <td>1.000000</td>\n",
       "      <td>0.161570</td>\n",
       "      <td>0.020061</td>\n",
       "      <td>-0.049432</td>\n",
       "      <td>0.029346</td>\n",
       "      <td>0.015187</td>\n",
       "      <td>0.052019</td>\n",
       "    </tr>\n",
       "    <tr>\n",
       "      <th>Building Dimension</th>\n",
       "      <td>0.036287</td>\n",
       "      <td>0.023811</td>\n",
       "      <td>0.063040</td>\n",
       "      <td>-0.095273</td>\n",
       "      <td>0.161786</td>\n",
       "      <td>-0.161130</td>\n",
       "      <td>0.161570</td>\n",
       "      <td>1.000000</td>\n",
       "      <td>-0.008587</td>\n",
       "      <td>0.353868</td>\n",
       "      <td>0.348720</td>\n",
       "      <td>0.172776</td>\n",
       "      <td>0.284506</td>\n",
       "    </tr>\n",
       "    <tr>\n",
       "      <th>Building_Type</th>\n",
       "      <td>0.005712</td>\n",
       "      <td>-0.002997</td>\n",
       "      <td>0.327858</td>\n",
       "      <td>0.048999</td>\n",
       "      <td>0.020121</td>\n",
       "      <td>-0.022146</td>\n",
       "      <td>0.020061</td>\n",
       "      <td>-0.008587</td>\n",
       "      <td>1.000000</td>\n",
       "      <td>-0.217915</td>\n",
       "      <td>0.174896</td>\n",
       "      <td>0.310774</td>\n",
       "      <td>0.106516</td>\n",
       "    </tr>\n",
       "    <tr>\n",
       "      <th>Date_of_Occupancy</th>\n",
       "      <td>0.003649</td>\n",
       "      <td>0.013839</td>\n",
       "      <td>-0.069762</td>\n",
       "      <td>0.025482</td>\n",
       "      <td>-0.049371</td>\n",
       "      <td>0.049842</td>\n",
       "      <td>-0.049432</td>\n",
       "      <td>0.353868</td>\n",
       "      <td>-0.217915</td>\n",
       "      <td>1.000000</td>\n",
       "      <td>-0.059156</td>\n",
       "      <td>-0.036039</td>\n",
       "      <td>0.023101</td>\n",
       "    </tr>\n",
       "    <tr>\n",
       "      <th>NumberOfWindows</th>\n",
       "      <td>0.006004</td>\n",
       "      <td>0.008205</td>\n",
       "      <td>0.115584</td>\n",
       "      <td>-0.014188</td>\n",
       "      <td>0.028801</td>\n",
       "      <td>-0.029460</td>\n",
       "      <td>0.029346</td>\n",
       "      <td>0.348720</td>\n",
       "      <td>0.174896</td>\n",
       "      <td>-0.059156</td>\n",
       "      <td>1.000000</td>\n",
       "      <td>0.193940</td>\n",
       "      <td>0.171211</td>\n",
       "    </tr>\n",
       "    <tr>\n",
       "      <th>Geo_Code</th>\n",
       "      <td>0.006840</td>\n",
       "      <td>0.029782</td>\n",
       "      <td>0.140618</td>\n",
       "      <td>-0.014642</td>\n",
       "      <td>0.014890</td>\n",
       "      <td>-0.014132</td>\n",
       "      <td>0.015187</td>\n",
       "      <td>0.172776</td>\n",
       "      <td>0.310774</td>\n",
       "      <td>-0.036039</td>\n",
       "      <td>0.193940</td>\n",
       "      <td>1.000000</td>\n",
       "      <td>0.397746</td>\n",
       "    </tr>\n",
       "    <tr>\n",
       "      <th>Claim</th>\n",
       "      <td>-0.013598</td>\n",
       "      <td>0.074373</td>\n",
       "      <td>0.063509</td>\n",
       "      <td>-0.029857</td>\n",
       "      <td>0.051657</td>\n",
       "      <td>-0.051902</td>\n",
       "      <td>0.052019</td>\n",
       "      <td>0.284506</td>\n",
       "      <td>0.106516</td>\n",
       "      <td>0.023101</td>\n",
       "      <td>0.171211</td>\n",
       "      <td>0.397746</td>\n",
       "      <td>1.000000</td>\n",
       "    </tr>\n",
       "  </tbody>\n",
       "</table>\n",
       "</div>"
      ],
      "text/plain": [
       "                    YearOfObservation  Insured_Period  Residential  \\\n",
       "YearOfObservation            1.000000       -0.214766    -0.040820   \n",
       "Insured_Period              -0.214766        1.000000    -0.034902   \n",
       "Residential                 -0.040820       -0.034902     1.000000   \n",
       "Building_Painted            -0.057249        0.028167     0.032927   \n",
       "Building_Fenced              0.120641        0.005096     0.082448   \n",
       "Garden                      -0.121215       -0.004693    -0.082952   \n",
       "Settlement                   0.120415        0.004705     0.082684   \n",
       "Building Dimension           0.036287        0.023811     0.063040   \n",
       "Building_Type                0.005712       -0.002997     0.327858   \n",
       "Date_of_Occupancy            0.003649        0.013839    -0.069762   \n",
       "NumberOfWindows              0.006004        0.008205     0.115584   \n",
       "Geo_Code                     0.006840        0.029782     0.140618   \n",
       "Claim                       -0.013598        0.074373     0.063509   \n",
       "\n",
       "                    Building_Painted  Building_Fenced    Garden  Settlement  \\\n",
       "YearOfObservation          -0.057249         0.120641 -0.121215    0.120415   \n",
       "Insured_Period              0.028167         0.005096 -0.004693    0.004705   \n",
       "Residential                 0.032927         0.082448 -0.082952    0.082684   \n",
       "Building_Painted            1.000000        -0.574757  0.573787   -0.575081   \n",
       "Building_Fenced            -0.574757         1.000000 -0.997767    0.999441   \n",
       "Garden                      0.573787        -0.997767  1.000000   -0.997768   \n",
       "Settlement                 -0.575081         0.999441 -0.997768    1.000000   \n",
       "Building Dimension         -0.095273         0.161786 -0.161130    0.161570   \n",
       "Building_Type               0.048999         0.020121 -0.022146    0.020061   \n",
       "Date_of_Occupancy           0.025482        -0.049371  0.049842   -0.049432   \n",
       "NumberOfWindows            -0.014188         0.028801 -0.029460    0.029346   \n",
       "Geo_Code                   -0.014642         0.014890 -0.014132    0.015187   \n",
       "Claim                      -0.029857         0.051657 -0.051902    0.052019   \n",
       "\n",
       "                    Building Dimension  Building_Type  Date_of_Occupancy  \\\n",
       "YearOfObservation             0.036287       0.005712           0.003649   \n",
       "Insured_Period                0.023811      -0.002997           0.013839   \n",
       "Residential                   0.063040       0.327858          -0.069762   \n",
       "Building_Painted             -0.095273       0.048999           0.025482   \n",
       "Building_Fenced               0.161786       0.020121          -0.049371   \n",
       "Garden                       -0.161130      -0.022146           0.049842   \n",
       "Settlement                    0.161570       0.020061          -0.049432   \n",
       "Building Dimension            1.000000      -0.008587           0.353868   \n",
       "Building_Type                -0.008587       1.000000          -0.217915   \n",
       "Date_of_Occupancy             0.353868      -0.217915           1.000000   \n",
       "NumberOfWindows               0.348720       0.174896          -0.059156   \n",
       "Geo_Code                      0.172776       0.310774          -0.036039   \n",
       "Claim                         0.284506       0.106516           0.023101   \n",
       "\n",
       "                    NumberOfWindows  Geo_Code     Claim  \n",
       "YearOfObservation          0.006004  0.006840 -0.013598  \n",
       "Insured_Period             0.008205  0.029782  0.074373  \n",
       "Residential                0.115584  0.140618  0.063509  \n",
       "Building_Painted          -0.014188 -0.014642 -0.029857  \n",
       "Building_Fenced            0.028801  0.014890  0.051657  \n",
       "Garden                    -0.029460 -0.014132 -0.051902  \n",
       "Settlement                 0.029346  0.015187  0.052019  \n",
       "Building Dimension         0.348720  0.172776  0.284506  \n",
       "Building_Type              0.174896  0.310774  0.106516  \n",
       "Date_of_Occupancy         -0.059156 -0.036039  0.023101  \n",
       "NumberOfWindows            1.000000  0.193940  0.171211  \n",
       "Geo_Code                   0.193940  1.000000  0.397746  \n",
       "Claim                      0.171211  0.397746  1.000000  "
      ]
     },
     "execution_count": 30,
     "metadata": {},
     "output_type": "execute_result"
    }
   ],
   "source": [
    "df.corr(method='spearman')"
   ]
  },
  {
   "cell_type": "code",
   "execution_count": 31,
   "metadata": {
    "execution": {
     "iopub.execute_input": "2020-12-23T21:51:40.704286Z",
     "iopub.status.busy": "2020-12-23T21:51:40.702931Z",
     "iopub.status.idle": "2020-12-23T21:51:40.872538Z",
     "shell.execute_reply": "2020-12-23T21:51:40.872021Z"
    },
    "papermill": {
     "duration": 0.236256,
     "end_time": "2020-12-23T21:51:40.872723",
     "exception": false,
     "start_time": "2020-12-23T21:51:40.636467",
     "status": "completed"
    },
    "tags": []
   },
   "outputs": [
    {
     "data": {
      "text/plain": [
       "<matplotlib.axes._subplots.AxesSubplot at 0x7f2d20148e90>"
      ]
     },
     "execution_count": 31,
     "metadata": {},
     "output_type": "execute_result"
    },
    {
     "data": {
      "image/png": "[encoded data removed]",
      "text/plain": [
       "<Figure size 432x288 with 1 Axes>"
      ]
     },
     "metadata": {
      "needs_background": "light"
     },
     "output_type": "display_data"
    }
   ],
   "source": [
    "sns.countplot(x='YearOfObservation', data=df, hue='Claim')"
   ]
  },
  {
   "cell_type": "code",
   "execution_count": 32,
   "metadata": {
    "execution": {
     "iopub.execute_input": "2020-12-23T21:51:41.002797Z",
     "iopub.status.busy": "2020-12-23T21:51:41.002086Z",
     "iopub.status.idle": "2020-12-23T21:51:41.146228Z",
     "shell.execute_reply": "2020-12-23T21:51:41.145465Z"
    },
    "papermill": {
     "duration": 0.21068,
     "end_time": "2020-12-23T21:51:41.146352",
     "exception": false,
     "start_time": "2020-12-23T21:51:40.935672",
     "status": "completed"
    },
    "tags": []
   },
   "outputs": [
    {
     "data": {
      "text/plain": [
       "<matplotlib.axes._subplots.AxesSubplot at 0x7f2d201a0810>"
      ]
     },
     "execution_count": 32,
     "metadata": {},
     "output_type": "execute_result"
    },
    {
     "data": {
      "image/png": "[encoded data removed]",
      "text/plain": [
       "<Figure size 432x288 with 1 Axes>"
      ]
     },
     "metadata": {
      "needs_background": "light"
     },
     "output_type": "display_data"
    }
   ],
   "source": [
    "sns.countplot(x='Building_Painted', data=df, hue='Claim')"
   ]
  },
  {
   "cell_type": "code",
   "execution_count": 33,
   "metadata": {
    "execution": {
     "iopub.execute_input": "2020-12-23T21:51:41.278243Z",
     "iopub.status.busy": "2020-12-23T21:51:41.277504Z",
     "iopub.status.idle": "2020-12-23T21:51:41.486983Z",
     "shell.execute_reply": "2020-12-23T21:51:41.486327Z"
    },
    "papermill": {
     "duration": 0.276847,
     "end_time": "2020-12-23T21:51:41.487095",
     "exception": false,
     "start_time": "2020-12-23T21:51:41.210248",
     "status": "completed"
    },
    "tags": []
   },
   "outputs": [
    {
     "data": {
      "text/plain": [
       "<matplotlib.axes._subplots.AxesSubplot at 0x7f2d200410d0>"
      ]
     },
     "execution_count": 33,
     "metadata": {},
     "output_type": "execute_result"
    },
    {
     "data": {
      "image/png": "[encoded data removed]",
      "text/plain": [
       "<Figure size 432x288 with 1 Axes>"
      ]
     },
     "metadata": {
      "needs_background": "light"
     },
     "output_type": "display_data"
    }
   ],
   "source": [
    "sns.countplot(x='Building_Fenced', data=df, hue='Claim')"
   ]
  },
  {
   "cell_type": "code",
   "execution_count": 34,
   "metadata": {
    "execution": {
     "iopub.execute_input": "2020-12-23T21:51:41.621481Z",
     "iopub.status.busy": "2020-12-23T21:51:41.620795Z",
     "iopub.status.idle": "2020-12-23T21:51:41.755067Z",
     "shell.execute_reply": "2020-12-23T21:51:41.754395Z"
    },
    "papermill": {
     "duration": 0.203861,
     "end_time": "2020-12-23T21:51:41.755175",
     "exception": false,
     "start_time": "2020-12-23T21:51:41.551314",
     "status": "completed"
    },
    "tags": []
   },
   "outputs": [
    {
     "data": {
      "text/plain": [
       "<matplotlib.axes._subplots.AxesSubplot at 0x7f2d2005d410>"
      ]
     },
     "execution_count": 34,
     "metadata": {},
     "output_type": "execute_result"
    },
    {
     "data": {
      "image/png": "[encoded data removed]",
      "text/plain": [
       "<Figure size 432x288 with 1 Axes>"
      ]
     },
     "metadata": {
      "needs_background": "light"
     },
     "output_type": "display_data"
    }
   ],
   "source": [
    "sns.countplot(x='Garden',data=df, hue='Claim')"
   ]
  },
  {
   "cell_type": "code",
   "execution_count": 35,
   "metadata": {
    "execution": {
     "iopub.execute_input": "2020-12-23T21:51:41.895321Z",
     "iopub.status.busy": "2020-12-23T21:51:41.894401Z",
     "iopub.status.idle": "2020-12-23T21:51:42.071703Z",
     "shell.execute_reply": "2020-12-23T21:51:42.071021Z"
    },
    "papermill": {
     "duration": 0.251755,
     "end_time": "2020-12-23T21:51:42.071815",
     "exception": false,
     "start_time": "2020-12-23T21:51:41.820060",
     "status": "completed"
    },
    "tags": []
   },
   "outputs": [
    {
     "data": {
      "text/plain": [
       "<matplotlib.axes._subplots.AxesSubplot at 0x7f2d19f70e90>"
      ]
     },
     "execution_count": 35,
     "metadata": {},
     "output_type": "execute_result"
    },
    {
     "data": {
      "image/png": "[encoded data removed]",
      "text/plain": [
       "<Figure size 432x288 with 1 Axes>"
      ]
     },
     "metadata": {
      "needs_background": "light"
     },
     "output_type": "display_data"
    }
   ],
   "source": [
    "sns.countplot(x='Settlement', data=df, hue='Claim')"
   ]
  },
  {
   "cell_type": "code",
   "execution_count": 36,
   "metadata": {
    "execution": {
     "iopub.execute_input": "2020-12-23T21:51:42.219024Z",
     "iopub.status.busy": "2020-12-23T21:51:42.218004Z",
     "iopub.status.idle": "2020-12-23T21:51:42.248210Z",
     "shell.execute_reply": "2020-12-23T21:51:42.247660Z"
    },
    "papermill": {
     "duration": 0.110692,
     "end_time": "2020-12-23T21:51:42.248318",
     "exception": false,
     "start_time": "2020-12-23T21:51:42.137626",
     "status": "completed"
    },
    "tags": []
   },
   "outputs": [
    {
     "data": {
      "text/html": [
       "<div>\n",
       "<style scoped>\n",
       "    .dataframe tbody tr th:only-of-type {\n",
       "        vertical-align: middle;\n",
       "    }\n",
       "\n",
       "    .dataframe tbody tr th {\n",
       "        vertical-align: top;\n",
       "    }\n",
       "\n",
       "    .dataframe thead th {\n",
       "        text-align: right;\n",
       "    }\n",
       "</style>\n",
       "<table border=\"1\" class=\"dataframe\">\n",
       "  <thead>\n",
       "    <tr style=\"text-align: right;\">\n",
       "      <th></th>\n",
       "      <th>YearOfObservation</th>\n",
       "      <th>Insured_Period</th>\n",
       "      <th>Residential</th>\n",
       "      <th>Building_Painted</th>\n",
       "      <th>Building_Fenced</th>\n",
       "      <th>Building Dimension</th>\n",
       "      <th>Date_of_Occupancy</th>\n",
       "      <th>NumberOfWindows</th>\n",
       "      <th>Claim</th>\n",
       "      <th>Building_Type_1</th>\n",
       "      <th>Building_Type_2</th>\n",
       "      <th>Building_Type_3</th>\n",
       "      <th>Building_Type_4</th>\n",
       "    </tr>\n",
       "  </thead>\n",
       "  <tbody>\n",
       "    <tr>\n",
       "      <th>0</th>\n",
       "      <td>2013</td>\n",
       "      <td>1.000000</td>\n",
       "      <td>0</td>\n",
       "      <td>1</td>\n",
       "      <td>0</td>\n",
       "      <td>290.0</td>\n",
       "      <td>1960.0</td>\n",
       "      <td>4</td>\n",
       "      <td>0</td>\n",
       "      <td>1</td>\n",
       "      <td>0</td>\n",
       "      <td>0</td>\n",
       "      <td>0</td>\n",
       "    </tr>\n",
       "    <tr>\n",
       "      <th>1</th>\n",
       "      <td>2015</td>\n",
       "      <td>1.000000</td>\n",
       "      <td>0</td>\n",
       "      <td>0</td>\n",
       "      <td>1</td>\n",
       "      <td>490.0</td>\n",
       "      <td>1850.0</td>\n",
       "      <td>4</td>\n",
       "      <td>0</td>\n",
       "      <td>1</td>\n",
       "      <td>0</td>\n",
       "      <td>0</td>\n",
       "      <td>0</td>\n",
       "    </tr>\n",
       "    <tr>\n",
       "      <th>2</th>\n",
       "      <td>2014</td>\n",
       "      <td>1.000000</td>\n",
       "      <td>0</td>\n",
       "      <td>1</td>\n",
       "      <td>0</td>\n",
       "      <td>595.0</td>\n",
       "      <td>1960.0</td>\n",
       "      <td>4</td>\n",
       "      <td>0</td>\n",
       "      <td>1</td>\n",
       "      <td>0</td>\n",
       "      <td>0</td>\n",
       "      <td>0</td>\n",
       "    </tr>\n",
       "    <tr>\n",
       "      <th>3</th>\n",
       "      <td>2013</td>\n",
       "      <td>1.000000</td>\n",
       "      <td>0</td>\n",
       "      <td>0</td>\n",
       "      <td>0</td>\n",
       "      <td>2840.0</td>\n",
       "      <td>1960.0</td>\n",
       "      <td>4</td>\n",
       "      <td>0</td>\n",
       "      <td>1</td>\n",
       "      <td>0</td>\n",
       "      <td>0</td>\n",
       "      <td>0</td>\n",
       "    </tr>\n",
       "    <tr>\n",
       "      <th>4</th>\n",
       "      <td>2014</td>\n",
       "      <td>1.000000</td>\n",
       "      <td>0</td>\n",
       "      <td>0</td>\n",
       "      <td>1</td>\n",
       "      <td>680.0</td>\n",
       "      <td>1800.0</td>\n",
       "      <td>3</td>\n",
       "      <td>0</td>\n",
       "      <td>1</td>\n",
       "      <td>0</td>\n",
       "      <td>0</td>\n",
       "      <td>0</td>\n",
       "    </tr>\n",
       "    <tr>\n",
       "      <th>...</th>\n",
       "      <td>...</td>\n",
       "      <td>...</td>\n",
       "      <td>...</td>\n",
       "      <td>...</td>\n",
       "      <td>...</td>\n",
       "      <td>...</td>\n",
       "      <td>...</td>\n",
       "      <td>...</td>\n",
       "      <td>...</td>\n",
       "      <td>...</td>\n",
       "      <td>...</td>\n",
       "      <td>...</td>\n",
       "      <td>...</td>\n",
       "    </tr>\n",
       "    <tr>\n",
       "      <th>7155</th>\n",
       "      <td>2012</td>\n",
       "      <td>1.000000</td>\n",
       "      <td>1</td>\n",
       "      <td>0</td>\n",
       "      <td>0</td>\n",
       "      <td>400.0</td>\n",
       "      <td>2001.0</td>\n",
       "      <td>4</td>\n",
       "      <td>0</td>\n",
       "      <td>1</td>\n",
       "      <td>0</td>\n",
       "      <td>0</td>\n",
       "      <td>0</td>\n",
       "    </tr>\n",
       "    <tr>\n",
       "      <th>7156</th>\n",
       "      <td>2013</td>\n",
       "      <td>1.000000</td>\n",
       "      <td>0</td>\n",
       "      <td>0</td>\n",
       "      <td>0</td>\n",
       "      <td>400.0</td>\n",
       "      <td>1980.0</td>\n",
       "      <td>4</td>\n",
       "      <td>1</td>\n",
       "      <td>0</td>\n",
       "      <td>1</td>\n",
       "      <td>0</td>\n",
       "      <td>0</td>\n",
       "    </tr>\n",
       "    <tr>\n",
       "      <th>7157</th>\n",
       "      <td>2016</td>\n",
       "      <td>0.038251</td>\n",
       "      <td>0</td>\n",
       "      <td>0</td>\n",
       "      <td>0</td>\n",
       "      <td>400.0</td>\n",
       "      <td>1992.0</td>\n",
       "      <td>4</td>\n",
       "      <td>0</td>\n",
       "      <td>1</td>\n",
       "      <td>0</td>\n",
       "      <td>0</td>\n",
       "      <td>0</td>\n",
       "    </tr>\n",
       "    <tr>\n",
       "      <th>7158</th>\n",
       "      <td>2013</td>\n",
       "      <td>1.000000</td>\n",
       "      <td>0</td>\n",
       "      <td>0</td>\n",
       "      <td>0</td>\n",
       "      <td>400.0</td>\n",
       "      <td>1972.0</td>\n",
       "      <td>4</td>\n",
       "      <td>0</td>\n",
       "      <td>1</td>\n",
       "      <td>0</td>\n",
       "      <td>0</td>\n",
       "      <td>0</td>\n",
       "    </tr>\n",
       "    <tr>\n",
       "      <th>7159</th>\n",
       "      <td>2014</td>\n",
       "      <td>1.000000</td>\n",
       "      <td>0</td>\n",
       "      <td>0</td>\n",
       "      <td>0</td>\n",
       "      <td>400.0</td>\n",
       "      <td>2004.0</td>\n",
       "      <td>4</td>\n",
       "      <td>0</td>\n",
       "      <td>1</td>\n",
       "      <td>0</td>\n",
       "      <td>0</td>\n",
       "      <td>0</td>\n",
       "    </tr>\n",
       "  </tbody>\n",
       "</table>\n",
       "<p>7160 rows × 13 columns</p>\n",
       "</div>"
      ],
      "text/plain": [
       "      YearOfObservation  Insured_Period  Residential  Building_Painted  \\\n",
       "0                  2013        1.000000            0                 1   \n",
       "1                  2015        1.000000            0                 0   \n",
       "2                  2014        1.000000            0                 1   \n",
       "3                  2013        1.000000            0                 0   \n",
       "4                  2014        1.000000            0                 0   \n",
       "...                 ...             ...          ...               ...   \n",
       "7155               2012        1.000000            1                 0   \n",
       "7156               2013        1.000000            0                 0   \n",
       "7157               2016        0.038251            0                 0   \n",
       "7158               2013        1.000000            0                 0   \n",
       "7159               2014        1.000000            0                 0   \n",
       "\n",
       "      Building_Fenced  Building Dimension  Date_of_Occupancy  NumberOfWindows  \\\n",
       "0                   0               290.0             1960.0                4   \n",
       "1                   1               490.0             1850.0                4   \n",
       "2                   0               595.0             1960.0                4   \n",
       "3                   0              2840.0             1960.0                4   \n",
       "4                   1               680.0             1800.0                3   \n",
       "...               ...                 ...                ...              ...   \n",
       "7155                0               400.0             2001.0                4   \n",
       "7156                0               400.0             1980.0                4   \n",
       "7157                0               400.0             1992.0                4   \n",
       "7158                0               400.0             1972.0                4   \n",
       "7159                0               400.0             2004.0                4   \n",
       "\n",
       "      Claim  Building_Type_1  Building_Type_2  Building_Type_3  \\\n",
       "0         0                1                0                0   \n",
       "1         0                1                0                0   \n",
       "2         0                1                0                0   \n",
       "3         0                1                0                0   \n",
       "4         0                1                0                0   \n",
       "...     ...              ...              ...              ...   \n",
       "7155      0                1                0                0   \n",
       "7156      1                0                1                0   \n",
       "7157      0                1                0                0   \n",
       "7158      0                1                0                0   \n",
       "7159      0                1                0                0   \n",
       "\n",
       "      Building_Type_4  \n",
       "0                   0  \n",
       "1                   0  \n",
       "2                   0  \n",
       "3                   0  \n",
       "4                   0  \n",
       "...               ...  \n",
       "7155                0  \n",
       "7156                0  \n",
       "7157                0  \n",
       "7158                0  \n",
       "7159                0  \n",
       "\n",
       "[7160 rows x 13 columns]"
      ]
     },
     "execution_count": 36,
     "metadata": {},
     "output_type": "execute_result"
    }
   ],
   "source": [
    "df = df.drop(columns=['Garden',\n",
    "                     'Settlement','Geo_Code'])\n",
    "df = pd.get_dummies(df, columns=['Building_Type'])\n",
    "df"
   ]
  },
  {
   "cell_type": "code",
   "execution_count": 37,
   "metadata": {
    "execution": {
     "iopub.execute_input": "2020-12-23T21:51:42.392449Z",
     "iopub.status.busy": "2020-12-23T21:51:42.389960Z",
     "iopub.status.idle": "2020-12-23T21:51:42.398684Z",
     "shell.execute_reply": "2020-12-23T21:51:42.398084Z"
    },
    "papermill": {
     "duration": 0.083677,
     "end_time": "2020-12-23T21:51:42.398800",
     "exception": false,
     "start_time": "2020-12-23T21:51:42.315123",
     "status": "completed"
    },
    "tags": []
   },
   "outputs": [
    {
     "name": "stdout",
     "output_type": "stream",
     "text": [
      "5526 is 77.18 % of dataset\n",
      "1634 is 22.82 % of dataset\n"
     ]
    }
   ],
   "source": [
    "print(str(df['Claim'].value_counts()[0]) + ' is', round(df['Claim'].value_counts()[0]/len(df) * 100,2),'% of dataset')\n",
    "print(str(df['Claim'].value_counts()[1]) + ' is', round(df['Claim'].value_counts()[1]/len(df) * 100,2),'% of dataset')"
   ]
  },
  {
   "cell_type": "code",
   "execution_count": 38,
   "metadata": {
    "execution": {
     "iopub.execute_input": "2020-12-23T21:51:42.540518Z",
     "iopub.status.busy": "2020-12-23T21:51:42.539848Z",
     "iopub.status.idle": "2020-12-23T21:51:42.554086Z",
     "shell.execute_reply": "2020-12-23T21:51:42.553307Z"
    },
    "papermill": {
     "duration": 0.087851,
     "end_time": "2020-12-23T21:51:42.554233",
     "exception": false,
     "start_time": "2020-12-23T21:51:42.466382",
     "status": "completed"
    },
    "tags": []
   },
   "outputs": [
    {
     "name": "stdout",
     "output_type": "stream",
     "text": [
      "<class 'pandas.core.frame.DataFrame'>\n",
      "RangeIndex: 7160 entries, 0 to 7159\n",
      "Data columns (total 13 columns):\n",
      " #   Column              Non-Null Count  Dtype  \n",
      "---  ------              --------------  -----  \n",
      " 0   YearOfObservation   7160 non-null   int64  \n",
      " 1   Insured_Period      7160 non-null   float64\n",
      " 2   Residential         7160 non-null   int64  \n",
      " 3   Building_Painted    7160 non-null   int64  \n",
      " 4   Building_Fenced     7160 non-null   int64  \n",
      " 5   Building Dimension  7160 non-null   float64\n",
      " 6   Date_of_Occupancy   7160 non-null   float64\n",
      " 7   NumberOfWindows     7160 non-null   int64  \n",
      " 8   Claim               7160 non-null   int64  \n",
      " 9   Building_Type_1     7160 non-null   uint8  \n",
      " 10  Building_Type_2     7160 non-null   uint8  \n",
      " 11  Building_Type_3     7160 non-null   uint8  \n",
      " 12  Building_Type_4     7160 non-null   uint8  \n",
      "dtypes: float64(3), int64(6), uint8(4)\n",
      "memory usage: 531.5 KB\n"
     ]
    }
   ],
   "source": [
    "df['YearOfObservation'] = 2020-df['YearOfObservation']\n",
    "df['Date_of_Occupancy'] = 2020-df['Date_of_Occupancy']\n",
    "df.info()"
   ]
  },
  {
   "cell_type": "code",
   "execution_count": 39,
   "metadata": {
    "execution": {
     "iopub.execute_input": "2020-12-23T21:51:42.693362Z",
     "iopub.status.busy": "2020-12-23T21:51:42.692758Z",
     "iopub.status.idle": "2020-12-23T21:51:42.927951Z",
     "shell.execute_reply": "2020-12-23T21:51:42.928449Z"
    },
    "papermill": {
     "duration": 0.306501,
     "end_time": "2020-12-23T21:51:42.928623",
     "exception": false,
     "start_time": "2020-12-23T21:51:42.622122",
     "status": "completed"
    },
    "tags": []
   },
   "outputs": [],
   "source": [
    "from sklearn.model_selection import train_test_split\n",
    "from sklearn.metrics import confusion_matrix,accuracy_score,roc_auc_score\n",
    "from sklearn.linear_model import LogisticRegression\n",
    "from sklearn.metrics import f1_score\n",
    "from sklearn.metrics import precision_score\n",
    "from sklearn.metrics import recall_score\n",
    "from sklearn import preprocessing\n",
    "from sklearn.decomposition import PCA\n",
    "from sklearn.preprocessing import StandardScaler\n",
    "\n",
    "X = df.drop('Claim',axis=1)\n",
    "y = df['Claim']\n",
    "X = StandardScaler().fit_transform(X)\n",
    "X_train, X_test, y_train, y_test = train_test_split(X, y, test_size=0.1, random_state=24531)\n"
   ]
  },
  {
   "cell_type": "code",
   "execution_count": 40,
   "metadata": {
    "execution": {
     "iopub.execute_input": "2020-12-23T21:51:43.066677Z",
     "iopub.status.busy": "2020-12-23T21:51:43.066005Z",
     "iopub.status.idle": "2020-12-23T21:51:43.113691Z",
     "shell.execute_reply": "2020-12-23T21:51:43.114204Z"
    },
    "papermill": {
     "duration": 0.118561,
     "end_time": "2020-12-23T21:51:43.114369",
     "exception": false,
     "start_time": "2020-12-23T21:51:42.995808",
     "status": "completed"
    },
    "tags": []
   },
   "outputs": [],
   "source": [
    "pca = PCA(.90, whiten = True)\n",
    "principalComponents = pca.fit_transform(X)\n"
   ]
  },
  {
   "cell_type": "code",
   "execution_count": 41,
   "metadata": {
    "execution": {
     "iopub.execute_input": "2020-12-23T21:51:43.253120Z",
     "iopub.status.busy": "2020-12-23T21:51:43.252127Z",
     "iopub.status.idle": "2020-12-23T21:51:43.258466Z",
     "shell.execute_reply": "2020-12-23T21:51:43.259111Z"
    },
    "papermill": {
     "duration": 0.077107,
     "end_time": "2020-12-23T21:51:43.259266",
     "exception": false,
     "start_time": "2020-12-23T21:51:43.182159",
     "status": "completed"
    },
    "tags": []
   },
   "outputs": [
    {
     "name": "stdout",
     "output_type": "stream",
     "text": [
      "[0.15445263 0.13540963 0.12493971 0.11165943 0.09813599 0.08554949\n",
      " 0.08006698 0.07246769 0.05722105]\n"
     ]
    }
   ],
   "source": [
    "print(pca.explained_variance_ratio_)\n"
   ]
  },
  {
   "cell_type": "code",
   "execution_count": 42,
   "metadata": {
    "execution": {
     "iopub.execute_input": "2020-12-23T21:51:43.398190Z",
     "iopub.status.busy": "2020-12-23T21:51:43.397516Z",
     "iopub.status.idle": "2020-12-23T21:51:43.426723Z",
     "shell.execute_reply": "2020-12-23T21:51:43.427216Z"
    },
    "papermill": {
     "duration": 0.100459,
     "end_time": "2020-12-23T21:51:43.427348",
     "exception": false,
     "start_time": "2020-12-23T21:51:43.326889",
     "status": "completed"
    },
    "tags": []
   },
   "outputs": [
    {
     "data": {
      "text/plain": [
       "array([[404, 148],\n",
       "       [ 78,  86]])"
      ]
     },
     "execution_count": 42,
     "metadata": {},
     "output_type": "execute_result"
    }
   ],
   "source": [
    "lr = LogisticRegression(C = 0.5,max_iter = 3000, class_weight = 'balanced')#class_weight нужен так как классы не сбалансированы, https://towardsdatascience.com/weighted-logistic-regression-for-imbalanced-dataset-9a5cd88e68b\n",
    "lr.fit(X_train,y_train)\n",
    "y_pred = lr.predict(X_test)\n",
    "confusion_matrix(y_test,y_pred)"
   ]
  },
  {
   "cell_type": "code",
   "execution_count": 43,
   "metadata": {
    "execution": {
     "iopub.execute_input": "2020-12-23T21:51:43.568156Z",
     "iopub.status.busy": "2020-12-23T21:51:43.567410Z",
     "iopub.status.idle": "2020-12-23T21:51:43.573464Z",
     "shell.execute_reply": "2020-12-23T21:51:43.574022Z"
    },
    "papermill": {
     "duration": 0.078416,
     "end_time": "2020-12-23T21:51:43.574155",
     "exception": false,
     "start_time": "2020-12-23T21:51:43.495739",
     "status": "completed"
    },
    "tags": []
   },
   "outputs": [
    {
     "data": {
      "text/plain": [
       "0.6843575418994413"
      ]
     },
     "execution_count": 43,
     "metadata": {},
     "output_type": "execute_result"
    }
   ],
   "source": [
    "accuracy_score(y_test,y_pred)"
   ]
  },
  {
   "cell_type": "code",
   "execution_count": 44,
   "metadata": {
    "execution": {
     "iopub.execute_input": "2020-12-23T21:51:43.714729Z",
     "iopub.status.busy": "2020-12-23T21:51:43.714090Z",
     "iopub.status.idle": "2020-12-23T21:51:43.720611Z",
     "shell.execute_reply": "2020-12-23T21:51:43.721181Z"
    },
    "papermill": {
     "duration": 0.078241,
     "end_time": "2020-12-23T21:51:43.721309",
     "exception": false,
     "start_time": "2020-12-23T21:51:43.643068",
     "status": "completed"
    },
    "tags": []
   },
   "outputs": [
    {
     "data": {
      "text/plain": [
       "0.36752136752136755"
      ]
     },
     "execution_count": 44,
     "metadata": {},
     "output_type": "execute_result"
    }
   ],
   "source": [
    "precision_score(y_test,y_pred)"
   ]
  },
  {
   "cell_type": "code",
   "execution_count": 45,
   "metadata": {
    "execution": {
     "iopub.execute_input": "2020-12-23T21:51:43.863366Z",
     "iopub.status.busy": "2020-12-23T21:51:43.862743Z",
     "iopub.status.idle": "2020-12-23T21:51:43.869328Z",
     "shell.execute_reply": "2020-12-23T21:51:43.869851Z"
    },
    "papermill": {
     "duration": 0.078481,
     "end_time": "2020-12-23T21:51:43.869988",
     "exception": false,
     "start_time": "2020-12-23T21:51:43.791507",
     "status": "completed"
    },
    "tags": []
   },
   "outputs": [
    {
     "data": {
      "text/plain": [
       "0.43216080402010054"
      ]
     },
     "execution_count": 45,
     "metadata": {},
     "output_type": "execute_result"
    }
   ],
   "source": [
    "f1_score(y_test,y_pred)"
   ]
  },
  {
   "cell_type": "code",
   "execution_count": 46,
   "metadata": {
    "execution": {
     "iopub.execute_input": "2020-12-23T21:51:44.012333Z",
     "iopub.status.busy": "2020-12-23T21:51:44.011683Z",
     "iopub.status.idle": "2020-12-23T21:51:44.018187Z",
     "shell.execute_reply": "2020-12-23T21:51:44.018750Z"
    },
    "papermill": {
     "duration": 0.079115,
     "end_time": "2020-12-23T21:51:44.018914",
     "exception": false,
     "start_time": "2020-12-23T21:51:43.939799",
     "status": "completed"
    },
    "tags": []
   },
   "outputs": [
    {
     "data": {
      "text/plain": [
       "0.6281371509367267"
      ]
     },
     "execution_count": 46,
     "metadata": {},
     "output_type": "execute_result"
    }
   ],
   "source": [
    "roc_auc_score(y_test,y_pred)"
   ]
  },
  {
   "cell_type": "code",
   "execution_count": 47,
   "metadata": {
    "execution": {
     "iopub.execute_input": "2020-12-23T21:51:44.161285Z",
     "iopub.status.busy": "2020-12-23T21:51:44.160672Z",
     "iopub.status.idle": "2020-12-23T21:51:44.167019Z",
     "shell.execute_reply": "2020-12-23T21:51:44.167550Z"
    },
    "papermill": {
     "duration": 0.078529,
     "end_time": "2020-12-23T21:51:44.167707",
     "exception": false,
     "start_time": "2020-12-23T21:51:44.089178",
     "status": "completed"
    },
    "tags": []
   },
   "outputs": [
    {
     "data": {
      "text/plain": [
       "0.524390243902439"
      ]
     },
     "execution_count": 47,
     "metadata": {},
     "output_type": "execute_result"
    }
   ],
   "source": [
    "recall_score(y_test,y_pred)"
   ]
  },
  {
   "cell_type": "markdown",
   "metadata": {
    "papermill": {
     "duration": 0.073835,
     "end_time": "2020-12-23T21:51:44.312319",
     "exception": false,
     "start_time": "2020-12-23T21:51:44.238484",
     "status": "completed"
    },
    "tags": []
   },
   "source": [
    "# Подбор параметров"
   ]
  },
  {
   "cell_type": "code",
   "execution_count": 48,
   "metadata": {
    "execution": {
     "iopub.execute_input": "2020-12-23T21:51:44.479605Z",
     "iopub.status.busy": "2020-12-23T21:51:44.478894Z",
     "iopub.status.idle": "2020-12-23T21:51:44.486532Z",
     "shell.execute_reply": "2020-12-23T21:51:44.487143Z"
    },
    "papermill": {
     "duration": 0.091305,
     "end_time": "2020-12-23T21:51:44.487290",
     "exception": false,
     "start_time": "2020-12-23T21:51:44.395985",
     "status": "completed"
    },
    "tags": []
   },
   "outputs": [],
   "source": [
    "from sklearn.linear_model import LogisticRegressionCV\n",
    "from sklearn.model_selection import StratifiedKFold\n",
    "from sklearn.model_selection import GridSearchCV\n",
    "\n",
    "c_values = np.logspace(-3, 3, 25)\n",
    "\n",
    "# define hyperparameters\n",
    "hyperparam_grid = {\"penalty\": [\"l1\", \"l2\"]\n",
    "                   ,\"C\": c_values\n",
    "                   ,\"fit_intercept\": [True, False]}"
   ]
  },
  {
   "cell_type": "code",
   "execution_count": 49,
   "metadata": {
    "execution": {
     "iopub.execute_input": "2020-12-23T21:51:44.649791Z",
     "iopub.status.busy": "2020-12-23T21:51:44.648426Z",
     "iopub.status.idle": "2020-12-23T21:51:48.756217Z",
     "shell.execute_reply": "2020-12-23T21:51:48.757821Z"
    },
    "papermill": {
     "duration": 4.192645,
     "end_time": "2020-12-23T21:51:48.758142",
     "exception": false,
     "start_time": "2020-12-23T21:51:44.565497",
     "status": "completed"
    },
    "tags": []
   },
   "outputs": [
    {
     "name": "stdout",
     "output_type": "stream",
     "text": [
      "Best score: 0.7171810815668289 with param: {'C': 56.23413251903491, 'fit_intercept': False, 'penalty': 'l2'}\n"
     ]
    }
   ],
   "source": [
    "# define evaluation procedure\n",
    "grid = GridSearchCV(lr,hyperparam_grid,scoring=\"roc_auc\", cv=5, n_jobs=-1, refit=True)\n",
    "grid.fit(X_train,y_train)\n",
    "print(f'Best score: {grid.best_score_} with param: {grid.best_params_}')"
   ]
  },
  {
   "cell_type": "code",
   "execution_count": 50,
   "metadata": {
    "execution": {
     "iopub.execute_input": "2020-12-23T21:51:48.912949Z",
     "iopub.status.busy": "2020-12-23T21:51:48.912097Z",
     "iopub.status.idle": "2020-12-23T21:51:48.915725Z",
     "shell.execute_reply": "2020-12-23T21:51:48.916272Z"
    },
    "papermill": {
     "duration": 0.08046,
     "end_time": "2020-12-23T21:51:48.916405",
     "exception": false,
     "start_time": "2020-12-23T21:51:48.835945",
     "status": "completed"
    },
    "tags": []
   },
   "outputs": [
    {
     "name": "stdout",
     "output_type": "stream",
     "text": [
      "{'C': 56.23413251903491, 'fit_intercept': False, 'penalty': 'l2'}\n",
      "0.7171810815668289\n"
     ]
    }
   ],
   "source": [
    "print(grid.best_params_)\n",
    "print(grid.best_score_)"
   ]
  },
  {
   "cell_type": "code",
   "execution_count": 51,
   "metadata": {
    "execution": {
     "iopub.execute_input": "2020-12-23T21:51:49.066255Z",
     "iopub.status.busy": "2020-12-23T21:51:49.065615Z",
     "iopub.status.idle": "2020-12-23T21:51:49.090966Z",
     "shell.execute_reply": "2020-12-23T21:51:49.091654Z"
    },
    "papermill": {
     "duration": 0.103222,
     "end_time": "2020-12-23T21:51:49.091812",
     "exception": false,
     "start_time": "2020-12-23T21:51:48.988590",
     "status": "completed"
    },
    "tags": []
   },
   "outputs": [
    {
     "data": {
      "text/plain": [
       "array([[361, 191],\n",
       "       [ 69,  95]])"
      ]
     },
     "execution_count": 51,
     "metadata": {},
     "output_type": "execute_result"
    }
   ],
   "source": [
    "lr = LogisticRegression(C = 56.23413251903491,fit_intercept= False,penalty= 'l2', class_weight = 'balanced')\n",
    "lr.fit(X_train,y_train)\n",
    "y_pred = lr.predict(X_test)\n",
    "confusion_matrix(y_test,y_pred)"
   ]
  },
  {
   "cell_type": "code",
   "execution_count": 52,
   "metadata": {
    "execution": {
     "iopub.execute_input": "2020-12-23T21:51:49.242740Z",
     "iopub.status.busy": "2020-12-23T21:51:49.242046Z",
     "iopub.status.idle": "2020-12-23T21:51:49.256656Z",
     "shell.execute_reply": "2020-12-23T21:51:49.257350Z"
    },
    "papermill": {
     "duration": 0.091827,
     "end_time": "2020-12-23T21:51:49.257546",
     "exception": false,
     "start_time": "2020-12-23T21:51:49.165719",
     "status": "completed"
    },
    "tags": []
   },
   "outputs": [
    {
     "name": "stdout",
     "output_type": "stream",
     "text": [
      "0.6368715083798883\n",
      "0.6166268999646517\n",
      "0.4222222222222222\n",
      "0.5792682926829268\n"
     ]
    }
   ],
   "source": [
    "print(accuracy_score(y_test,y_pred))\n",
    "print(roc_auc_score(y_test,y_pred))\n",
    "print(f1_score(y_test,y_pred))\n",
    "print(recall_score(y_test,y_pred))"
   ]
  },
  {
   "cell_type": "markdown",
   "metadata": {
    "papermill": {
     "duration": 0.074158,
     "end_time": "2020-12-23T21:51:49.406856",
     "exception": false,
     "start_time": "2020-12-23T21:51:49.332698",
     "status": "completed"
    },
    "tags": []
   },
   "source": [
    "В целом, подбор оптимального параметров незначительно улучшил показатели метрик для нашей модели."
   ]
  },
  {
   "cell_type": "markdown",
   "metadata": {
    "papermill": {
     "duration": 0.073612,
     "end_time": "2020-12-23T21:51:49.554920",
     "exception": false,
     "start_time": "2020-12-23T21:51:49.481308",
     "status": "completed"
    },
    "tags": []
   },
   "source": [
    "# Полиномиальная регрессия"
   ]
  },
  {
   "cell_type": "code",
   "execution_count": 53,
   "metadata": {
    "execution": {
     "iopub.execute_input": "2020-12-23T21:51:49.709473Z",
     "iopub.status.busy": "2020-12-23T21:51:49.708729Z",
     "iopub.status.idle": "2020-12-23T21:51:50.027735Z",
     "shell.execute_reply": "2020-12-23T21:51:50.028240Z"
    },
    "papermill": {
     "duration": 0.400719,
     "end_time": "2020-12-23T21:51:50.028386",
     "exception": false,
     "start_time": "2020-12-23T21:51:49.627667",
     "status": "completed"
    },
    "tags": []
   },
   "outputs": [
    {
     "data": {
      "text/plain": [
       "LogisticRegression(C=1, class_weight='balanced', n_jobs=-1, random_state=124642)"
      ]
     },
     "execution_count": 53,
     "metadata": {},
     "output_type": "execute_result"
    }
   ],
   "source": [
    "from sklearn.preprocessing import PolynomialFeatures\n",
    "\n",
    "poly = PolynomialFeatures(degree=2)\n",
    "X_poly = poly.fit_transform(X_train)\n",
    "logit = LogisticRegression(C=1,n_jobs=-1, random_state=124642,class_weight = 'balanced')\n",
    "logit.fit(X_poly,y_train)\n"
   ]
  },
  {
   "cell_type": "markdown",
   "metadata": {
    "papermill": {
     "duration": 0.072499,
     "end_time": "2020-12-23T21:51:50.174400",
     "exception": false,
     "start_time": "2020-12-23T21:51:50.101901",
     "status": "completed"
    },
    "tags": []
   },
   "source": [
    "Оптимальная степень - 2 (построить график желательно бы)."
   ]
  },
  {
   "cell_type": "code",
   "execution_count": 54,
   "metadata": {
    "execution": {
     "iopub.execute_input": "2020-12-23T21:51:50.323414Z",
     "iopub.status.busy": "2020-12-23T21:51:50.322437Z",
     "iopub.status.idle": "2020-12-23T21:51:50.332050Z",
     "shell.execute_reply": "2020-12-23T21:51:50.331574Z"
    },
    "papermill": {
     "duration": 0.084579,
     "end_time": "2020-12-23T21:51:50.332155",
     "exception": false,
     "start_time": "2020-12-23T21:51:50.247576",
     "status": "completed"
    },
    "tags": []
   },
   "outputs": [
    {
     "data": {
      "text/plain": [
       "0.613158359844468"
      ]
     },
     "execution_count": 54,
     "metadata": {},
     "output_type": "execute_result"
    }
   ],
   "source": [
    "roc_auc_score(y_test,logit.predict(poly.transform(X_test)))"
   ]
  },
  {
   "cell_type": "code",
   "execution_count": 55,
   "metadata": {
    "execution": {
     "iopub.execute_input": "2020-12-23T21:51:50.485388Z",
     "iopub.status.busy": "2020-12-23T21:51:50.484272Z",
     "iopub.status.idle": "2020-12-23T21:51:50.491159Z",
     "shell.execute_reply": "2020-12-23T21:51:50.491716Z"
    },
    "papermill": {
     "duration": 0.086523,
     "end_time": "2020-12-23T21:51:50.491854",
     "exception": false,
     "start_time": "2020-12-23T21:51:50.405331",
     "status": "completed"
    },
    "tags": []
   },
   "outputs": [
    {
     "data": {
      "text/plain": [
       "0.41666666666666674"
      ]
     },
     "execution_count": 55,
     "metadata": {},
     "output_type": "execute_result"
    }
   ],
   "source": [
    "f1_score(y_test,logit.predict(poly.transform(X_test)))"
   ]
  },
  {
   "cell_type": "markdown",
   "metadata": {
    "papermill": {
     "duration": 0.074514,
     "end_time": "2020-12-23T21:51:50.641256",
     "exception": false,
     "start_time": "2020-12-23T21:51:50.566742",
     "status": "completed"
    },
    "tags": []
   },
   "source": [
    "Подберём параметры для полиномиальной регрессии."
   ]
  },
  {
   "cell_type": "code",
   "execution_count": 56,
   "metadata": {
    "execution": {
     "iopub.execute_input": "2020-12-23T21:51:50.792949Z",
     "iopub.status.busy": "2020-12-23T21:51:50.792263Z",
     "iopub.status.idle": "2020-12-23T21:52:04.295012Z",
     "shell.execute_reply": "2020-12-23T21:52:04.294437Z"
    },
    "papermill": {
     "duration": 13.578922,
     "end_time": "2020-12-23T21:52:04.295153",
     "exception": false,
     "start_time": "2020-12-23T21:51:50.716231",
     "status": "completed"
    },
    "tags": []
   },
   "outputs": [
    {
     "name": "stdout",
     "output_type": "stream",
     "text": [
      "Best score: 0.7197660185981716 with param: {'C': 562.341325190349, 'fit_intercept': False, 'penalty': 'l2'}\n"
     ]
    }
   ],
   "source": [
    "from sklearn.linear_model import LogisticRegressionCV\n",
    "from sklearn.model_selection import StratifiedKFold\n",
    "from sklearn.model_selection import GridSearchCV\n",
    "\n",
    "c_values = np.logspace(-3, 3, 25)\n",
    "\n",
    "# define hyperparameters\n",
    "hyperparam_grid = {\"penalty\": [\"l1\", \"l2\"]\n",
    "                   ,\"C\": c_values\n",
    "                   ,\"fit_intercept\": [True, False]}\n",
    "# define evaluation procedure\n",
    "logit_searcher = GridSearchCV(logit,hyperparam_grid,scoring=\"roc_auc\", cv=5, n_jobs=-1, refit=True)\n",
    "logit_searcher.fit(poly.transform(X_train),y_train)\n",
    "print(f'Best score: {logit_searcher.best_score_} with param: {logit_searcher.best_params_}')"
   ]
  },
  {
   "cell_type": "code",
   "execution_count": 57,
   "metadata": {
    "execution": {
     "iopub.execute_input": "2020-12-23T21:52:04.452110Z",
     "iopub.status.busy": "2020-12-23T21:52:04.451213Z",
     "iopub.status.idle": "2020-12-23T21:52:04.454457Z",
     "shell.execute_reply": "2020-12-23T21:52:04.455199Z"
    },
    "papermill": {
     "duration": 0.084027,
     "end_time": "2020-12-23T21:52:04.455353",
     "exception": false,
     "start_time": "2020-12-23T21:52:04.371326",
     "status": "completed"
    },
    "tags": []
   },
   "outputs": [
    {
     "name": "stdout",
     "output_type": "stream",
     "text": [
      "{'C': 562.341325190349, 'fit_intercept': False, 'penalty': 'l2'}\n",
      "0.7197660185981716\n"
     ]
    }
   ],
   "source": [
    "print(logit_searcher.best_params_)\n",
    "print(logit_searcher.best_score_)"
   ]
  },
  {
   "cell_type": "code",
   "execution_count": 58,
   "metadata": {
    "execution": {
     "iopub.execute_input": "2020-12-23T21:52:04.636042Z",
     "iopub.status.busy": "2020-12-23T21:52:04.635027Z",
     "iopub.status.idle": "2020-12-23T21:52:04.959351Z",
     "shell.execute_reply": "2020-12-23T21:52:04.958654Z"
    },
    "papermill": {
     "duration": 0.428369,
     "end_time": "2020-12-23T21:52:04.959465",
     "exception": false,
     "start_time": "2020-12-23T21:52:04.531096",
     "status": "completed"
    },
    "tags": []
   },
   "outputs": [
    {
     "data": {
      "text/plain": [
       "LogisticRegression(C=562.341325190349, class_weight='balanced',\n",
       "                   fit_intercept=False, n_jobs=-1, random_state=26)"
      ]
     },
     "execution_count": 58,
     "metadata": {},
     "output_type": "execute_result"
    }
   ],
   "source": [
    "logit = LogisticRegression(C=562.341325190349,\n",
    "                           n_jobs=-1,\n",
    "                           random_state=26,\n",
    "                           fit_intercept = False,\n",
    "                           penalty = 'l2',\n",
    "                           class_weight = 'balanced')\n",
    "logit.fit(X_poly,y_train)\n"
   ]
  },
  {
   "cell_type": "code",
   "execution_count": 59,
   "metadata": {
    "execution": {
     "iopub.execute_input": "2020-12-23T21:52:05.123374Z",
     "iopub.status.busy": "2020-12-23T21:52:05.122317Z",
     "iopub.status.idle": "2020-12-23T21:52:05.134745Z",
     "shell.execute_reply": "2020-12-23T21:52:05.135326Z"
    },
    "papermill": {
     "duration": 0.095304,
     "end_time": "2020-12-23T21:52:05.135457",
     "exception": false,
     "start_time": "2020-12-23T21:52:05.040153",
     "status": "completed"
    },
    "tags": []
   },
   "outputs": [
    {
     "name": "stdout",
     "output_type": "stream",
     "text": [
      "0.6480446927374302\n",
      "0.613158359844468\n",
      "0.41666666666666674\n",
      "0.5487804878048781\n"
     ]
    }
   ],
   "source": [
    "#f1_score(y_test,logit.predict(poly.transform(X_test)))\n",
    "print(accuracy_score(y_test,logit.predict(poly.transform(X_test))))\n",
    "print(roc_auc_score(y_test,logit.predict(poly.transform(X_test))))\n",
    "print(f1_score(y_test,logit.predict(poly.transform(X_test))))\n",
    "print(recall_score(y_test,logit.predict(poly.transform(X_test))))"
   ]
  },
  {
   "cell_type": "markdown",
   "metadata": {
    "papermill": {
     "duration": 0.076899,
     "end_time": "2020-12-23T21:52:05.301263",
     "exception": false,
     "start_time": "2020-12-23T21:52:05.224364",
     "status": "completed"
    },
    "tags": []
   },
   "source": [
    "Полиномиальная регрессия показывает примерно такой же результат, что и линейная."
   ]
  },
  {
   "cell_type": "code",
   "execution_count": 60,
   "metadata": {
    "execution": {
     "iopub.execute_input": "2020-12-23T21:52:05.458247Z",
     "iopub.status.busy": "2020-12-23T21:52:05.457227Z",
     "iopub.status.idle": "2020-12-23T21:52:28.432311Z",
     "shell.execute_reply": "2020-12-23T21:52:28.431805Z"
    },
    "papermill": {
     "duration": 23.053974,
     "end_time": "2020-12-23T21:52:28.432435",
     "exception": false,
     "start_time": "2020-12-23T21:52:05.378461",
     "status": "completed"
    },
    "tags": []
   },
   "outputs": [
    {
     "data": {
      "text/plain": [
       "0.6185268646164723"
      ]
     },
     "execution_count": 60,
     "metadata": {},
     "output_type": "execute_result"
    }
   ],
   "source": [
    "from sklearn.ensemble import AdaBoostClassifier, GradientBoostingClassifier\n",
    "ab = AdaBoostClassifier(random_state=23, base_estimator=lr, n_estimators = 3000)\n",
    "ab.fit(X_train, y_train)\n",
    "y_pred = ab.predict(X_test)\n",
    "roc_auc_score(y_test, y_pred)\n",
    "#не помогло"
   ]
  },
  {
   "cell_type": "code",
   "execution_count": 61,
   "metadata": {
    "execution": {
     "iopub.execute_input": "2020-12-23T21:52:28.595590Z",
     "iopub.status.busy": "2020-12-23T21:52:28.594885Z",
     "iopub.status.idle": "2020-12-23T21:52:28.748982Z",
     "shell.execute_reply": "2020-12-23T21:52:28.749462Z"
    },
    "papermill": {
     "duration": 0.238953,
     "end_time": "2020-12-23T21:52:28.749643",
     "exception": false,
     "start_time": "2020-12-23T21:52:28.510690",
     "status": "completed"
    },
    "tags": []
   },
   "outputs": [
    {
     "data": {
      "text/plain": [
       "0.5808589607635207"
      ]
     },
     "execution_count": 61,
     "metadata": {},
     "output_type": "execute_result"
    }
   ],
   "source": [
    "from sklearn.neighbors import KNeighborsClassifier\n",
    "knn = KNeighborsClassifier(n_neighbors=5, n_jobs = -1)\n",
    "knn.fit(X_train,y_train)\n",
    "y_pred = knn.predict(X_test)\n",
    "roc_auc_score(y_test, y_pred)\n",
    "#не помогло"
   ]
  },
  {
   "cell_type": "code",
   "execution_count": 62,
   "metadata": {
    "execution": {
     "iopub.execute_input": "2020-12-23T21:52:28.914503Z",
     "iopub.status.busy": "2020-12-23T21:52:28.913507Z",
     "iopub.status.idle": "2020-12-23T21:52:28.970333Z",
     "shell.execute_reply": "2020-12-23T21:52:28.969778Z"
    },
    "papermill": {
     "duration": 0.142325,
     "end_time": "2020-12-23T21:52:28.970462",
     "exception": false,
     "start_time": "2020-12-23T21:52:28.828137",
     "status": "completed"
    },
    "tags": []
   },
   "outputs": [
    {
     "data": {
      "text/html": [
       "<div>\n",
       "<style scoped>\n",
       "    .dataframe tbody tr th:only-of-type {\n",
       "        vertical-align: middle;\n",
       "    }\n",
       "\n",
       "    .dataframe tbody tr th {\n",
       "        vertical-align: top;\n",
       "    }\n",
       "\n",
       "    .dataframe thead th {\n",
       "        text-align: right;\n",
       "    }\n",
       "</style>\n",
       "<table border=\"1\" class=\"dataframe\">\n",
       "  <thead>\n",
       "    <tr style=\"text-align: right;\">\n",
       "      <th></th>\n",
       "      <th>Customer Id</th>\n",
       "      <th>YearOfObservation</th>\n",
       "      <th>Insured_Period</th>\n",
       "      <th>Residential</th>\n",
       "      <th>Building_Painted</th>\n",
       "      <th>Building_Fenced</th>\n",
       "      <th>Garden</th>\n",
       "      <th>Settlement</th>\n",
       "      <th>Building Dimension</th>\n",
       "      <th>Building_Type</th>\n",
       "      <th>Date_of_Occupancy</th>\n",
       "      <th>NumberOfWindows</th>\n",
       "      <th>Geo_Code</th>\n",
       "    </tr>\n",
       "  </thead>\n",
       "  <tbody>\n",
       "    <tr>\n",
       "      <th>0</th>\n",
       "      <td>H11920</td>\n",
       "      <td>2013</td>\n",
       "      <td>1.000000</td>\n",
       "      <td>0</td>\n",
       "      <td>V</td>\n",
       "      <td>N</td>\n",
       "      <td>O</td>\n",
       "      <td>R</td>\n",
       "      <td>300.0</td>\n",
       "      <td>1</td>\n",
       "      <td>1960.0</td>\n",
       "      <td>3</td>\n",
       "      <td>3310</td>\n",
       "    </tr>\n",
       "    <tr>\n",
       "      <th>1</th>\n",
       "      <td>H11921</td>\n",
       "      <td>2016</td>\n",
       "      <td>0.997268</td>\n",
       "      <td>0</td>\n",
       "      <td>V</td>\n",
       "      <td>N</td>\n",
       "      <td>O</td>\n",
       "      <td>R</td>\n",
       "      <td>300.0</td>\n",
       "      <td>1</td>\n",
       "      <td>1960.0</td>\n",
       "      <td>3</td>\n",
       "      <td>3310</td>\n",
       "    </tr>\n",
       "    <tr>\n",
       "      <th>2</th>\n",
       "      <td>H9805</td>\n",
       "      <td>2013</td>\n",
       "      <td>0.369863</td>\n",
       "      <td>0</td>\n",
       "      <td>V</td>\n",
       "      <td>V</td>\n",
       "      <td>V</td>\n",
       "      <td>U</td>\n",
       "      <td>790.0</td>\n",
       "      <td>1</td>\n",
       "      <td>1960.0</td>\n",
       "      <td>.</td>\n",
       "      <td>3310</td>\n",
       "    </tr>\n",
       "    <tr>\n",
       "      <th>3</th>\n",
       "      <td>H7493</td>\n",
       "      <td>2014</td>\n",
       "      <td>1.000000</td>\n",
       "      <td>0</td>\n",
       "      <td>V</td>\n",
       "      <td>N</td>\n",
       "      <td>O</td>\n",
       "      <td>R</td>\n",
       "      <td>1405.0</td>\n",
       "      <td>1</td>\n",
       "      <td>2004.0</td>\n",
       "      <td>3</td>\n",
       "      <td>3321</td>\n",
       "    </tr>\n",
       "    <tr>\n",
       "      <th>4</th>\n",
       "      <td>H7494</td>\n",
       "      <td>2016</td>\n",
       "      <td>1.000000</td>\n",
       "      <td>0</td>\n",
       "      <td>V</td>\n",
       "      <td>N</td>\n",
       "      <td>O</td>\n",
       "      <td>R</td>\n",
       "      <td>1405.0</td>\n",
       "      <td>1</td>\n",
       "      <td>2004.0</td>\n",
       "      <td>3</td>\n",
       "      <td>3321</td>\n",
       "    </tr>\n",
       "    <tr>\n",
       "      <th>...</th>\n",
       "      <td>...</td>\n",
       "      <td>...</td>\n",
       "      <td>...</td>\n",
       "      <td>...</td>\n",
       "      <td>...</td>\n",
       "      <td>...</td>\n",
       "      <td>...</td>\n",
       "      <td>...</td>\n",
       "      <td>...</td>\n",
       "      <td>...</td>\n",
       "      <td>...</td>\n",
       "      <td>...</td>\n",
       "      <td>...</td>\n",
       "    </tr>\n",
       "    <tr>\n",
       "      <th>3064</th>\n",
       "      <td>H11583</td>\n",
       "      <td>2015</td>\n",
       "      <td>1.000000</td>\n",
       "      <td>0</td>\n",
       "      <td>V</td>\n",
       "      <td>V</td>\n",
       "      <td>V</td>\n",
       "      <td>U</td>\n",
       "      <td>NaN</td>\n",
       "      <td>4</td>\n",
       "      <td>1900.0</td>\n",
       "      <td>.</td>\n",
       "      <td>NaN</td>\n",
       "    </tr>\n",
       "    <tr>\n",
       "      <th>3065</th>\n",
       "      <td>H11720</td>\n",
       "      <td>2012</td>\n",
       "      <td>1.000000</td>\n",
       "      <td>0</td>\n",
       "      <td>V</td>\n",
       "      <td>V</td>\n",
       "      <td>V</td>\n",
       "      <td>U</td>\n",
       "      <td>NaN</td>\n",
       "      <td>2</td>\n",
       "      <td>1948.0</td>\n",
       "      <td>.</td>\n",
       "      <td>NaN</td>\n",
       "    </tr>\n",
       "    <tr>\n",
       "      <th>3066</th>\n",
       "      <td>H11721</td>\n",
       "      <td>2012</td>\n",
       "      <td>1.000000</td>\n",
       "      <td>0</td>\n",
       "      <td>V</td>\n",
       "      <td>V</td>\n",
       "      <td>V</td>\n",
       "      <td>U</td>\n",
       "      <td>NaN</td>\n",
       "      <td>2</td>\n",
       "      <td>1993.0</td>\n",
       "      <td>.</td>\n",
       "      <td>NaN</td>\n",
       "    </tr>\n",
       "    <tr>\n",
       "      <th>3067</th>\n",
       "      <td>H12408</td>\n",
       "      <td>2013</td>\n",
       "      <td>1.000000</td>\n",
       "      <td>0</td>\n",
       "      <td>V</td>\n",
       "      <td>V</td>\n",
       "      <td>V</td>\n",
       "      <td>U</td>\n",
       "      <td>NaN</td>\n",
       "      <td>1</td>\n",
       "      <td>1800.0</td>\n",
       "      <td>.</td>\n",
       "      <td>NaN</td>\n",
       "    </tr>\n",
       "    <tr>\n",
       "      <th>3068</th>\n",
       "      <td>H9021</td>\n",
       "      <td>2012</td>\n",
       "      <td>1.000000</td>\n",
       "      <td>0</td>\n",
       "      <td>V</td>\n",
       "      <td>V</td>\n",
       "      <td>V</td>\n",
       "      <td>U</td>\n",
       "      <td>NaN</td>\n",
       "      <td>2</td>\n",
       "      <td>1950.0</td>\n",
       "      <td>.</td>\n",
       "      <td>NaN</td>\n",
       "    </tr>\n",
       "  </tbody>\n",
       "</table>\n",
       "<p>3069 rows × 13 columns</p>\n",
       "</div>"
      ],
      "text/plain": [
       "     Customer Id  YearOfObservation  Insured_Period  Residential  \\\n",
       "0         H11920               2013        1.000000            0   \n",
       "1         H11921               2016        0.997268            0   \n",
       "2          H9805               2013        0.369863            0   \n",
       "3          H7493               2014        1.000000            0   \n",
       "4          H7494               2016        1.000000            0   \n",
       "...          ...                ...             ...          ...   \n",
       "3064      H11583               2015        1.000000            0   \n",
       "3065      H11720               2012        1.000000            0   \n",
       "3066      H11721               2012        1.000000            0   \n",
       "3067      H12408               2013        1.000000            0   \n",
       "3068       H9021               2012        1.000000            0   \n",
       "\n",
       "     Building_Painted Building_Fenced Garden Settlement  Building Dimension  \\\n",
       "0                   V               N      O          R               300.0   \n",
       "1                   V               N      O          R               300.0   \n",
       "2                   V               V      V          U               790.0   \n",
       "3                   V               N      O          R              1405.0   \n",
       "4                   V               N      O          R              1405.0   \n",
       "...               ...             ...    ...        ...                 ...   \n",
       "3064                V               V      V          U                 NaN   \n",
       "3065                V               V      V          U                 NaN   \n",
       "3066                V               V      V          U                 NaN   \n",
       "3067                V               V      V          U                 NaN   \n",
       "3068                V               V      V          U                 NaN   \n",
       "\n",
       "      Building_Type  Date_of_Occupancy NumberOfWindows Geo_Code  \n",
       "0                 1             1960.0               3     3310  \n",
       "1                 1             1960.0               3     3310  \n",
       "2                 1             1960.0               .     3310  \n",
       "3                 1             2004.0               3     3321  \n",
       "4                 1             2004.0               3     3321  \n",
       "...             ...                ...             ...      ...  \n",
       "3064              4             1900.0               .      NaN  \n",
       "3065              2             1948.0               .      NaN  \n",
       "3066              2             1993.0               .      NaN  \n",
       "3067              1             1800.0               .      NaN  \n",
       "3068              2             1950.0               .      NaN  \n",
       "\n",
       "[3069 rows x 13 columns]"
      ]
     },
     "execution_count": 62,
     "metadata": {},
     "output_type": "execute_result"
    }
   ],
   "source": [
    "df1 = pd.read_csv('/kaggle/input/ds-nigeria-2019-challenge-insurance-prediction/test_data.csv')\n",
    "df1"
   ]
  },
  {
   "cell_type": "markdown",
   "metadata": {
    "papermill": {
     "duration": 0.078675,
     "end_time": "2020-12-23T21:52:29.129047",
     "exception": false,
     "start_time": "2020-12-23T21:52:29.050372",
     "status": "completed"
    },
    "tags": []
   },
   "source": [
    "Теперь нам необходимо обработать тестовые данные так же как и обучающие."
   ]
  },
  {
   "cell_type": "code",
   "execution_count": 63,
   "metadata": {
    "execution": {
     "iopub.execute_input": "2020-12-23T21:52:29.313196Z",
     "iopub.status.busy": "2020-12-23T21:52:29.310190Z",
     "iopub.status.idle": "2020-12-23T21:52:29.354178Z",
     "shell.execute_reply": "2020-12-23T21:52:29.353530Z"
    },
    "papermill": {
     "duration": 0.144975,
     "end_time": "2020-12-23T21:52:29.354282",
     "exception": false,
     "start_time": "2020-12-23T21:52:29.209307",
     "status": "completed"
    },
    "tags": []
   },
   "outputs": [
    {
     "data": {
      "text/html": [
       "<div>\n",
       "<style scoped>\n",
       "    .dataframe tbody tr th:only-of-type {\n",
       "        vertical-align: middle;\n",
       "    }\n",
       "\n",
       "    .dataframe tbody tr th {\n",
       "        vertical-align: top;\n",
       "    }\n",
       "\n",
       "    .dataframe thead th {\n",
       "        text-align: right;\n",
       "    }\n",
       "</style>\n",
       "<table border=\"1\" class=\"dataframe\">\n",
       "  <thead>\n",
       "    <tr style=\"text-align: right;\">\n",
       "      <th></th>\n",
       "      <th>Customer Id</th>\n",
       "      <th>YearOfObservation</th>\n",
       "      <th>Insured_Period</th>\n",
       "      <th>Residential</th>\n",
       "      <th>Building_Painted</th>\n",
       "      <th>Building_Fenced</th>\n",
       "      <th>Building Dimension</th>\n",
       "      <th>Date_of_Occupancy</th>\n",
       "      <th>NumberOfWindows</th>\n",
       "      <th>Geo_Code</th>\n",
       "      <th>Building_Type_1</th>\n",
       "      <th>Building_Type_2</th>\n",
       "      <th>Building_Type_3</th>\n",
       "      <th>Building_Type_4</th>\n",
       "    </tr>\n",
       "  </thead>\n",
       "  <tbody>\n",
       "    <tr>\n",
       "      <th>0</th>\n",
       "      <td>H11920</td>\n",
       "      <td>7</td>\n",
       "      <td>1.000000</td>\n",
       "      <td>0</td>\n",
       "      <td>0</td>\n",
       "      <td>1</td>\n",
       "      <td>300.0</td>\n",
       "      <td>1960.0</td>\n",
       "      <td>3</td>\n",
       "      <td>3310</td>\n",
       "      <td>1</td>\n",
       "      <td>0</td>\n",
       "      <td>0</td>\n",
       "      <td>0</td>\n",
       "    </tr>\n",
       "    <tr>\n",
       "      <th>1</th>\n",
       "      <td>H11921</td>\n",
       "      <td>4</td>\n",
       "      <td>0.997268</td>\n",
       "      <td>0</td>\n",
       "      <td>0</td>\n",
       "      <td>1</td>\n",
       "      <td>300.0</td>\n",
       "      <td>1960.0</td>\n",
       "      <td>3</td>\n",
       "      <td>3310</td>\n",
       "      <td>1</td>\n",
       "      <td>0</td>\n",
       "      <td>0</td>\n",
       "      <td>0</td>\n",
       "    </tr>\n",
       "    <tr>\n",
       "      <th>2</th>\n",
       "      <td>H9805</td>\n",
       "      <td>7</td>\n",
       "      <td>0.369863</td>\n",
       "      <td>0</td>\n",
       "      <td>0</td>\n",
       "      <td>0</td>\n",
       "      <td>790.0</td>\n",
       "      <td>1960.0</td>\n",
       "      <td>4</td>\n",
       "      <td>3310</td>\n",
       "      <td>1</td>\n",
       "      <td>0</td>\n",
       "      <td>0</td>\n",
       "      <td>0</td>\n",
       "    </tr>\n",
       "    <tr>\n",
       "      <th>3</th>\n",
       "      <td>H7493</td>\n",
       "      <td>6</td>\n",
       "      <td>1.000000</td>\n",
       "      <td>0</td>\n",
       "      <td>0</td>\n",
       "      <td>1</td>\n",
       "      <td>1405.0</td>\n",
       "      <td>2004.0</td>\n",
       "      <td>3</td>\n",
       "      <td>3321</td>\n",
       "      <td>1</td>\n",
       "      <td>0</td>\n",
       "      <td>0</td>\n",
       "      <td>0</td>\n",
       "    </tr>\n",
       "    <tr>\n",
       "      <th>4</th>\n",
       "      <td>H7494</td>\n",
       "      <td>4</td>\n",
       "      <td>1.000000</td>\n",
       "      <td>0</td>\n",
       "      <td>0</td>\n",
       "      <td>1</td>\n",
       "      <td>1405.0</td>\n",
       "      <td>2004.0</td>\n",
       "      <td>3</td>\n",
       "      <td>3321</td>\n",
       "      <td>1</td>\n",
       "      <td>0</td>\n",
       "      <td>0</td>\n",
       "      <td>0</td>\n",
       "    </tr>\n",
       "    <tr>\n",
       "      <th>...</th>\n",
       "      <td>...</td>\n",
       "      <td>...</td>\n",
       "      <td>...</td>\n",
       "      <td>...</td>\n",
       "      <td>...</td>\n",
       "      <td>...</td>\n",
       "      <td>...</td>\n",
       "      <td>...</td>\n",
       "      <td>...</td>\n",
       "      <td>...</td>\n",
       "      <td>...</td>\n",
       "      <td>...</td>\n",
       "      <td>...</td>\n",
       "      <td>...</td>\n",
       "    </tr>\n",
       "    <tr>\n",
       "      <th>3064</th>\n",
       "      <td>H11583</td>\n",
       "      <td>5</td>\n",
       "      <td>1.000000</td>\n",
       "      <td>0</td>\n",
       "      <td>0</td>\n",
       "      <td>0</td>\n",
       "      <td>400.0</td>\n",
       "      <td>1900.0</td>\n",
       "      <td>4</td>\n",
       "      <td>6088</td>\n",
       "      <td>0</td>\n",
       "      <td>0</td>\n",
       "      <td>0</td>\n",
       "      <td>1</td>\n",
       "    </tr>\n",
       "    <tr>\n",
       "      <th>3065</th>\n",
       "      <td>H11720</td>\n",
       "      <td>8</td>\n",
       "      <td>1.000000</td>\n",
       "      <td>0</td>\n",
       "      <td>0</td>\n",
       "      <td>0</td>\n",
       "      <td>400.0</td>\n",
       "      <td>1948.0</td>\n",
       "      <td>4</td>\n",
       "      <td>6088</td>\n",
       "      <td>0</td>\n",
       "      <td>1</td>\n",
       "      <td>0</td>\n",
       "      <td>0</td>\n",
       "    </tr>\n",
       "    <tr>\n",
       "      <th>3066</th>\n",
       "      <td>H11721</td>\n",
       "      <td>8</td>\n",
       "      <td>1.000000</td>\n",
       "      <td>0</td>\n",
       "      <td>0</td>\n",
       "      <td>0</td>\n",
       "      <td>400.0</td>\n",
       "      <td>1993.0</td>\n",
       "      <td>4</td>\n",
       "      <td>6088</td>\n",
       "      <td>0</td>\n",
       "      <td>1</td>\n",
       "      <td>0</td>\n",
       "      <td>0</td>\n",
       "    </tr>\n",
       "    <tr>\n",
       "      <th>3067</th>\n",
       "      <td>H12408</td>\n",
       "      <td>7</td>\n",
       "      <td>1.000000</td>\n",
       "      <td>0</td>\n",
       "      <td>0</td>\n",
       "      <td>0</td>\n",
       "      <td>400.0</td>\n",
       "      <td>1800.0</td>\n",
       "      <td>4</td>\n",
       "      <td>6088</td>\n",
       "      <td>1</td>\n",
       "      <td>0</td>\n",
       "      <td>0</td>\n",
       "      <td>0</td>\n",
       "    </tr>\n",
       "    <tr>\n",
       "      <th>3068</th>\n",
       "      <td>H9021</td>\n",
       "      <td>8</td>\n",
       "      <td>1.000000</td>\n",
       "      <td>0</td>\n",
       "      <td>0</td>\n",
       "      <td>0</td>\n",
       "      <td>400.0</td>\n",
       "      <td>1950.0</td>\n",
       "      <td>4</td>\n",
       "      <td>6088</td>\n",
       "      <td>0</td>\n",
       "      <td>1</td>\n",
       "      <td>0</td>\n",
       "      <td>0</td>\n",
       "    </tr>\n",
       "  </tbody>\n",
       "</table>\n",
       "<p>3069 rows × 14 columns</p>\n",
       "</div>"
      ],
      "text/plain": [
       "     Customer Id  YearOfObservation  Insured_Period  Residential  \\\n",
       "0         H11920                  7        1.000000            0   \n",
       "1         H11921                  4        0.997268            0   \n",
       "2          H9805                  7        0.369863            0   \n",
       "3          H7493                  6        1.000000            0   \n",
       "4          H7494                  4        1.000000            0   \n",
       "...          ...                ...             ...          ...   \n",
       "3064      H11583                  5        1.000000            0   \n",
       "3065      H11720                  8        1.000000            0   \n",
       "3066      H11721                  8        1.000000            0   \n",
       "3067      H12408                  7        1.000000            0   \n",
       "3068       H9021                  8        1.000000            0   \n",
       "\n",
       "      Building_Painted  Building_Fenced  Building Dimension  \\\n",
       "0                    0                1               300.0   \n",
       "1                    0                1               300.0   \n",
       "2                    0                0               790.0   \n",
       "3                    0                1              1405.0   \n",
       "4                    0                1              1405.0   \n",
       "...                ...              ...                 ...   \n",
       "3064                 0                0               400.0   \n",
       "3065                 0                0               400.0   \n",
       "3066                 0                0               400.0   \n",
       "3067                 0                0               400.0   \n",
       "3068                 0                0               400.0   \n",
       "\n",
       "      Date_of_Occupancy NumberOfWindows Geo_Code  Building_Type_1  \\\n",
       "0                1960.0               3     3310                1   \n",
       "1                1960.0               3     3310                1   \n",
       "2                1960.0               4     3310                1   \n",
       "3                2004.0               3     3321                1   \n",
       "4                2004.0               3     3321                1   \n",
       "...                 ...             ...      ...              ...   \n",
       "3064             1900.0               4     6088                0   \n",
       "3065             1948.0               4     6088                0   \n",
       "3066             1993.0               4     6088                0   \n",
       "3067             1800.0               4     6088                1   \n",
       "3068             1950.0               4     6088                0   \n",
       "\n",
       "      Building_Type_2  Building_Type_3  Building_Type_4  \n",
       "0                   0                0                0  \n",
       "1                   0                0                0  \n",
       "2                   0                0                0  \n",
       "3                   0                0                0  \n",
       "4                   0                0                0  \n",
       "...               ...              ...              ...  \n",
       "3064                0                0                1  \n",
       "3065                1                0                0  \n",
       "3066                1                0                0  \n",
       "3067                0                0                0  \n",
       "3068                1                0                0  \n",
       "\n",
       "[3069 rows x 14 columns]"
      ]
     },
     "execution_count": 63,
     "metadata": {},
     "output_type": "execute_result"
    }
   ],
   "source": [
    "df1['NumberOfWindows'] = df1['NumberOfWindows'].replace('   .',4)\n",
    "df1['NumberOfWindows'] = df1['NumberOfWindows'].replace('>=10',10)\n",
    "df1['Building Dimension'] = df1['Building Dimension'].replace(np.nan,400)\n",
    "df1['Garden'] = df1['Garden'].replace(np.nan, 'O')\n",
    "df1['Date_of_Occupancy'] = df1['Date_of_Occupancy'].replace(np.nan, 1960)\n",
    "df1['Geo_Code'] = df1['Geo_Code'].replace(np.nan, '6088')\n",
    "df1['Settlement'] = df1['Settlement'].replace(\"R\",1) # Rural (сельская местность) - 1\n",
    "df1['Settlement'] = df1['Settlement'].replace(\"U\",0) # Urban - 0\n",
    "df1['Garden'] = df1['Garden'].replace(\"V\",1) # has garden\n",
    "df1['Garden'] = df1['Garden'].replace(\"O\",0) # no garden\n",
    "df1['Building_Fenced'] = df1['Building_Fenced'].replace(\"N\",1) # has fence\n",
    "df1['Building_Fenced'] = df1['Building_Fenced'].replace(\"V\",0) # no fence\n",
    "df1['Building_Painted'] = df1['Building_Painted'].replace(\"N\",1) # painted\n",
    "df1['Building_Painted'] = df1['Building_Painted'].replace(\"V\",0) # not painted\n",
    "df1['YearOfObservation'] = 2020-df1['YearOfObservation']\n",
    "df1 = df1.drop(columns=['Garden',\n",
    "                     'Settlement'])\n",
    "df1 = pd.get_dummies(df1, columns=['Building_Type'])\n",
    "df1"
   ]
  },
  {
   "cell_type": "code",
   "execution_count": 64,
   "metadata": {
    "execution": {
     "iopub.execute_input": "2020-12-23T21:52:29.517184Z",
     "iopub.status.busy": "2020-12-23T21:52:29.516578Z",
     "iopub.status.idle": "2020-12-23T21:52:29.543259Z",
     "shell.execute_reply": "2020-12-23T21:52:29.542766Z"
    },
    "papermill": {
     "duration": 0.109477,
     "end_time": "2020-12-23T21:52:29.543365",
     "exception": false,
     "start_time": "2020-12-23T21:52:29.433888",
     "status": "completed"
    },
    "tags": []
   },
   "outputs": [
    {
     "data": {
      "text/html": [
       "<div>\n",
       "<style scoped>\n",
       "    .dataframe tbody tr th:only-of-type {\n",
       "        vertical-align: middle;\n",
       "    }\n",
       "\n",
       "    .dataframe tbody tr th {\n",
       "        vertical-align: top;\n",
       "    }\n",
       "\n",
       "    .dataframe thead th {\n",
       "        text-align: right;\n",
       "    }\n",
       "</style>\n",
       "<table border=\"1\" class=\"dataframe\">\n",
       "  <thead>\n",
       "    <tr style=\"text-align: right;\">\n",
       "      <th></th>\n",
       "      <th>Customer Id</th>\n",
       "      <th>YearOfObservation</th>\n",
       "      <th>Insured_Period</th>\n",
       "      <th>Residential</th>\n",
       "      <th>Building_Painted</th>\n",
       "      <th>Building_Fenced</th>\n",
       "      <th>Building Dimension</th>\n",
       "      <th>Date_of_Occupancy</th>\n",
       "      <th>NumberOfWindows</th>\n",
       "      <th>Building_Type_1</th>\n",
       "      <th>Building_Type_2</th>\n",
       "      <th>Building_Type_3</th>\n",
       "      <th>Building_Type_4</th>\n",
       "    </tr>\n",
       "  </thead>\n",
       "  <tbody>\n",
       "    <tr>\n",
       "      <th>0</th>\n",
       "      <td>H11920</td>\n",
       "      <td>7</td>\n",
       "      <td>1.000000</td>\n",
       "      <td>0</td>\n",
       "      <td>0</td>\n",
       "      <td>1</td>\n",
       "      <td>300.0</td>\n",
       "      <td>1960.0</td>\n",
       "      <td>3</td>\n",
       "      <td>1</td>\n",
       "      <td>0</td>\n",
       "      <td>0</td>\n",
       "      <td>0</td>\n",
       "    </tr>\n",
       "    <tr>\n",
       "      <th>1</th>\n",
       "      <td>H11921</td>\n",
       "      <td>4</td>\n",
       "      <td>0.997268</td>\n",
       "      <td>0</td>\n",
       "      <td>0</td>\n",
       "      <td>1</td>\n",
       "      <td>300.0</td>\n",
       "      <td>1960.0</td>\n",
       "      <td>3</td>\n",
       "      <td>1</td>\n",
       "      <td>0</td>\n",
       "      <td>0</td>\n",
       "      <td>0</td>\n",
       "    </tr>\n",
       "    <tr>\n",
       "      <th>2</th>\n",
       "      <td>H9805</td>\n",
       "      <td>7</td>\n",
       "      <td>0.369863</td>\n",
       "      <td>0</td>\n",
       "      <td>0</td>\n",
       "      <td>0</td>\n",
       "      <td>790.0</td>\n",
       "      <td>1960.0</td>\n",
       "      <td>4</td>\n",
       "      <td>1</td>\n",
       "      <td>0</td>\n",
       "      <td>0</td>\n",
       "      <td>0</td>\n",
       "    </tr>\n",
       "    <tr>\n",
       "      <th>3</th>\n",
       "      <td>H7493</td>\n",
       "      <td>6</td>\n",
       "      <td>1.000000</td>\n",
       "      <td>0</td>\n",
       "      <td>0</td>\n",
       "      <td>1</td>\n",
       "      <td>1405.0</td>\n",
       "      <td>2004.0</td>\n",
       "      <td>3</td>\n",
       "      <td>1</td>\n",
       "      <td>0</td>\n",
       "      <td>0</td>\n",
       "      <td>0</td>\n",
       "    </tr>\n",
       "    <tr>\n",
       "      <th>4</th>\n",
       "      <td>H7494</td>\n",
       "      <td>4</td>\n",
       "      <td>1.000000</td>\n",
       "      <td>0</td>\n",
       "      <td>0</td>\n",
       "      <td>1</td>\n",
       "      <td>1405.0</td>\n",
       "      <td>2004.0</td>\n",
       "      <td>3</td>\n",
       "      <td>1</td>\n",
       "      <td>0</td>\n",
       "      <td>0</td>\n",
       "      <td>0</td>\n",
       "    </tr>\n",
       "    <tr>\n",
       "      <th>...</th>\n",
       "      <td>...</td>\n",
       "      <td>...</td>\n",
       "      <td>...</td>\n",
       "      <td>...</td>\n",
       "      <td>...</td>\n",
       "      <td>...</td>\n",
       "      <td>...</td>\n",
       "      <td>...</td>\n",
       "      <td>...</td>\n",
       "      <td>...</td>\n",
       "      <td>...</td>\n",
       "      <td>...</td>\n",
       "      <td>...</td>\n",
       "    </tr>\n",
       "    <tr>\n",
       "      <th>3064</th>\n",
       "      <td>H11583</td>\n",
       "      <td>5</td>\n",
       "      <td>1.000000</td>\n",
       "      <td>0</td>\n",
       "      <td>0</td>\n",
       "      <td>0</td>\n",
       "      <td>400.0</td>\n",
       "      <td>1900.0</td>\n",
       "      <td>4</td>\n",
       "      <td>0</td>\n",
       "      <td>0</td>\n",
       "      <td>0</td>\n",
       "      <td>1</td>\n",
       "    </tr>\n",
       "    <tr>\n",
       "      <th>3065</th>\n",
       "      <td>H11720</td>\n",
       "      <td>8</td>\n",
       "      <td>1.000000</td>\n",
       "      <td>0</td>\n",
       "      <td>0</td>\n",
       "      <td>0</td>\n",
       "      <td>400.0</td>\n",
       "      <td>1948.0</td>\n",
       "      <td>4</td>\n",
       "      <td>0</td>\n",
       "      <td>1</td>\n",
       "      <td>0</td>\n",
       "      <td>0</td>\n",
       "    </tr>\n",
       "    <tr>\n",
       "      <th>3066</th>\n",
       "      <td>H11721</td>\n",
       "      <td>8</td>\n",
       "      <td>1.000000</td>\n",
       "      <td>0</td>\n",
       "      <td>0</td>\n",
       "      <td>0</td>\n",
       "      <td>400.0</td>\n",
       "      <td>1993.0</td>\n",
       "      <td>4</td>\n",
       "      <td>0</td>\n",
       "      <td>1</td>\n",
       "      <td>0</td>\n",
       "      <td>0</td>\n",
       "    </tr>\n",
       "    <tr>\n",
       "      <th>3067</th>\n",
       "      <td>H12408</td>\n",
       "      <td>7</td>\n",
       "      <td>1.000000</td>\n",
       "      <td>0</td>\n",
       "      <td>0</td>\n",
       "      <td>0</td>\n",
       "      <td>400.0</td>\n",
       "      <td>1800.0</td>\n",
       "      <td>4</td>\n",
       "      <td>1</td>\n",
       "      <td>0</td>\n",
       "      <td>0</td>\n",
       "      <td>0</td>\n",
       "    </tr>\n",
       "    <tr>\n",
       "      <th>3068</th>\n",
       "      <td>H9021</td>\n",
       "      <td>8</td>\n",
       "      <td>1.000000</td>\n",
       "      <td>0</td>\n",
       "      <td>0</td>\n",
       "      <td>0</td>\n",
       "      <td>400.0</td>\n",
       "      <td>1950.0</td>\n",
       "      <td>4</td>\n",
       "      <td>0</td>\n",
       "      <td>1</td>\n",
       "      <td>0</td>\n",
       "      <td>0</td>\n",
       "    </tr>\n",
       "  </tbody>\n",
       "</table>\n",
       "<p>3069 rows × 13 columns</p>\n",
       "</div>"
      ],
      "text/plain": [
       "     Customer Id  YearOfObservation  Insured_Period  Residential  \\\n",
       "0         H11920                  7        1.000000            0   \n",
       "1         H11921                  4        0.997268            0   \n",
       "2          H9805                  7        0.369863            0   \n",
       "3          H7493                  6        1.000000            0   \n",
       "4          H7494                  4        1.000000            0   \n",
       "...          ...                ...             ...          ...   \n",
       "3064      H11583                  5        1.000000            0   \n",
       "3065      H11720                  8        1.000000            0   \n",
       "3066      H11721                  8        1.000000            0   \n",
       "3067      H12408                  7        1.000000            0   \n",
       "3068       H9021                  8        1.000000            0   \n",
       "\n",
       "      Building_Painted  Building_Fenced  Building Dimension  \\\n",
       "0                    0                1               300.0   \n",
       "1                    0                1               300.0   \n",
       "2                    0                0               790.0   \n",
       "3                    0                1              1405.0   \n",
       "4                    0                1              1405.0   \n",
       "...                ...              ...                 ...   \n",
       "3064                 0                0               400.0   \n",
       "3065                 0                0               400.0   \n",
       "3066                 0                0               400.0   \n",
       "3067                 0                0               400.0   \n",
       "3068                 0                0               400.0   \n",
       "\n",
       "      Date_of_Occupancy NumberOfWindows  Building_Type_1  Building_Type_2  \\\n",
       "0                1960.0               3                1                0   \n",
       "1                1960.0               3                1                0   \n",
       "2                1960.0               4                1                0   \n",
       "3                2004.0               3                1                0   \n",
       "4                2004.0               3                1                0   \n",
       "...                 ...             ...              ...              ...   \n",
       "3064             1900.0               4                0                0   \n",
       "3065             1948.0               4                0                1   \n",
       "3066             1993.0               4                0                1   \n",
       "3067             1800.0               4                1                0   \n",
       "3068             1950.0               4                0                1   \n",
       "\n",
       "      Building_Type_3  Building_Type_4  \n",
       "0                   0                0  \n",
       "1                   0                0  \n",
       "2                   0                0  \n",
       "3                   0                0  \n",
       "4                   0                0  \n",
       "...               ...              ...  \n",
       "3064                0                1  \n",
       "3065                0                0  \n",
       "3066                0                0  \n",
       "3067                0                0  \n",
       "3068                0                0  \n",
       "\n",
       "[3069 rows x 13 columns]"
      ]
     },
     "execution_count": 64,
     "metadata": {},
     "output_type": "execute_result"
    }
   ],
   "source": [
    "df1 = df1.drop(['Geo_Code'],axis=1)\n",
    "df1"
   ]
  },
  {
   "cell_type": "code",
   "execution_count": 65,
   "metadata": {
    "execution": {
     "iopub.execute_input": "2020-12-23T21:52:29.713963Z",
     "iopub.status.busy": "2020-12-23T21:52:29.711322Z",
     "iopub.status.idle": "2020-12-23T21:52:31.097777Z",
     "shell.execute_reply": "2020-12-23T21:52:31.098441Z"
    },
    "papermill": {
     "duration": 1.475047,
     "end_time": "2020-12-23T21:52:31.098629",
     "exception": false,
     "start_time": "2020-12-23T21:52:29.623582",
     "status": "completed"
    },
    "tags": []
   },
   "outputs": [],
   "source": [
    "X1 = df1.drop(['Customer Id'],axis=1)\n",
    "X1 = StandardScaler().fit_transform(X1)\n",
    "y_pred1 = ab.predict(X1)\n",
    "df_result = pd.DataFrame()\n",
    "df_result['Customer Id'] = df1['Customer Id']\n",
    "df_result['Claim'] = y_pred1\n"
   ]
  },
  {
   "cell_type": "code",
   "execution_count": 66,
   "metadata": {
    "execution": {
     "iopub.execute_input": "2020-12-23T21:52:31.276498Z",
     "iopub.status.busy": "2020-12-23T21:52:31.275665Z",
     "iopub.status.idle": "2020-12-23T21:52:31.279046Z",
     "shell.execute_reply": "2020-12-23T21:52:31.279521Z"
    },
    "papermill": {
     "duration": 0.095636,
     "end_time": "2020-12-23T21:52:31.279686",
     "exception": false,
     "start_time": "2020-12-23T21:52:31.184050",
     "status": "completed"
    },
    "tags": []
   },
   "outputs": [
    {
     "data": {
      "text/html": [
       "<div>\n",
       "<style scoped>\n",
       "    .dataframe tbody tr th:only-of-type {\n",
       "        vertical-align: middle;\n",
       "    }\n",
       "\n",
       "    .dataframe tbody tr th {\n",
       "        vertical-align: top;\n",
       "    }\n",
       "\n",
       "    .dataframe thead th {\n",
       "        text-align: right;\n",
       "    }\n",
       "</style>\n",
       "<table border=\"1\" class=\"dataframe\">\n",
       "  <thead>\n",
       "    <tr style=\"text-align: right;\">\n",
       "      <th></th>\n",
       "      <th>Customer Id</th>\n",
       "      <th>Claim</th>\n",
       "    </tr>\n",
       "  </thead>\n",
       "  <tbody>\n",
       "    <tr>\n",
       "      <th>0</th>\n",
       "      <td>H11920</td>\n",
       "      <td>0</td>\n",
       "    </tr>\n",
       "    <tr>\n",
       "      <th>1</th>\n",
       "      <td>H11921</td>\n",
       "      <td>0</td>\n",
       "    </tr>\n",
       "    <tr>\n",
       "      <th>2</th>\n",
       "      <td>H9805</td>\n",
       "      <td>0</td>\n",
       "    </tr>\n",
       "    <tr>\n",
       "      <th>3</th>\n",
       "      <td>H7493</td>\n",
       "      <td>0</td>\n",
       "    </tr>\n",
       "    <tr>\n",
       "      <th>4</th>\n",
       "      <td>H7494</td>\n",
       "      <td>0</td>\n",
       "    </tr>\n",
       "    <tr>\n",
       "      <th>...</th>\n",
       "      <td>...</td>\n",
       "      <td>...</td>\n",
       "    </tr>\n",
       "    <tr>\n",
       "      <th>3064</th>\n",
       "      <td>H11583</td>\n",
       "      <td>1</td>\n",
       "    </tr>\n",
       "    <tr>\n",
       "      <th>3065</th>\n",
       "      <td>H11720</td>\n",
       "      <td>0</td>\n",
       "    </tr>\n",
       "    <tr>\n",
       "      <th>3066</th>\n",
       "      <td>H11721</td>\n",
       "      <td>0</td>\n",
       "    </tr>\n",
       "    <tr>\n",
       "      <th>3067</th>\n",
       "      <td>H12408</td>\n",
       "      <td>0</td>\n",
       "    </tr>\n",
       "    <tr>\n",
       "      <th>3068</th>\n",
       "      <td>H9021</td>\n",
       "      <td>0</td>\n",
       "    </tr>\n",
       "  </tbody>\n",
       "</table>\n",
       "<p>3069 rows × 2 columns</p>\n",
       "</div>"
      ],
      "text/plain": [
       "     Customer Id  Claim\n",
       "0         H11920      0\n",
       "1         H11921      0\n",
       "2          H9805      0\n",
       "3          H7493      0\n",
       "4          H7494      0\n",
       "...          ...    ...\n",
       "3064      H11583      1\n",
       "3065      H11720      0\n",
       "3066      H11721      0\n",
       "3067      H12408      0\n",
       "3068       H9021      0\n",
       "\n",
       "[3069 rows x 2 columns]"
      ]
     },
     "execution_count": 66,
     "metadata": {},
     "output_type": "execute_result"
    }
   ],
   "source": [
    "df_result"
   ]
  },
  {
   "cell_type": "code",
   "execution_count": 67,
   "metadata": {
    "execution": {
     "iopub.execute_input": "2020-12-23T21:52:31.445517Z",
     "iopub.status.busy": "2020-12-23T21:52:31.444895Z",
     "iopub.status.idle": "2020-12-23T21:52:31.715188Z",
     "shell.execute_reply": "2020-12-23T21:52:31.714610Z"
    },
    "papermill": {
     "duration": 0.354438,
     "end_time": "2020-12-23T21:52:31.715297",
     "exception": false,
     "start_time": "2020-12-23T21:52:31.360859",
     "status": "completed"
    },
    "tags": []
   },
   "outputs": [],
   "source": [
    "df_result.to_csv('submit9.csv', index=False)"
   ]
  },
  {
   "attachments": {
    "image.png": {
     "image/png": "[encoded data removed]"
    }
   },
   "cell_type": "markdown",
   "metadata": {
    "papermill": {
     "duration": 0.080723,
     "end_time": "2020-12-23T21:52:31.878415",
     "exception": false,
     "start_time": "2020-12-23T21:52:31.797692",
     "status": "completed"
    },
    "tags": []
   },
   "source": [
    "Логистическая регрессия: ![image.png](attachment:image.png)"
   ]
  },
  {
   "attachments": {
    "image.png": {
     "image/png": "[encoded data removed]"
    }
   },
   "cell_type": "markdown",
   "metadata": {
    "papermill": {
     "duration": 0.082611,
     "end_time": "2020-12-23T21:52:32.042189",
     "exception": false,
     "start_time": "2020-12-23T21:52:31.959578",
     "status": "completed"
    },
    "tags": []
   },
   "source": [
    "Полиномиальная регрессия: ![image.png](attachment:image.png)"
   ]
  },
  {
   "attachments": {
    "image.png": {
     "image/png": "[encoded data removed]"
    }
   },
   "cell_type": "markdown",
   "metadata": {
    "papermill": {
     "duration": 0.082577,
     "end_time": "2020-12-23T21:52:32.205627",
     "exception": false,
     "start_time": "2020-12-23T21:52:32.123050",
     "status": "completed"
    },
    "tags": []
   },
   "source": [
    "Адаптивный бустинг: ![image.png](attachment:image.png)"
   ]
  }
 ],
 "metadata": {
  "kernelspec": {
   "display_name": "Python 3 (ipykernel)",
   "language": "python",
   "name": "python3"
  },
  "language_info": {
   "codemirror_mode": {
    "name": "ipython",
    "version": 3
   },
   "file_extension": ".py",
   "mimetype": "text/x-python",
   "name": "python",
   "nbconvert_exporter": "python",
   "pygments_lexer": "ipython3",
   "version": "3.9.7"
  },
  "papermill": {
   "duration": 61.630701,
   "end_time": "2020-12-23T21:52:32.397753",
   "environment_variables": {},
   "exception": null,
   "input_path": "__notebook__.ipynb",
   "output_path": "__notebook__.ipynb",
   "parameters": {},
   "start_time": "2020-12-23T21:51:30.767052",
   "version": "2.1.0"
  }
 },
 "nbformat": 4,
 "nbformat_minor": 4
}
